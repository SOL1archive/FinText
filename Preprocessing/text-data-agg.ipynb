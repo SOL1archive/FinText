{
 "cells": [
  {
   "cell_type": "code",
   "execution_count": 1,
   "metadata": {},
   "outputs": [],
   "source": [
    "import pandas as pd\n",
    "\n",
    "from sklearn.preprocessing import MinMaxScaler, StandardScaler"
   ]
  },
  {
   "cell_type": "code",
   "execution_count": 2,
   "metadata": {},
   "outputs": [],
   "source": [
    "df_community = pd.read_excel('../data-dir/kakao-community-data.xlsx', sheet_name='community')"
   ]
  },
  {
   "cell_type": "code",
   "execution_count": 3,
   "metadata": {},
   "outputs": [],
   "source": [
    "df_community = df_community.iloc[::-1].reset_index().drop('index', axis=1)"
   ]
  },
  {
   "attachments": {},
   "cell_type": "markdown",
   "metadata": {},
   "source": [
    "## Drop & Rename Columns"
   ]
  },
  {
   "cell_type": "code",
   "execution_count": 4,
   "metadata": {},
   "outputs": [],
   "source": [
    "df_community = df_community.drop(['article_no'], axis=1)\n",
    "df_community = df_community.rename(columns={'body': 'article', 'published_datetime': 'Date'})"
   ]
  },
  {
   "cell_type": "code",
   "execution_count": 5,
   "metadata": {},
   "outputs": [
    {
     "data": {
      "text/html": [
       "<div>\n",
       "<style scoped>\n",
       "    .dataframe tbody tr th:only-of-type {\n",
       "        vertical-align: middle;\n",
       "    }\n",
       "\n",
       "    .dataframe tbody tr th {\n",
       "        vertical-align: top;\n",
       "    }\n",
       "\n",
       "    .dataframe thead th {\n",
       "        text-align: right;\n",
       "    }\n",
       "</style>\n",
       "<table border=\"1\" class=\"dataframe\">\n",
       "  <thead>\n",
       "    <tr style=\"text-align: right;\">\n",
       "      <th></th>\n",
       "      <th>title</th>\n",
       "      <th>Date</th>\n",
       "      <th>article</th>\n",
       "      <th>view</th>\n",
       "      <th>good</th>\n",
       "      <th>bad</th>\n",
       "    </tr>\n",
       "  </thead>\n",
       "  <tbody>\n",
       "    <tr>\n",
       "      <th>0</th>\n",
       "      <td>카카오 쓰레기여도 8백억 거래하네?</td>\n",
       "      <td>2023-01-06 22:10:00</td>\n",
       "      <td>돈 앞에 그런거 없다 ㅋㅋㅋ</td>\n",
       "      <td>529</td>\n",
       "      <td>3</td>\n",
       "      <td>0</td>\n",
       "    </tr>\n",
       "    <tr>\n",
       "      <th>1</th>\n",
       "      <td>씨레기 기업</td>\n",
       "      <td>2023-01-06 23:25:00</td>\n",
       "      <td>ㅋㅋ 누가삼? 사람들 등돌린다</td>\n",
       "      <td>187</td>\n",
       "      <td>1</td>\n",
       "      <td>2</td>\n",
       "    </tr>\n",
       "    <tr>\n",
       "      <th>2</th>\n",
       "      <td>정말, 알다가도 모르겠네.</td>\n",
       "      <td>2023-01-07 19:51:00</td>\n",
       "      <td>니미한테 물어봐 ?n모른다면  니비한테 물어보고 nOOO ?n</td>\n",
       "      <td>34</td>\n",
       "      <td>0</td>\n",
       "      <td>0</td>\n",
       "    </tr>\n",
       "    <tr>\n",
       "      <th>3</th>\n",
       "      <td>정말, 알다가도 모르겠네.</td>\n",
       "      <td>2023-01-06 23:44:00</td>\n",
       "      <td>정말, 알다가도 모르겠네.nn n n n왜 이재명은,n불륜을 맺지 않았다고 부인하면...</td>\n",
       "      <td>698</td>\n",
       "      <td>10</td>\n",
       "      <td>12</td>\n",
       "    </tr>\n",
       "    <tr>\n",
       "      <th>4</th>\n",
       "      <td>카카오 유턴 상승 장기 롱런</td>\n",
       "      <td>2023-01-07 01:24:00</td>\n",
       "      <td>드디어n미국의 서비스 산업 활동이 수요 약화 속에서 2년 반 이상 만에 처음으로 위...</td>\n",
       "      <td>1146</td>\n",
       "      <td>6</td>\n",
       "      <td>0</td>\n",
       "    </tr>\n",
       "  </tbody>\n",
       "</table>\n",
       "</div>"
      ],
      "text/plain": [
       "                 title                Date  \\\n",
       "0  카카오 쓰레기여도 8백억 거래하네? 2023-01-06 22:10:00   \n",
       "1               씨레기 기업 2023-01-06 23:25:00   \n",
       "2       정말, 알다가도 모르겠네. 2023-01-07 19:51:00   \n",
       "3       정말, 알다가도 모르겠네. 2023-01-06 23:44:00   \n",
       "4      카카오 유턴 상승 장기 롱런 2023-01-07 01:24:00   \n",
       "\n",
       "                                             article  view  good  bad  \n",
       "0                                    돈 앞에 그런거 없다 ㅋㅋㅋ   529     3    0  \n",
       "1                                  ㅋㅋ 누가삼? 사람들 등돌린다    187     1    2  \n",
       "2                 니미한테 물어봐 ?n모른다면  니비한테 물어보고 nOOO ?n    34     0    0  \n",
       "3  정말, 알다가도 모르겠네.nn n n n왜 이재명은,n불륜을 맺지 않았다고 부인하면...   698    10   12  \n",
       "4  드디어n미국의 서비스 산업 활동이 수요 약화 속에서 2년 반 이상 만에 처음으로 위...  1146     6    0  "
      ]
     },
     "execution_count": 5,
     "metadata": {},
     "output_type": "execute_result"
    }
   ],
   "source": [
    "df_community.head()"
   ]
  },
  {
   "attachments": {},
   "cell_type": "markdown",
   "metadata": {},
   "source": [
    "## Cleaning Data"
   ]
  },
  {
   "attachments": {},
   "cell_type": "markdown",
   "metadata": {},
   "source": [
    "### Community\n",
    "커뮤니티 게시글에 대한 전처리는 답이 안보임."
   ]
  },
  {
   "cell_type": "code",
   "execution_count": 6,
   "metadata": {},
   "outputs": [
    {
     "name": "stderr",
     "output_type": "stream",
     "text": [
      "/tmp/ipykernel_5275/4108072987.py:1: FutureWarning: The default value of regex will change from True to False in a future version.\n",
      "  df_community['title'] = df_community['title'].str.replace('(?:www\\.)?[-a-zA-Z0-9@:%._\\+~#=]{1,256}\\.[a-zA-Z0-9()]{1,6}\\b(?:[-a-zA-Z0-9()@:%_\\+.~#?&\\/=]*)', '')\n",
      "/tmp/ipykernel_5275/4108072987.py:2: FutureWarning: The default value of regex will change from True to False in a future version.\n",
      "  df_community['title'] = df_community['title'].str.replace('\\[.*?\\]', '')\n"
     ]
    }
   ],
   "source": [
    "df_community['title'] = df_community['title'].str.replace('(?:www\\.)?[-a-zA-Z0-9@:%._\\+~#=]{1,256}\\.[a-zA-Z0-9()]{1,6}\\b(?:[-a-zA-Z0-9()@:%_\\+.~#?&\\/=]*)', '')\n",
    "df_community['title'] = df_community['title'].str.replace('\\[.*?\\]', '')\n",
    "df_community['title'] = df_community['title'].str.strip()"
   ]
  },
  {
   "cell_type": "code",
   "execution_count": 7,
   "metadata": {},
   "outputs": [
    {
     "name": "stderr",
     "output_type": "stream",
     "text": [
      "/tmp/ipykernel_5275/657444222.py:1: FutureWarning: The default value of regex will change from True to False in a future version.\n",
      "  df_community['article'] = df_community['article'].str.replace('(?:www\\.)?[-a-zA-Z0-9@:%._\\+~#=]{1,256}\\.[a-zA-Z0-9()]{1,6}\\b(?:[-a-zA-Z0-9()@:%_\\+.~#?&\\/=]*)', '')\n",
      "/tmp/ipykernel_5275/657444222.py:2: FutureWarning: The default value of regex will change from True to False in a future version.\n",
      "  df_community['article'] = df_community['article'].str.replace('^n', '')\n",
      "/tmp/ipykernel_5275/657444222.py:3: FutureWarning: The default value of regex will change from True to False in a future version.\n",
      "  df_community['article'] = df_community['article'].str.replace('n(?![a-zA-Z ])', '')\n"
     ]
    }
   ],
   "source": [
    "df_community['article'] = df_community['article'].str.replace('(?:www\\.)?[-a-zA-Z0-9@:%._\\+~#=]{1,256}\\.[a-zA-Z0-9()]{1,6}\\b(?:[-a-zA-Z0-9()@:%_\\+.~#?&\\/=]*)', '')\n",
    "df_community['article'] = df_community['article'].str.replace('^n', '')\n",
    "df_community['article'] = df_community['article'].str.replace('n(?![a-zA-Z ])', '')\n",
    "df_community['article'] = df_community['article'].str.strip()"
   ]
  },
  {
   "attachments": {},
   "cell_type": "markdown",
   "metadata": {},
   "source": [
    "## Concating Strings"
   ]
  },
  {
   "cell_type": "code",
   "execution_count": 9,
   "metadata": {},
   "outputs": [],
   "source": [
    "df_community['text'] = df_community['title'].str.cat(df_community['article'])\n",
    "df_community = df_community.drop(['title', 'article'], axis=1)"
   ]
  },
  {
   "cell_type": "code",
   "execution_count": 10,
   "metadata": {},
   "outputs": [
    {
     "data": {
      "text/html": [
       "<div>\n",
       "<style scoped>\n",
       "    .dataframe tbody tr th:only-of-type {\n",
       "        vertical-align: middle;\n",
       "    }\n",
       "\n",
       "    .dataframe tbody tr th {\n",
       "        vertical-align: top;\n",
       "    }\n",
       "\n",
       "    .dataframe thead th {\n",
       "        text-align: right;\n",
       "    }\n",
       "</style>\n",
       "<table border=\"1\" class=\"dataframe\">\n",
       "  <thead>\n",
       "    <tr style=\"text-align: right;\">\n",
       "      <th></th>\n",
       "      <th>Date</th>\n",
       "      <th>view</th>\n",
       "      <th>good</th>\n",
       "      <th>bad</th>\n",
       "      <th>text</th>\n",
       "    </tr>\n",
       "  </thead>\n",
       "  <tbody>\n",
       "    <tr>\n",
       "      <th>0</th>\n",
       "      <td>2023-01-06 22:10:00</td>\n",
       "      <td>529</td>\n",
       "      <td>3</td>\n",
       "      <td>0</td>\n",
       "      <td>카카오 쓰레기여도 8백억 거래하네?돈 앞에 그런거 없다 ㅋㅋㅋ</td>\n",
       "    </tr>\n",
       "    <tr>\n",
       "      <th>1</th>\n",
       "      <td>2023-01-06 23:25:00</td>\n",
       "      <td>187</td>\n",
       "      <td>1</td>\n",
       "      <td>2</td>\n",
       "      <td>씨레기 기업ㅋㅋ 누가삼? 사람들 등돌린다</td>\n",
       "    </tr>\n",
       "    <tr>\n",
       "      <th>2</th>\n",
       "      <td>2023-01-07 19:51:00</td>\n",
       "      <td>34</td>\n",
       "      <td>0</td>\n",
       "      <td>0</td>\n",
       "      <td>정말, 알다가도 모르겠네.니미한테 물어봐 ?모른다면  니비한테 물어보고 nOOO ?</td>\n",
       "    </tr>\n",
       "    <tr>\n",
       "      <th>3</th>\n",
       "      <td>2023-01-06 23:44:00</td>\n",
       "      <td>698</td>\n",
       "      <td>10</td>\n",
       "      <td>12</td>\n",
       "      <td>정말, 알다가도 모르겠네.정말, 알다가도 모르겠네.nn n n 왜 이재명은,불륜을 ...</td>\n",
       "    </tr>\n",
       "    <tr>\n",
       "      <th>4</th>\n",
       "      <td>2023-01-07 01:24:00</td>\n",
       "      <td>1146</td>\n",
       "      <td>6</td>\n",
       "      <td>0</td>\n",
       "      <td>카카오 유턴 상승 장기 롱런드디어미국의 서비스 산업 활동이 수요 약화 속에서 2년 ...</td>\n",
       "    </tr>\n",
       "    <tr>\n",
       "      <th>...</th>\n",
       "      <td>...</td>\n",
       "      <td>...</td>\n",
       "      <td>...</td>\n",
       "      <td>...</td>\n",
       "      <td>...</td>\n",
       "    </tr>\n",
       "    <tr>\n",
       "      <th>855</th>\n",
       "      <td>2023-01-16 14:09:00</td>\n",
       "      <td>646</td>\n",
       "      <td>2</td>\n",
       "      <td>1</td>\n",
       "      <td>100퍼 올라도 손해인 주주들 넘쳐난다.고마 좀 올라가라.</td>\n",
       "    </tr>\n",
       "    <tr>\n",
       "      <th>856</th>\n",
       "      <td>2023-01-16 14:17:00</td>\n",
       "      <td>236</td>\n",
       "      <td>0</td>\n",
       "      <td>2</td>\n",
       "      <td>이것들아? 쉬잇 조동아리 묵념!8마넌까지 쉬잇 조동아리 묵념 ㅎㅎㅎ n산은 산이요 ...</td>\n",
       "    </tr>\n",
       "    <tr>\n",
       "      <th>857</th>\n",
       "      <td>2023-01-16 14:51:00</td>\n",
       "      <td>189</td>\n",
       "      <td>0</td>\n",
       "      <td>0</td>\n",
       "      <td>나보다 평단 쌘사람 ?114</td>\n",
       "    </tr>\n",
       "    <tr>\n",
       "      <th>858</th>\n",
       "      <td>2023-01-16 14:18:00</td>\n",
       "      <td>1544</td>\n",
       "      <td>8</td>\n",
       "      <td>1</td>\n",
       "      <td>나보다 평단 쌘사람 ?121600원n707주</td>\n",
       "    </tr>\n",
       "    <tr>\n",
       "      <th>859</th>\n",
       "      <td>2023-01-16 14:26:00</td>\n",
       "      <td>695</td>\n",
       "      <td>2</td>\n",
       "      <td>0</td>\n",
       "      <td>고점 65000 찍었다다시 매도찍어냄</td>\n",
       "    </tr>\n",
       "  </tbody>\n",
       "</table>\n",
       "<p>860 rows × 5 columns</p>\n",
       "</div>"
      ],
      "text/plain": [
       "                   Date  view  good  bad  \\\n",
       "0   2023-01-06 22:10:00   529     3    0   \n",
       "1   2023-01-06 23:25:00   187     1    2   \n",
       "2   2023-01-07 19:51:00    34     0    0   \n",
       "3   2023-01-06 23:44:00   698    10   12   \n",
       "4   2023-01-07 01:24:00  1146     6    0   \n",
       "..                  ...   ...   ...  ...   \n",
       "855 2023-01-16 14:09:00   646     2    1   \n",
       "856 2023-01-16 14:17:00   236     0    2   \n",
       "857 2023-01-16 14:51:00   189     0    0   \n",
       "858 2023-01-16 14:18:00  1544     8    1   \n",
       "859 2023-01-16 14:26:00   695     2    0   \n",
       "\n",
       "                                                  text  \n",
       "0                   카카오 쓰레기여도 8백억 거래하네?돈 앞에 그런거 없다 ㅋㅋㅋ  \n",
       "1                               씨레기 기업ㅋㅋ 누가삼? 사람들 등돌린다  \n",
       "2       정말, 알다가도 모르겠네.니미한테 물어봐 ?모른다면  니비한테 물어보고 nOOO ?  \n",
       "3    정말, 알다가도 모르겠네.정말, 알다가도 모르겠네.nn n n 왜 이재명은,불륜을 ...  \n",
       "4    카카오 유턴 상승 장기 롱런드디어미국의 서비스 산업 활동이 수요 약화 속에서 2년 ...  \n",
       "..                                                 ...  \n",
       "855                   100퍼 올라도 손해인 주주들 넘쳐난다.고마 좀 올라가라.  \n",
       "856  이것들아? 쉬잇 조동아리 묵념!8마넌까지 쉬잇 조동아리 묵념 ㅎㅎㅎ n산은 산이요 ...  \n",
       "857                                    나보다 평단 쌘사람 ?114  \n",
       "858                           나보다 평단 쌘사람 ?121600원n707주  \n",
       "859                               고점 65000 찍었다다시 매도찍어냄  \n",
       "\n",
       "[860 rows x 5 columns]"
      ]
     },
     "execution_count": 10,
     "metadata": {},
     "output_type": "execute_result"
    }
   ],
   "source": [
    "df_community"
   ]
  },
  {
   "cell_type": "code",
   "execution_count": 11,
   "metadata": {},
   "outputs": [],
   "source": [
    "bins = [0, 7.5, 12, 15, 24]\n",
    "labels = ['_Closed', '_AM', '_PM', '_Closed']\n",
    "period = pd.cut(df_community['Date'].dt.hour, bins=bins, labels=labels, include_lowest=True, ordered=False)\n",
    "period[df_community['Date'].dt.day_of_week > 4] = '_Closed'\n",
    "    \n",
    "date = df_community['Date'].dt.date.astype(str)\n",
    "df_community['DayIndex'] = date.str.cat(period)\n",
    "df_community = df_community.drop('Date', axis=1)"
   ]
  },
  {
   "cell_type": "code",
   "execution_count": 12,
   "metadata": {},
   "outputs": [
    {
     "data": {
      "text/html": [
       "<div>\n",
       "<style scoped>\n",
       "    .dataframe tbody tr th:only-of-type {\n",
       "        vertical-align: middle;\n",
       "    }\n",
       "\n",
       "    .dataframe tbody tr th {\n",
       "        vertical-align: top;\n",
       "    }\n",
       "\n",
       "    .dataframe thead th {\n",
       "        text-align: right;\n",
       "    }\n",
       "</style>\n",
       "<table border=\"1\" class=\"dataframe\">\n",
       "  <thead>\n",
       "    <tr style=\"text-align: right;\">\n",
       "      <th></th>\n",
       "      <th>view</th>\n",
       "      <th>good</th>\n",
       "      <th>bad</th>\n",
       "      <th>text</th>\n",
       "      <th>DayIndex</th>\n",
       "    </tr>\n",
       "  </thead>\n",
       "  <tbody>\n",
       "    <tr>\n",
       "      <th>0</th>\n",
       "      <td>529</td>\n",
       "      <td>3</td>\n",
       "      <td>0</td>\n",
       "      <td>카카오 쓰레기여도 8백억 거래하네?돈 앞에 그런거 없다 ㅋㅋㅋ</td>\n",
       "      <td>2023-01-06_Closed</td>\n",
       "    </tr>\n",
       "    <tr>\n",
       "      <th>1</th>\n",
       "      <td>187</td>\n",
       "      <td>1</td>\n",
       "      <td>2</td>\n",
       "      <td>씨레기 기업ㅋㅋ 누가삼? 사람들 등돌린다</td>\n",
       "      <td>2023-01-06_Closed</td>\n",
       "    </tr>\n",
       "    <tr>\n",
       "      <th>2</th>\n",
       "      <td>34</td>\n",
       "      <td>0</td>\n",
       "      <td>0</td>\n",
       "      <td>정말, 알다가도 모르겠네.니미한테 물어봐 ?모른다면  니비한테 물어보고 nOOO ?</td>\n",
       "      <td>2023-01-07_Closed</td>\n",
       "    </tr>\n",
       "    <tr>\n",
       "      <th>3</th>\n",
       "      <td>698</td>\n",
       "      <td>10</td>\n",
       "      <td>12</td>\n",
       "      <td>정말, 알다가도 모르겠네.정말, 알다가도 모르겠네.nn n n 왜 이재명은,불륜을 ...</td>\n",
       "      <td>2023-01-06_Closed</td>\n",
       "    </tr>\n",
       "    <tr>\n",
       "      <th>4</th>\n",
       "      <td>1146</td>\n",
       "      <td>6</td>\n",
       "      <td>0</td>\n",
       "      <td>카카오 유턴 상승 장기 롱런드디어미국의 서비스 산업 활동이 수요 약화 속에서 2년 ...</td>\n",
       "      <td>2023-01-07_Closed</td>\n",
       "    </tr>\n",
       "  </tbody>\n",
       "</table>\n",
       "</div>"
      ],
      "text/plain": [
       "   view  good  bad                                               text  \\\n",
       "0   529     3    0                 카카오 쓰레기여도 8백억 거래하네?돈 앞에 그런거 없다 ㅋㅋㅋ   \n",
       "1   187     1    2                             씨레기 기업ㅋㅋ 누가삼? 사람들 등돌린다   \n",
       "2    34     0    0     정말, 알다가도 모르겠네.니미한테 물어봐 ?모른다면  니비한테 물어보고 nOOO ?   \n",
       "3   698    10   12  정말, 알다가도 모르겠네.정말, 알다가도 모르겠네.nn n n 왜 이재명은,불륜을 ...   \n",
       "4  1146     6    0  카카오 유턴 상승 장기 롱런드디어미국의 서비스 산업 활동이 수요 약화 속에서 2년 ...   \n",
       "\n",
       "            DayIndex  \n",
       "0  2023-01-06_Closed  \n",
       "1  2023-01-06_Closed  \n",
       "2  2023-01-07_Closed  \n",
       "3  2023-01-06_Closed  \n",
       "4  2023-01-07_Closed  "
      ]
     },
     "execution_count": 12,
     "metadata": {},
     "output_type": "execute_result"
    }
   ],
   "source": [
    "df_community.head()"
   ]
  },
  {
   "attachments": {},
   "cell_type": "markdown",
   "metadata": {},
   "source": [
    "## Metric Index"
   ]
  },
  {
   "cell_type": "code",
   "execution_count": 13,
   "metadata": {},
   "outputs": [],
   "source": [
    "df_community['MetricIndex'] = (df_community['good'] - df_community['bad']) / df_community['view']\n",
    "#df_community['MetricIndex'] = MinMaxScaler((-0.5, 0.5)).fit_transform(df_community['MetricIndex'].values.reshape(1,-1)).reshape(-1, 1)\n",
    "df_community = df_community.drop(['view', 'good', 'bad'], axis=1)"
   ]
  },
  {
   "cell_type": "code",
   "execution_count": 14,
   "metadata": {},
   "outputs": [],
   "source": [
    "df_community = df_community.rename(columns={'text': 'CommunityText'})"
   ]
  },
  {
   "cell_type": "code",
   "execution_count": 15,
   "metadata": {},
   "outputs": [],
   "source": [
    "df_community.to_excel('../data-dir/kakao-community-preprocessed.xlsx')"
   ]
  }
 ],
 "metadata": {
  "kernelspec": {
   "display_name": "Python 3",
   "language": "python",
   "name": "python3"
  },
  "language_info": {
   "codemirror_mode": {
    "name": "ipython",
    "version": 3
   },
   "file_extension": ".py",
   "mimetype": "text/x-python",
   "name": "python",
   "nbconvert_exporter": "python",
   "pygments_lexer": "ipython3",
   "version": "3.10.6"
  },
  "orig_nbformat": 4,
  "vscode": {
   "interpreter": {
    "hash": "916dbcbb3f70747c44a77c7bcd40155683ae19c65e1c03b4aa3499c5328201f1"
   }
  }
 },
 "nbformat": 4,
 "nbformat_minor": 2
}
