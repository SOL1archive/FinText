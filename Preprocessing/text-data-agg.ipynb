{
 "cells": [
  {
   "cell_type": "code",
   "execution_count": 1,
   "metadata": {},
   "outputs": [],
   "source": [
    "import pandas as pd\n",
    "\n",
    "from sklearn.preprocessing import MinMaxScaler, StandardScaler"
   ]
  },
  {
   "cell_type": "code",
   "execution_count": 2,
   "metadata": {},
   "outputs": [],
   "source": [
    "df_community = pd.read_excel('../data-dir/kakao-community-data.xlsx', sheet_name='community')"
   ]
  },
  {
   "cell_type": "code",
   "execution_count": 3,
   "metadata": {},
   "outputs": [],
   "source": [
    "df_community = df_community.iloc[::-1].reset_index().drop('index', axis=1)"
   ]
  },
  {
   "attachments": {},
   "cell_type": "markdown",
   "metadata": {},
   "source": [
    "## Drop & Rename Columns"
   ]
  },
  {
   "cell_type": "code",
   "execution_count": 5,
   "metadata": {},
   "outputs": [],
   "source": [
    "df_community = df_community.drop(['article_no'], axis=1)\n",
    "df_community = df_community.rename(columns={'body': 'article', 'published_datetime': 'Date'})"
   ]
  },
  {
   "cell_type": "code",
   "execution_count": 6,
   "metadata": {},
   "outputs": [
    {
     "data": {
      "text/html": [
       "<div>\n",
       "<style scoped>\n",
       "    .dataframe tbody tr th:only-of-type {\n",
       "        vertical-align: middle;\n",
       "    }\n",
       "\n",
       "    .dataframe tbody tr th {\n",
       "        vertical-align: top;\n",
       "    }\n",
       "\n",
       "    .dataframe thead th {\n",
       "        text-align: right;\n",
       "    }\n",
       "</style>\n",
       "<table border=\"1\" class=\"dataframe\">\n",
       "  <thead>\n",
       "    <tr style=\"text-align: right;\">\n",
       "      <th></th>\n",
       "      <th>title</th>\n",
       "      <th>Date</th>\n",
       "      <th>article</th>\n",
       "      <th>view</th>\n",
       "      <th>good</th>\n",
       "      <th>bad</th>\n",
       "    </tr>\n",
       "  </thead>\n",
       "  <tbody>\n",
       "    <tr>\n",
       "      <th>0</th>\n",
       "      <td>카카오 쓰레기여도 8백억 거래하네?</td>\n",
       "      <td>2023-01-06 00:00:00</td>\n",
       "      <td>돈 앞에 그런거 없다 ㅋㅋㅋ</td>\n",
       "      <td>529</td>\n",
       "      <td>3</td>\n",
       "      <td>0</td>\n",
       "    </tr>\n",
       "    <tr>\n",
       "      <th>1</th>\n",
       "      <td>씨레기 기업</td>\n",
       "      <td>2023-01-06 00:00:00</td>\n",
       "      <td>ㅋㅋ 누가삼? 사람들 등돌린다</td>\n",
       "      <td>187</td>\n",
       "      <td>1</td>\n",
       "      <td>2</td>\n",
       "    </tr>\n",
       "    <tr>\n",
       "      <th>2</th>\n",
       "      <td>정말, 알다가도 모르겠네.</td>\n",
       "      <td>2023-01-07 00:00:00</td>\n",
       "      <td>니미한테 물어봐 ?n모른다면  니비한테 물어보고 nOOO ?n</td>\n",
       "      <td>34</td>\n",
       "      <td>0</td>\n",
       "      <td>0</td>\n",
       "    </tr>\n",
       "    <tr>\n",
       "      <th>3</th>\n",
       "      <td>정말, 알다가도 모르겠네.</td>\n",
       "      <td>2023-01-06 00:00:00</td>\n",
       "      <td>정말, 알다가도 모르겠네.nn n n n왜 이재명은,n불륜을 맺지 않았다고 부인하면...</td>\n",
       "      <td>698</td>\n",
       "      <td>10</td>\n",
       "      <td>12</td>\n",
       "    </tr>\n",
       "    <tr>\n",
       "      <th>4</th>\n",
       "      <td>카카오 유턴 상승 장기 롱런</td>\n",
       "      <td>2023-01-07 00:00:00</td>\n",
       "      <td>드디어n미국의 서비스 산업 활동이 수요 약화 속에서 2년 반 이상 만에 처음으로 위...</td>\n",
       "      <td>1146</td>\n",
       "      <td>6</td>\n",
       "      <td>0</td>\n",
       "    </tr>\n",
       "    <tr>\n",
       "      <th>...</th>\n",
       "      <td>...</td>\n",
       "      <td>...</td>\n",
       "      <td>...</td>\n",
       "      <td>...</td>\n",
       "      <td>...</td>\n",
       "      <td>...</td>\n",
       "    </tr>\n",
       "    <tr>\n",
       "      <th>22675</th>\n",
       "      <td>A가</td>\n",
       "      <td>2023-01-06 19:02:00</td>\n",
       "      <td>카카오톡으로... 불법 해킹조직 소행 전산망 해킹 개인정보 노출 정점화 할듯 불법 ...</td>\n",
       "      <td>100</td>\n",
       "      <td>1</td>\n",
       "      <td>0</td>\n",
       "    </tr>\n",
       "    <tr>\n",
       "      <th>22676</th>\n",
       "      <td>51층오면사고 58에 팔고 반복하슈</td>\n",
       "      <td>2023-01-06 19:18:00</td>\n",
       "      <td>국룰이다 ㅋㅋ</td>\n",
       "      <td>145</td>\n",
       "      <td>2</td>\n",
       "      <td>1</td>\n",
       "    </tr>\n",
       "    <tr>\n",
       "      <th>22677</th>\n",
       "      <td>2022.9.23일이후</td>\n",
       "      <td>2023-01-06 19:48:00</td>\n",
       "      <td>6만원을 찍지를 못하고 있다nn이게 뭔 일이고~~</td>\n",
       "      <td>74</td>\n",
       "      <td>0</td>\n",
       "      <td>0</td>\n",
       "    </tr>\n",
       "    <tr>\n",
       "      <th>22678</th>\n",
       "      <td>그냥</td>\n",
       "      <td>2023-01-06 20:03:00</td>\n",
       "      <td>애플 쿠팡이랑 손잡고 나락가자</td>\n",
       "      <td>61</td>\n",
       "      <td>1</td>\n",
       "      <td>0</td>\n",
       "    </tr>\n",
       "    <tr>\n",
       "      <th>22679</th>\n",
       "      <td>ㅋㅋㅋ 보상 자동결제</td>\n",
       "      <td>2023-01-06 20:26:00</td>\n",
       "      <td>문정권 아니였으면 저렇게 성장도 못했을 기업답다</td>\n",
       "      <td>162</td>\n",
       "      <td>4</td>\n",
       "      <td>3</td>\n",
       "    </tr>\n",
       "  </tbody>\n",
       "</table>\n",
       "<p>22680 rows × 6 columns</p>\n",
       "</div>"
      ],
      "text/plain": [
       "                     title                Date  \\\n",
       "0      카카오 쓰레기여도 8백억 거래하네? 2023-01-06 00:00:00   \n",
       "1                   씨레기 기업 2023-01-06 00:00:00   \n",
       "2           정말, 알다가도 모르겠네. 2023-01-07 00:00:00   \n",
       "3           정말, 알다가도 모르겠네. 2023-01-06 00:00:00   \n",
       "4          카카오 유턴 상승 장기 롱런 2023-01-07 00:00:00   \n",
       "...                    ...                 ...   \n",
       "22675                   A가 2023-01-06 19:02:00   \n",
       "22676  51층오면사고 58에 팔고 반복하슈 2023-01-06 19:18:00   \n",
       "22677         2022.9.23일이후 2023-01-06 19:48:00   \n",
       "22678                   그냥 2023-01-06 20:03:00   \n",
       "22679          ㅋㅋㅋ 보상 자동결제 2023-01-06 20:26:00   \n",
       "\n",
       "                                                 article  view  good  bad  \n",
       "0                                        돈 앞에 그런거 없다 ㅋㅋㅋ   529     3    0  \n",
       "1                                      ㅋㅋ 누가삼? 사람들 등돌린다    187     1    2  \n",
       "2                     니미한테 물어봐 ?n모른다면  니비한테 물어보고 nOOO ?n    34     0    0  \n",
       "3      정말, 알다가도 모르겠네.nn n n n왜 이재명은,n불륜을 맺지 않았다고 부인하면...   698    10   12  \n",
       "4      드디어n미국의 서비스 산업 활동이 수요 약화 속에서 2년 반 이상 만에 처음으로 위...  1146     6    0  \n",
       "...                                                  ...   ...   ...  ...  \n",
       "22675  카카오톡으로... 불법 해킹조직 소행 전산망 해킹 개인정보 노출 정점화 할듯 불법 ...   100     1    0  \n",
       "22676                                            국룰이다 ㅋㅋ   145     2    1  \n",
       "22677                        6만원을 찍지를 못하고 있다nn이게 뭔 일이고~~    74     0    0  \n",
       "22678                                   애플 쿠팡이랑 손잡고 나락가자    61     1    0  \n",
       "22679                         문정권 아니였으면 저렇게 성장도 못했을 기업답다   162     4    3  \n",
       "\n",
       "[22680 rows x 6 columns]"
      ]
     },
     "execution_count": 6,
     "metadata": {},
     "output_type": "execute_result"
    }
   ],
   "source": [
    "df_community"
   ]
  },
  {
   "attachments": {},
   "cell_type": "markdown",
   "metadata": {},
   "source": [
    "## Cleaning Data"
   ]
  },
  {
   "attachments": {},
   "cell_type": "markdown",
   "metadata": {},
   "source": [
    "### Community\n",
    "커뮤니티 게시글에 대한 전처리는 답이 안보임."
   ]
  },
  {
   "cell_type": "code",
   "execution_count": 7,
   "metadata": {},
   "outputs": [
    {
     "name": "stderr",
     "output_type": "stream",
     "text": [
      "/tmp/ipykernel_9481/4108072987.py:1: FutureWarning: The default value of regex will change from True to False in a future version.\n",
      "  df_community['title'] = df_community['title'].str.replace('(?:www\\.)?[-a-zA-Z0-9@:%._\\+~#=]{1,256}\\.[a-zA-Z0-9()]{1,6}\\b(?:[-a-zA-Z0-9()@:%_\\+.~#?&\\/=]*)', '')\n",
      "/tmp/ipykernel_9481/4108072987.py:2: FutureWarning: The default value of regex will change from True to False in a future version.\n",
      "  df_community['title'] = df_community['title'].str.replace('\\[.*?\\]', '')\n"
     ]
    }
   ],
   "source": [
    "df_community['title'] = df_community['title'].str.replace('(?:www\\.)?[-a-zA-Z0-9@:%._\\+~#=]{1,256}\\.[a-zA-Z0-9()]{1,6}\\b(?:[-a-zA-Z0-9()@:%_\\+.~#?&\\/=]*)', '')\n",
    "df_community['title'] = df_community['title'].str.replace('\\[.*?\\]', '')\n",
    "df_community['title'] = df_community['title'].str.strip()"
   ]
  },
  {
   "cell_type": "code",
   "execution_count": 8,
   "metadata": {},
   "outputs": [
    {
     "name": "stderr",
     "output_type": "stream",
     "text": [
      "/tmp/ipykernel_9481/657444222.py:1: FutureWarning: The default value of regex will change from True to False in a future version.\n",
      "  df_community['article'] = df_community['article'].str.replace('(?:www\\.)?[-a-zA-Z0-9@:%._\\+~#=]{1,256}\\.[a-zA-Z0-9()]{1,6}\\b(?:[-a-zA-Z0-9()@:%_\\+.~#?&\\/=]*)', '')\n",
      "/tmp/ipykernel_9481/657444222.py:2: FutureWarning: The default value of regex will change from True to False in a future version.\n",
      "  df_community['article'] = df_community['article'].str.replace('^n', '')\n",
      "/tmp/ipykernel_9481/657444222.py:3: FutureWarning: The default value of regex will change from True to False in a future version.\n",
      "  df_community['article'] = df_community['article'].str.replace('n(?![a-zA-Z ])', '')\n"
     ]
    }
   ],
   "source": [
    "df_community['article'] = df_community['article'].str.replace('(?:www\\.)?[-a-zA-Z0-9@:%._\\+~#=]{1,256}\\.[a-zA-Z0-9()]{1,6}\\b(?:[-a-zA-Z0-9()@:%_\\+.~#?&\\/=]*)', '')\n",
    "df_community['article'] = df_community['article'].str.replace('^n', '')\n",
    "df_community['article'] = df_community['article'].str.replace('n(?![a-zA-Z ])', '')\n",
    "df_community['article'] = df_community['article'].str.strip()"
   ]
  },
  {
   "attachments": {},
   "cell_type": "markdown",
   "metadata": {},
   "source": [
    "## Concating Strings"
   ]
  },
  {
   "cell_type": "code",
   "execution_count": 9,
   "metadata": {},
   "outputs": [],
   "source": [
    "df_community['text'] = df_community['title'].str.cat(df_community['article'])\n",
    "df_community = df_community.drop(['title', 'article'], axis=1)"
   ]
  },
  {
   "cell_type": "code",
   "execution_count": 10,
   "metadata": {},
   "outputs": [
    {
     "data": {
      "text/html": [
       "<div>\n",
       "<style scoped>\n",
       "    .dataframe tbody tr th:only-of-type {\n",
       "        vertical-align: middle;\n",
       "    }\n",
       "\n",
       "    .dataframe tbody tr th {\n",
       "        vertical-align: top;\n",
       "    }\n",
       "\n",
       "    .dataframe thead th {\n",
       "        text-align: right;\n",
       "    }\n",
       "</style>\n",
       "<table border=\"1\" class=\"dataframe\">\n",
       "  <thead>\n",
       "    <tr style=\"text-align: right;\">\n",
       "      <th></th>\n",
       "      <th>Date</th>\n",
       "      <th>view</th>\n",
       "      <th>good</th>\n",
       "      <th>bad</th>\n",
       "      <th>text</th>\n",
       "    </tr>\n",
       "  </thead>\n",
       "  <tbody>\n",
       "    <tr>\n",
       "      <th>0</th>\n",
       "      <td>2023-01-06 00:00:00</td>\n",
       "      <td>529</td>\n",
       "      <td>3</td>\n",
       "      <td>0</td>\n",
       "      <td>카카오 쓰레기여도 8백억 거래하네?돈 앞에 그런거 없다 ㅋㅋㅋ</td>\n",
       "    </tr>\n",
       "    <tr>\n",
       "      <th>1</th>\n",
       "      <td>2023-01-06 00:00:00</td>\n",
       "      <td>187</td>\n",
       "      <td>1</td>\n",
       "      <td>2</td>\n",
       "      <td>씨레기 기업ㅋㅋ 누가삼? 사람들 등돌린다</td>\n",
       "    </tr>\n",
       "    <tr>\n",
       "      <th>2</th>\n",
       "      <td>2023-01-07 00:00:00</td>\n",
       "      <td>34</td>\n",
       "      <td>0</td>\n",
       "      <td>0</td>\n",
       "      <td>정말, 알다가도 모르겠네.니미한테 물어봐 ?모른다면  니비한테 물어보고 nOOO ?</td>\n",
       "    </tr>\n",
       "    <tr>\n",
       "      <th>3</th>\n",
       "      <td>2023-01-06 00:00:00</td>\n",
       "      <td>698</td>\n",
       "      <td>10</td>\n",
       "      <td>12</td>\n",
       "      <td>정말, 알다가도 모르겠네.정말, 알다가도 모르겠네.nn n n 왜 이재명은,불륜을 ...</td>\n",
       "    </tr>\n",
       "    <tr>\n",
       "      <th>4</th>\n",
       "      <td>2023-01-07 00:00:00</td>\n",
       "      <td>1146</td>\n",
       "      <td>6</td>\n",
       "      <td>0</td>\n",
       "      <td>카카오 유턴 상승 장기 롱런드디어미국의 서비스 산업 활동이 수요 약화 속에서 2년 ...</td>\n",
       "    </tr>\n",
       "    <tr>\n",
       "      <th>...</th>\n",
       "      <td>...</td>\n",
       "      <td>...</td>\n",
       "      <td>...</td>\n",
       "      <td>...</td>\n",
       "      <td>...</td>\n",
       "    </tr>\n",
       "    <tr>\n",
       "      <th>22675</th>\n",
       "      <td>2023-01-06 19:02:00</td>\n",
       "      <td>100</td>\n",
       "      <td>1</td>\n",
       "      <td>0</td>\n",
       "      <td>A가카카오톡으로... 불법 해킹조직 소행 전산망 해킹 개인정보 노출 정점화 할듯 불...</td>\n",
       "    </tr>\n",
       "    <tr>\n",
       "      <th>22676</th>\n",
       "      <td>2023-01-06 19:18:00</td>\n",
       "      <td>145</td>\n",
       "      <td>2</td>\n",
       "      <td>1</td>\n",
       "      <td>51층오면사고 58에 팔고 반복하슈국룰이다 ㅋㅋ</td>\n",
       "    </tr>\n",
       "    <tr>\n",
       "      <th>22677</th>\n",
       "      <td>2023-01-06 19:48:00</td>\n",
       "      <td>74</td>\n",
       "      <td>0</td>\n",
       "      <td>0</td>\n",
       "      <td>2022.9.23일이후6만원을 찍지를 못하고 있다n이게 뭔 일이고~~</td>\n",
       "    </tr>\n",
       "    <tr>\n",
       "      <th>22678</th>\n",
       "      <td>2023-01-06 20:03:00</td>\n",
       "      <td>61</td>\n",
       "      <td>1</td>\n",
       "      <td>0</td>\n",
       "      <td>그냥애플 쿠팡이랑 손잡고 나락가자</td>\n",
       "    </tr>\n",
       "    <tr>\n",
       "      <th>22679</th>\n",
       "      <td>2023-01-06 20:26:00</td>\n",
       "      <td>162</td>\n",
       "      <td>4</td>\n",
       "      <td>3</td>\n",
       "      <td>ㅋㅋㅋ 보상 자동결제문정권 아니였으면 저렇게 성장도 못했을 기업답다</td>\n",
       "    </tr>\n",
       "  </tbody>\n",
       "</table>\n",
       "<p>22680 rows × 5 columns</p>\n",
       "</div>"
      ],
      "text/plain": [
       "                     Date  view  good  bad  \\\n",
       "0     2023-01-06 00:00:00   529     3    0   \n",
       "1     2023-01-06 00:00:00   187     1    2   \n",
       "2     2023-01-07 00:00:00    34     0    0   \n",
       "3     2023-01-06 00:00:00   698    10   12   \n",
       "4     2023-01-07 00:00:00  1146     6    0   \n",
       "...                   ...   ...   ...  ...   \n",
       "22675 2023-01-06 19:02:00   100     1    0   \n",
       "22676 2023-01-06 19:18:00   145     2    1   \n",
       "22677 2023-01-06 19:48:00    74     0    0   \n",
       "22678 2023-01-06 20:03:00    61     1    0   \n",
       "22679 2023-01-06 20:26:00   162     4    3   \n",
       "\n",
       "                                                    text  \n",
       "0                     카카오 쓰레기여도 8백억 거래하네?돈 앞에 그런거 없다 ㅋㅋㅋ  \n",
       "1                                 씨레기 기업ㅋㅋ 누가삼? 사람들 등돌린다  \n",
       "2         정말, 알다가도 모르겠네.니미한테 물어봐 ?모른다면  니비한테 물어보고 nOOO ?  \n",
       "3      정말, 알다가도 모르겠네.정말, 알다가도 모르겠네.nn n n 왜 이재명은,불륜을 ...  \n",
       "4      카카오 유턴 상승 장기 롱런드디어미국의 서비스 산업 활동이 수요 약화 속에서 2년 ...  \n",
       "...                                                  ...  \n",
       "22675  A가카카오톡으로... 불법 해킹조직 소행 전산망 해킹 개인정보 노출 정점화 할듯 불...  \n",
       "22676                         51층오면사고 58에 팔고 반복하슈국룰이다 ㅋㅋ  \n",
       "22677             2022.9.23일이후6만원을 찍지를 못하고 있다n이게 뭔 일이고~~  \n",
       "22678                                 그냥애플 쿠팡이랑 손잡고 나락가자  \n",
       "22679              ㅋㅋㅋ 보상 자동결제문정권 아니였으면 저렇게 성장도 못했을 기업답다  \n",
       "\n",
       "[22680 rows x 5 columns]"
      ]
     },
     "execution_count": 10,
     "metadata": {},
     "output_type": "execute_result"
    }
   ],
   "source": [
    "df_community"
   ]
  },
  {
   "cell_type": "code",
   "execution_count": 11,
   "metadata": {},
   "outputs": [],
   "source": [
    "bins = [0, 7.5, 12, 15, 24]\n",
    "labels = ['_Closed', '_AM', '_PM', '_Closed']\n",
    "period = pd.cut(df_community['Date'].dt.hour, bins=bins, labels=labels, include_lowest=True, ordered=False)\n",
    "period[df_community['Date'].dt.day_of_week > 4] = '_Closed'\n",
    "    \n",
    "date = df_community['Date'].dt.date.astype(str)\n",
    "df_community['DayIndex'] = date.str.cat(period)\n",
    "df_community = df_community.drop('Date', axis=1)"
   ]
  },
  {
   "cell_type": "code",
   "execution_count": 12,
   "metadata": {},
   "outputs": [
    {
     "data": {
      "text/html": [
       "<div>\n",
       "<style scoped>\n",
       "    .dataframe tbody tr th:only-of-type {\n",
       "        vertical-align: middle;\n",
       "    }\n",
       "\n",
       "    .dataframe tbody tr th {\n",
       "        vertical-align: top;\n",
       "    }\n",
       "\n",
       "    .dataframe thead th {\n",
       "        text-align: right;\n",
       "    }\n",
       "</style>\n",
       "<table border=\"1\" class=\"dataframe\">\n",
       "  <thead>\n",
       "    <tr style=\"text-align: right;\">\n",
       "      <th></th>\n",
       "      <th>view</th>\n",
       "      <th>good</th>\n",
       "      <th>bad</th>\n",
       "      <th>text</th>\n",
       "      <th>DayIndex</th>\n",
       "    </tr>\n",
       "  </thead>\n",
       "  <tbody>\n",
       "    <tr>\n",
       "      <th>0</th>\n",
       "      <td>529</td>\n",
       "      <td>3</td>\n",
       "      <td>0</td>\n",
       "      <td>카카오 쓰레기여도 8백억 거래하네?돈 앞에 그런거 없다 ㅋㅋㅋ</td>\n",
       "      <td>2023-01-06_Closed</td>\n",
       "    </tr>\n",
       "    <tr>\n",
       "      <th>1</th>\n",
       "      <td>187</td>\n",
       "      <td>1</td>\n",
       "      <td>2</td>\n",
       "      <td>씨레기 기업ㅋㅋ 누가삼? 사람들 등돌린다</td>\n",
       "      <td>2023-01-06_Closed</td>\n",
       "    </tr>\n",
       "    <tr>\n",
       "      <th>2</th>\n",
       "      <td>34</td>\n",
       "      <td>0</td>\n",
       "      <td>0</td>\n",
       "      <td>정말, 알다가도 모르겠네.니미한테 물어봐 ?모른다면  니비한테 물어보고 nOOO ?</td>\n",
       "      <td>2023-01-07_Closed</td>\n",
       "    </tr>\n",
       "    <tr>\n",
       "      <th>3</th>\n",
       "      <td>698</td>\n",
       "      <td>10</td>\n",
       "      <td>12</td>\n",
       "      <td>정말, 알다가도 모르겠네.정말, 알다가도 모르겠네.nn n n 왜 이재명은,불륜을 ...</td>\n",
       "      <td>2023-01-06_Closed</td>\n",
       "    </tr>\n",
       "    <tr>\n",
       "      <th>4</th>\n",
       "      <td>1146</td>\n",
       "      <td>6</td>\n",
       "      <td>0</td>\n",
       "      <td>카카오 유턴 상승 장기 롱런드디어미국의 서비스 산업 활동이 수요 약화 속에서 2년 ...</td>\n",
       "      <td>2023-01-07_Closed</td>\n",
       "    </tr>\n",
       "  </tbody>\n",
       "</table>\n",
       "</div>"
      ],
      "text/plain": [
       "   view  good  bad                                               text  \\\n",
       "0   529     3    0                 카카오 쓰레기여도 8백억 거래하네?돈 앞에 그런거 없다 ㅋㅋㅋ   \n",
       "1   187     1    2                             씨레기 기업ㅋㅋ 누가삼? 사람들 등돌린다   \n",
       "2    34     0    0     정말, 알다가도 모르겠네.니미한테 물어봐 ?모른다면  니비한테 물어보고 nOOO ?   \n",
       "3   698    10   12  정말, 알다가도 모르겠네.정말, 알다가도 모르겠네.nn n n 왜 이재명은,불륜을 ...   \n",
       "4  1146     6    0  카카오 유턴 상승 장기 롱런드디어미국의 서비스 산업 활동이 수요 약화 속에서 2년 ...   \n",
       "\n",
       "            DayIndex  \n",
       "0  2023-01-06_Closed  \n",
       "1  2023-01-06_Closed  \n",
       "2  2023-01-07_Closed  \n",
       "3  2023-01-06_Closed  \n",
       "4  2023-01-07_Closed  "
      ]
     },
     "execution_count": 12,
     "metadata": {},
     "output_type": "execute_result"
    }
   ],
   "source": [
    "df_community.head()"
   ]
  },
  {
   "attachments": {},
   "cell_type": "markdown",
   "metadata": {},
   "source": [
    "## Metric Index"
   ]
  },
  {
   "cell_type": "code",
   "execution_count": 13,
   "metadata": {},
   "outputs": [],
   "source": [
    "df_community['MetricIndex'] = (df_community['good'] - df_community['bad']) / df_community['view']\n",
    "#df_community['MetricIndex'] = MinMaxScaler((-0.5, 0.5)).fit_transform(df_community['MetricIndex'].values.reshape(1,-1)).reshape(-1, 1)\n",
    "df_community = df_community.drop(['view', 'good', 'bad'], axis=1)"
   ]
  },
  {
   "cell_type": "code",
   "execution_count": 14,
   "metadata": {},
   "outputs": [],
   "source": [
    "df_community = df_community.rename(columns={'text': 'CommunityText'})"
   ]
  },
  {
   "cell_type": "code",
   "execution_count": 15,
   "metadata": {},
   "outputs": [],
   "source": [
    "df_community.to_excel('../data-dir/kakao-community-preprocessed.xlsx')"
   ]
  }
 ],
 "metadata": {
  "kernelspec": {
   "display_name": "Python 3",
   "language": "python",
   "name": "python3"
  },
  "language_info": {
   "codemirror_mode": {
    "name": "ipython",
    "version": 3
   },
   "file_extension": ".py",
   "mimetype": "text/x-python",
   "name": "python",
   "nbconvert_exporter": "python",
   "pygments_lexer": "ipython3",
   "version": "3.10.6"
  },
  "orig_nbformat": 4,
  "vscode": {
   "interpreter": {
    "hash": "916dbcbb3f70747c44a77c7bcd40155683ae19c65e1c03b4aa3499c5328201f1"
   }
  }
 },
 "nbformat": 4,
 "nbformat_minor": 2
}
