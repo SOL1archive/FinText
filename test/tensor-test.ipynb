{
 "cells": [
  {
   "cell_type": "code",
   "execution_count": 1,
   "metadata": {},
   "outputs": [],
   "source": [
    "import torch\n",
    "from sklearn.decomposition import PCA, NMF"
   ]
  },
  {
   "cell_type": "code",
   "execution_count": 2,
   "metadata": {},
   "outputs": [],
   "source": [
    "method = 'SVD'"
   ]
  },
  {
   "cell_type": "code",
   "execution_count": 23,
   "metadata": {},
   "outputs": [],
   "source": [
    "def dim_fix(tensor, row_len):\n",
    "            if tensor.shape[0] == row_len:\n",
    "                print(tensor.shape)\n",
    "\n",
    "                return tensor\n",
    "            elif tensor.shape[0] < row_len:\n",
    "                increased_tensor = torch.zeros((row_len, tensor.shape[1]))\n",
    "                increased_tensor[: tensor.shape[0], :] = tensor\n",
    "\n",
    "                if increased_tensor.shape[0] != row_len or increased_tensor.shape[1] != 512:\n",
    "                    print(increased_tensor.shape)\n",
    "\n",
    "                return increased_tensor\n",
    "            else:\n",
    "                if method == \"SVD\":\n",
    "                    U, S, V = torch.svd(tensor)\n",
    "                    U, S, Vh = torch.linalg.svd(tensor, full_matrices=False)\n",
    "\n",
    "                    reduced_S = torch.diag(S)[:row_len]\n",
    "                    reduced_U = U[:, :row_len]\n",
    "                    reduced_V = Vh[:row_len, :]\n",
    "\n",
    "                    return torch.mm(\n",
    "                        torch.mm(\n",
    "                            reduced_U,\n",
    "                            reduced_S\n",
    "                        ),\n",
    "                        reduced_V\n",
    "                    )\n",
    "                elif method == \"PCA\":\n",
    "                    vectors_np = torch.detach(tensor).numpy()\n",
    "\n",
    "                    pca = PCA(n_components=row_len)\n",
    "                    reduced_tensor = pca.fit_transform(vectors_np)\n",
    "                    reduced_tensor = torch.from_numpy(reduced_tensor)\n",
    "                elif method == \"NMF\":\n",
    "                    vectors_np = torch.detach(tensor).numpy()\n",
    "\n",
    "                    nmf = NMF(n_components=row_len)\n",
    "                    reduced_tensor = nmf.fit_transform(vectors_np)\n",
    "                    reduced_tensor = torch.from_numpy(reduced_tensor)\n",
    "                else:\n",
    "                    raise RuntimeError\n",
    "            \n",
    "                if reduced_tensor.shape[0] != row_len or reduced_tensor[1] != 512:\n",
    "                    print(reduced_tensor.shape)"
   ]
  },
  {
   "cell_type": "code",
   "execution_count": 26,
   "metadata": {},
   "outputs": [
    {
     "ename": "RuntimeError",
     "evalue": "mat1 and mat2 shapes cannot be multiplied (10x6 and 5x6)",
     "output_type": "error",
     "traceback": [
      "\u001b[0;31m---------------------------------------------------------------------------\u001b[0m",
      "\u001b[0;31mRuntimeError\u001b[0m                              Traceback (most recent call last)",
      "Cell \u001b[0;32mIn[26], line 2\u001b[0m\n\u001b[1;32m      1\u001b[0m t1 \u001b[39m=\u001b[39m torch\u001b[39m.\u001b[39mrandn((\u001b[39m10\u001b[39m, \u001b[39m6\u001b[39m))\n\u001b[0;32m----> 2\u001b[0m dim_fix(t1, \u001b[39m5\u001b[39;49m)\u001b[39m.\u001b[39mshape\n",
      "Cell \u001b[0;32mIn[23], line 23\u001b[0m, in \u001b[0;36mdim_fix\u001b[0;34m(tensor, row_len)\u001b[0m\n\u001b[1;32m     20\u001b[0m     reduced_U \u001b[39m=\u001b[39m U[:, :row_len]\n\u001b[1;32m     21\u001b[0m     reduced_V \u001b[39m=\u001b[39m Vh[:row_len, :]\n\u001b[0;32m---> 23\u001b[0m     \u001b[39mreturn\u001b[39;00m torch\u001b[39m.\u001b[39;49mmm(\n\u001b[1;32m     24\u001b[0m         torch\u001b[39m.\u001b[39;49mmm(\n\u001b[1;32m     25\u001b[0m             reduced_U,\n\u001b[1;32m     26\u001b[0m             reduced_S\n\u001b[1;32m     27\u001b[0m         ),\n\u001b[1;32m     28\u001b[0m         reduced_V\n\u001b[1;32m     29\u001b[0m     )\n\u001b[1;32m     30\u001b[0m \u001b[39melif\u001b[39;00m method \u001b[39m==\u001b[39m \u001b[39m\"\u001b[39m\u001b[39mPCA\u001b[39m\u001b[39m\"\u001b[39m:\n\u001b[1;32m     31\u001b[0m     vectors_np \u001b[39m=\u001b[39m torch\u001b[39m.\u001b[39mdetach(tensor)\u001b[39m.\u001b[39mnumpy()\n",
      "\u001b[0;31mRuntimeError\u001b[0m: mat1 and mat2 shapes cannot be multiplied (10x6 and 5x6)"
     ]
    }
   ],
   "source": [
    "t1 = torch.randn((10, 6))\n",
    "dim_fix(t1, 5).shape"
   ]
  },
  {
   "cell_type": "code",
   "execution_count": 37,
   "metadata": {},
   "outputs": [
    {
     "name": "stdout",
     "output_type": "stream",
     "text": [
      "Original matrix:  tensor([[1., 2., 3.],\n",
      "        [4., 5., 6.],\n",
      "        [7., 8., 9.]])\n",
      "Reduced matrix:  tensor([[-0.2148,  0.8872],\n",
      "        [-0.5206,  0.2496],\n",
      "        [-0.8263, -0.3879]])\n"
     ]
    }
   ],
   "source": [
    "import torch\n",
    "\n",
    "# Create a matrix\n",
    "matrix = torch.Tensor([[1, 2, 3], [4, 5, 6], [7, 8, 9]])\n",
    "\n",
    "# Perform SVD\n",
    "u, s, v = torch.svd(matrix)\n",
    "\n",
    "# Keep only the first k singular values\n",
    "k = 2\n",
    "s_k = s[:k]\n",
    "\n",
    "# Keep only the first k columns of U and the first k rows of V\n",
    "u_k = u[:, :k]\n",
    "v_k = v[:k, :]\n",
    "\n",
    "tmp = torch.mm(u_k, torch.diag(s_k))\n",
    "# Reconstruct the original matrix using only the first k singular values and the first k columns of U and V\n",
    "matrix_reduced = u[:, :k]\n",
    "\n",
    "print(\"Original matrix: \", matrix)\n",
    "print(\"Reduced matrix: \", matrix_reduced)\n"
   ]
  },
  {
   "cell_type": "code",
   "execution_count": 48,
   "metadata": {},
   "outputs": [],
   "source": [
    "t1 = torch.tensor(\n",
    "    [1., 2., 3.]\n",
    ").unsqueeze(0)\n",
    "#t1 = t1.view(1, 1, *t1.shape)\n",
    "\n",
    "t2 = torch.tensor(\n",
    "    [\n",
    "        [1., 2., 3.],\n",
    "        [4., 5., 6.]\n",
    "    ]\n",
    ")\n",
    "#t2 = t2.view(1, *t2.shape)\n",
    "\n",
    "t3 = torch.randn(4, 4, 4)"
   ]
  },
  {
   "cell_type": "code",
   "execution_count": 49,
   "metadata": {},
   "outputs": [
    {
     "data": {
      "text/plain": [
       "tensor([[0., 0., 0.],\n",
       "        [0., 0., 0.],\n",
       "        [0., 0., 0.],\n",
       "        [0., 0., 0.]])"
      ]
     },
     "execution_count": 49,
     "metadata": {},
     "output_type": "execute_result"
    }
   ],
   "source": [
    "increased_tensor = torch.zeros(4, t2.shape[1])\n",
    "increased_tensor"
   ]
  },
  {
   "cell_type": "code",
   "execution_count": 50,
   "metadata": {},
   "outputs": [
    {
     "data": {
      "text/plain": [
       "3"
      ]
     },
     "execution_count": 50,
     "metadata": {},
     "output_type": "execute_result"
    }
   ],
   "source": [
    "t2.shape[1]"
   ]
  },
  {
   "cell_type": "code",
   "execution_count": 51,
   "metadata": {},
   "outputs": [
    {
     "data": {
      "text/plain": [
       "torch.Size([2, 3])"
      ]
     },
     "execution_count": 51,
     "metadata": {},
     "output_type": "execute_result"
    }
   ],
   "source": [
    "t2.shape"
   ]
  },
  {
   "cell_type": "code",
   "execution_count": 52,
   "metadata": {},
   "outputs": [
    {
     "data": {
      "text/plain": [
       "tensor([[1., 2., 3.],\n",
       "        [4., 5., 6.],\n",
       "        [0., 0., 0.],\n",
       "        [0., 0., 0.]])"
      ]
     },
     "execution_count": 52,
     "metadata": {},
     "output_type": "execute_result"
    }
   ],
   "source": [
    "increased_tensor[:t2.shape[0], :] = t2\n",
    "increased_tensor"
   ]
  }
 ],
 "metadata": {
  "kernelspec": {
   "display_name": "Python 3",
   "language": "python",
   "name": "python3"
  },
  "language_info": {
   "codemirror_mode": {
    "name": "ipython",
    "version": 3
   },
   "file_extension": ".py",
   "mimetype": "text/x-python",
   "name": "python",
   "nbconvert_exporter": "python",
   "pygments_lexer": "ipython3",
   "version": "3.10.6"
  },
  "orig_nbformat": 4,
  "vscode": {
   "interpreter": {
    "hash": "916dbcbb3f70747c44a77c7bcd40155683ae19c65e1c03b4aa3499c5328201f1"
   }
  }
 },
 "nbformat": 4,
 "nbformat_minor": 2
}
