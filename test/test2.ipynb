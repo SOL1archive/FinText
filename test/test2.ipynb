{
 "cells": [
  {
   "attachments": {},
   "cell_type": "markdown",
   "metadata": {},
   "source": [
    "박수빈"
   ]
  },
  {
   "cell_type": "code",
   "execution_count": 13,
   "metadata": {},
   "outputs": [],
   "source": [
    "from tqdm.notebook import tqdm"
   ]
  },
  {
   "cell_type": "code",
   "execution_count": 1,
   "metadata": {},
   "outputs": [
    {
     "name": "stderr",
     "output_type": "stream",
     "text": [
      "2023-01-16 20:47:01.883950: I tensorflow/core/platform/cpu_feature_guard.cc:193] This TensorFlow binary is optimized with oneAPI Deep Neural Network Library (oneDNN) to use the following CPU instructions in performance-critical operations:  AVX2 FMA\n",
      "To enable them in other operations, rebuild TensorFlow with the appropriate compiler flags.\n",
      "2023-01-16 20:47:02.542507: W tensorflow/compiler/xla/stream_executor/platform/default/dso_loader.cc:64] Could not load dynamic library 'libnvinfer.so.7'; dlerror: libnvinfer.so.7: cannot open shared object file: No such file or directory\n",
      "2023-01-16 20:47:02.542595: W tensorflow/compiler/xla/stream_executor/platform/default/dso_loader.cc:64] Could not load dynamic library 'libnvinfer_plugin.so.7'; dlerror: libnvinfer_plugin.so.7: cannot open shared object file: No such file or directory\n",
      "2023-01-16 20:47:02.542601: W tensorflow/compiler/tf2tensorrt/utils/py_utils.cc:38] TF-TRT Warning: Cannot dlopen some TensorRT libraries. If you would like to use Nvidia GPU with TensorRT, please make sure the missing libraries mentioned above are installed properly.\n"
     ]
    }
   ],
   "source": [
    "import torch\n",
    "import torch.nn as nn\n",
    "import torch.functional as F\n",
    "from torch.utils.data import Dataset, DataLoader\n",
    "\n",
    "from transformers import ElectraTokenizer, ElectraModel, BertTokenizer, BertModel"
   ]
  },
  {
   "cell_type": "code",
   "execution_count": 2,
   "metadata": {},
   "outputs": [
    {
     "data": {
      "text/plain": [
       "<torch.autograd.anomaly_mode.set_detect_anomaly at 0x7f14fe795960>"
      ]
     },
     "execution_count": 2,
     "metadata": {},
     "output_type": "execute_result"
    }
   ],
   "source": [
    "torch.autograd.set_detect_anomaly(True)"
   ]
  },
  {
   "cell_type": "code",
   "execution_count": 15,
   "metadata": {},
   "outputs": [],
   "source": [
    "from scipy.spatial.distance import cosine"
   ]
  },
  {
   "attachments": {},
   "cell_type": "markdown",
   "metadata": {},
   "source": [
    "## ELECTRA PRACTICE"
   ]
  },
  {
   "cell_type": "code",
   "execution_count": 16,
   "metadata": {},
   "outputs": [
    {
     "data": {
      "text/plain": [
       "'cuda'"
      ]
     },
     "execution_count": 16,
     "metadata": {},
     "output_type": "execute_result"
    }
   ],
   "source": [
    "device = 'cuda' if torch.cuda.is_available() else 'cpu'\n",
    "device"
   ]
  },
  {
   "cell_type": "code",
   "execution_count": 17,
   "metadata": {},
   "outputs": [
    {
     "name": "stderr",
     "output_type": "stream",
     "text": [
      "Some weights of the model checkpoint at monologg/koelectra-small-v3-discriminator were not used when initializing ElectraModel: ['discriminator_predictions.dense_prediction.bias', 'discriminator_predictions.dense.bias', 'discriminator_predictions.dense_prediction.weight', 'discriminator_predictions.dense.weight']\n",
      "- This IS expected if you are initializing ElectraModel from the checkpoint of a model trained on another task or with another architecture (e.g. initializing a BertForSequenceClassification model from a BertForPreTraining model).\n",
      "- This IS NOT expected if you are initializing ElectraModel from the checkpoint of a model that you expect to be exactly identical (initializing a BertForSequenceClassification model from a BertForSequenceClassification model).\n"
     ]
    }
   ],
   "source": [
    "electra_tokenizer = ElectraTokenizer.from_pretrained(\"monologg/koelectra-base-v3-discriminator\")\n",
    "electra_model = ElectraModel.from_pretrained(\"monologg/koelectra-small-v3-discriminator\")"
   ]
  },
  {
   "cell_type": "code",
   "execution_count": 18,
   "metadata": {},
   "outputs": [],
   "source": [
    "bert_tokenizer = BertTokenizer.from_pretrained('monologg/kobert')\n",
    "bert_model = BertModel.from_pretrained('monologg/kobert')"
   ]
  },
  {
   "cell_type": "code",
   "execution_count": 19,
   "metadata": {},
   "outputs": [],
   "source": [
    "text1 = \"한국어 ELECTRA를 공유합니다.\"\n",
    "text2 = '한국의 국어로 된 ELECTRA를 공유합니다.'"
   ]
  },
  {
   "cell_type": "code",
   "execution_count": 20,
   "metadata": {},
   "outputs": [
    {
     "data": {
      "text/plain": [
       "(['한국어', 'EL', '##EC', '##TRA', '##를', '공유', '##합니다', '.'],\n",
       " ['한국',\n",
       "  '##의',\n",
       "  '국어',\n",
       "  '##로',\n",
       "  '된',\n",
       "  'EL',\n",
       "  '##EC',\n",
       "  '##TRA',\n",
       "  '##를',\n",
       "  '공유',\n",
       "  '##합니다',\n",
       "  '.'])"
      ]
     },
     "execution_count": 20,
     "metadata": {},
     "output_type": "execute_result"
    }
   ],
   "source": [
    "electra_tokenizer.tokenize(text1), electra_tokenizer.tokenize(text2)"
   ]
  },
  {
   "cell_type": "code",
   "execution_count": 21,
   "metadata": {},
   "outputs": [],
   "source": [
    "electra_tensor1 = torch.tensor(electra_tokenizer.encode(text1)).unsqueeze(0)\n",
    "electra_tensor2 = torch.tensor(electra_tokenizer.encode(text2)).unsqueeze(0)\n",
    "bert_tensor1 = torch.tensor(bert_tokenizer.encode(text1)).unsqueeze(0)\n",
    "bert_tensor2 = torch.tensor(bert_tokenizer.encode(text2)).unsqueeze(0)"
   ]
  },
  {
   "cell_type": "code",
   "execution_count": 22,
   "metadata": {},
   "outputs": [
    {
     "name": "stdout",
     "output_type": "stream",
     "text": [
      "0.00993812084197998\n",
      "0.040048182010650635\n",
      "difference: -0.030110061168670654\n"
     ]
    }
   ],
   "source": [
    "with torch.no_grad():\n",
    "    electra_embedded_tensor1 = torch.Tensor.numpy(electra_model(electra_tensor1)[0][0][0])\n",
    "    electra_embedded_tensor2 = torch.Tensor.numpy(electra_model(electra_tensor2)[0][0][0])\n",
    "    bert_embedded_tensor1 = torch.Tensor.numpy(bert_model(bert_tensor1)[0][0][0])\n",
    "    bert_embedded_tensor2 = torch.Tensor.numpy(bert_model(bert_tensor2)[0][0][0])\n",
    "    electra_distance = cosine(electra_embedded_tensor1, electra_embedded_tensor2)\n",
    "    bert_distance = cosine(bert_embedded_tensor1, bert_embedded_tensor2)\n",
    "\n",
    "    print(\n",
    "        electra_distance,\n",
    "        bert_distance,\n",
    "        f'difference: {electra_distance - bert_distance}',\n",
    "        sep='\\n'\n",
    "    )"
   ]
  },
  {
   "attachments": {},
   "cell_type": "markdown",
   "metadata": {},
   "source": [
    "## PyTorch Syntax"
   ]
  },
  {
   "cell_type": "code",
   "execution_count": 7,
   "metadata": {},
   "outputs": [
    {
     "name": "stdout",
     "output_type": "stream",
     "text": [
      "[Parameter containing:\n",
      "tensor([[-0.8512]], requires_grad=True), Parameter containing:\n",
      "tensor([-0.5640], requires_grad=True)]\n"
     ]
    }
   ],
   "source": [
    "model = nn.Linear(in_features=1, out_features=1)\n",
    "\n",
    "x_data = torch.Tensor([1, 2, 3, 4, 5]).view(-1, 1)\n",
    "y_data = torch.Tensor([2, 4, 6, 8, 10]).view(-1, 1)\n",
    "\n",
    "criterion = nn.MSELoss(model.parameters())\n",
    "optimizer = torch.optim.Adam()\n",
    "\n",
    "for _ in range(100):\n",
    "    pred = model(x_data)\n",
    "    loss = criterion(pred, y_data)\n",
    "\n",
    "    optimizer.zero_grad()\n",
    "    loss.backward()\n",
    "    optimizer.step()"
   ]
  }
 ],
 "metadata": {
  "kernelspec": {
   "display_name": "Python 3",
   "language": "python",
   "name": "python3"
  },
  "language_info": {
   "codemirror_mode": {
    "name": "ipython",
    "version": 3
   },
   "file_extension": ".py",
   "mimetype": "text/x-python",
   "name": "python",
   "nbconvert_exporter": "python",
   "pygments_lexer": "ipython3",
   "version": "3.10.6"
  },
  "orig_nbformat": 4,
  "vscode": {
   "interpreter": {
    "hash": "916dbcbb3f70747c44a77c7bcd40155683ae19c65e1c03b4aa3499c5328201f1"
   }
  }
 },
 "nbformat": 4,
 "nbformat_minor": 2
}
