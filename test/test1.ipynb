{
 "cells": [
  {
   "cell_type": "code",
   "execution_count": null,
   "metadata": {},
   "outputs": [],
   "source": [
    "import numpy as np\n",
    "import pandas as pd\n",
    "\n",
    "df = pd.read_excel('../Downloads/kakao.xlsx')\n",
    "\n",
    "print(df.info())\n",
    "\n",
    "article_kakao_array = df.values\n",
    "print(article_kakao_array)\n",
    "print(type(article_kakao_array))\n",
    "# xlsx 파일을 numpy.ndarray형으로 변환\n",
    "# 위의 코드에서는 각 기사에 따라 행을 나누어 2차원 배열로 생성하였다.\n",
    "# 데이터프레임의 info에 따라 object 형들은 토큰화를 하고 다시 배열로 생성 후 tensor로 변환해야 할 것 같다."
   ]
  },
  {
   "cell_type": "code",
   "execution_count": null,
   "metadata": {},
   "outputs": [],
   "source": [
    "df_index = len(df)\n",
    "bundle_size = 15\n",
    "print(df_index)\n",
    "\n",
    "for i in range (0,df_index):\n",
    "    df_i = df.iloc[[i]]\n",
    "\n",
    "#iloc 인자를 건드려서 추출을 bundle_size개씩 할 수 있도록 만들거나\n",
    "#데이터프레임을 생성할 때 1개의 행을 가지는 데이터프레임을 저장할 수 있도록 하여 나중에 concat메서드로 bundle_size 만큼 묶어야한다.\n",
    "#조건문을 추가하여 데이터프레임이 bundle_size개의 행을 가지게 될 때마다 루프를 나오는 방법도 괜찮을거같다.\n",
    "#위의 방법을 수행하기 위해서는 df.iloc[[]]가 한번에 bundle_size개의 행을 추출 할수 있도록 코드를 짜야한다."
   ]
  },
  {
   "cell_type": "code",
   "execution_count": null,
   "metadata": {},
   "outputs": [],
   "source": []
  }
 ],
 "metadata": {
  "language_info": {
   "name": "python"
  },
  "orig_nbformat": 4
 },
 "nbformat": 4,
 "nbformat_minor": 2
}
