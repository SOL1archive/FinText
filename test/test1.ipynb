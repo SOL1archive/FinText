import numpy as np
import pandas as pd

df = pd.read_excel('../Downloads/kakao.xlsx')

#tensor = tf.constant(df.values)
print(df.head())

article_kakao_array = df.values
print(article_kakao_array)
print(type(article_kakao_array))
