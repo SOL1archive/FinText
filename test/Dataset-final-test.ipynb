{
 "cells": [
  {
   "cell_type": "code",
   "execution_count": 1,
   "metadata": {},
   "outputs": [
    {
     "name": "stderr",
     "output_type": "stream",
     "text": [
      "2023-01-21 14:27:06.103528: I tensorflow/core/platform/cpu_feature_guard.cc:193] This TensorFlow binary is optimized with oneAPI Deep Neural Network Library (oneDNN) to use the following CPU instructions in performance-critical operations:  AVX2 FMA\n",
      "To enable them in other operations, rebuild TensorFlow with the appropriate compiler flags.\n",
      "2023-01-21 14:27:06.853075: W tensorflow/compiler/xla/stream_executor/platform/default/dso_loader.cc:64] Could not load dynamic library 'libnvinfer.so.7'; dlerror: libnvinfer.so.7: cannot open shared object file: No such file or directory\n",
      "2023-01-21 14:27:06.853171: W tensorflow/compiler/xla/stream_executor/platform/default/dso_loader.cc:64] Could not load dynamic library 'libnvinfer_plugin.so.7'; dlerror: libnvinfer_plugin.so.7: cannot open shared object file: No such file or directory\n",
      "2023-01-21 14:27:06.853177: W tensorflow/compiler/tf2tensorrt/utils/py_utils.cc:38] TF-TRT Warning: Cannot dlopen some TensorRT libraries. If you would like to use Nvidia GPU with TensorRT, please make sure the missing libraries mentioned above are installed properly.\n"
     ]
    }
   ],
   "source": [
    "import sys\n",
    "import os\n",
    "\n",
    "import pandas as pd\n",
    "import torch\n",
    "\n",
    "sys.path.append(os.path.dirname(os.path.abspath(os.path.dirname('./..'))))\n",
    "\n",
    "from Data.Dataset import FinTextDataset\n",
    "from Data.DataLoader import FinTextDataLoader\n",
    "from utils import *"
   ]
  },
  {
   "cell_type": "code",
   "execution_count": 2,
   "metadata": {},
   "outputs": [
    {
     "data": {
      "text/plain": [
       "113"
      ]
     },
     "execution_count": 2,
     "metadata": {},
     "output_type": "execute_result"
    }
   ],
   "source": [
    "# 데이터가 준비되었을 때 작동\n",
    "kakao_df = pd.read_pickle('../data-dir/data-df.pkl')\n",
    "#spc_df = pd.read_excel('../data-dir/spc.xlsx')\n",
    "len(kakao_df)"
   ]
  },
  {
   "cell_type": "code",
   "execution_count": 3,
   "metadata": {},
   "outputs": [
    {
     "data": {
      "text/html": [
       "<div>\n",
       "<style scoped>\n",
       "    .dataframe tbody tr th:only-of-type {\n",
       "        vertical-align: middle;\n",
       "    }\n",
       "\n",
       "    .dataframe tbody tr th {\n",
       "        vertical-align: top;\n",
       "    }\n",
       "\n",
       "    .dataframe thead th {\n",
       "        text-align: right;\n",
       "    }\n",
       "</style>\n",
       "<table border=\"1\" class=\"dataframe\">\n",
       "  <thead>\n",
       "    <tr style=\"text-align: right;\">\n",
       "      <th></th>\n",
       "      <th>DayIndex</th>\n",
       "      <th>Open</th>\n",
       "      <th>High</th>\n",
       "      <th>Low</th>\n",
       "      <th>Close</th>\n",
       "      <th>CommunityText</th>\n",
       "      <th>MetricIndex</th>\n",
       "      <th>Label</th>\n",
       "    </tr>\n",
       "  </thead>\n",
       "  <tbody>\n",
       "    <tr>\n",
       "      <th>0</th>\n",
       "      <td>2022-10-14_AM</td>\n",
       "      <td>0.734719</td>\n",
       "      <td>0.772141</td>\n",
       "      <td>0.734719</td>\n",
       "      <td>0.765489</td>\n",
       "      <td>[씨없는 카카오?알맹이가 없어 껍데기뿐인 카카오를 어디다 쓰나?강방천씨 나좀 이해좀...</td>\n",
       "      <td>[0.0, 0.0, 0.005847953216374269, 0.00546448087...</td>\n",
       "      <td>0</td>\n",
       "    </tr>\n",
       "    <tr>\n",
       "      <th>1</th>\n",
       "      <td>2022-10-14_PM</td>\n",
       "      <td>0.767152</td>\n",
       "      <td>0.775468</td>\n",
       "      <td>0.763825</td>\n",
       "      <td>0.773805</td>\n",
       "      <td>[다음주에 엄청 빠지겠네..., 51000~51300원 사이에서80%매도 기다린다 ...</td>\n",
       "      <td>[-0.003012048192771084, -0.005025125628140704,...</td>\n",
       "      <td>0</td>\n",
       "    </tr>\n",
       "    <tr>\n",
       "      <th>2</th>\n",
       "      <td>2022-10-17_AM</td>\n",
       "      <td>0.773805</td>\n",
       "      <td>0.773805</td>\n",
       "      <td>0.693139</td>\n",
       "      <td>0.729730</td>\n",
       "      <td>[카카오관련주 모두 지난 금요일 대량거래후유증 크겠다.n추가상승 노리고  매수후 보...</td>\n",
       "      <td>[0.007407407407407408, 0.008695652173913044, 0...</td>\n",
       "      <td>1</td>\n",
       "    </tr>\n",
       "    <tr>\n",
       "      <th>3</th>\n",
       "      <td>2022-10-20_AM</td>\n",
       "      <td>0.747193</td>\n",
       "      <td>0.747193</td>\n",
       "      <td>0.708940</td>\n",
       "      <td>0.708940</td>\n",
       "      <td>[신뢰도가 추락한만큼이미지 쇄신을 위해서 분할상장 앞으로 없다고 하고 지금이라도 자...</td>\n",
       "      <td>[0.05333333333333334, 0.02678571428571428, 0.0...</td>\n",
       "      <td>1</td>\n",
       "    </tr>\n",
       "    <tr>\n",
       "      <th>4</th>\n",
       "      <td>2022-10-20_PM</td>\n",
       "      <td>0.708940</td>\n",
       "      <td>0.718087</td>\n",
       "      <td>0.705613</td>\n",
       "      <td>0.713098</td>\n",
       "      <td>[진바닥 알려줄게 이만오처넌이야딱 갈치 고등어 반토막 ㅋㅋ, 오늘도 개미는 열심히 ...</td>\n",
       "      <td>[0.0, 0.007692307692307693, 0.0, 0.00719424460...</td>\n",
       "      <td>1</td>\n",
       "    </tr>\n",
       "    <tr>\n",
       "      <th>...</th>\n",
       "      <td>...</td>\n",
       "      <td>...</td>\n",
       "      <td>...</td>\n",
       "      <td>...</td>\n",
       "      <td>...</td>\n",
       "      <td>...</td>\n",
       "      <td>...</td>\n",
       "      <td>...</td>\n",
       "    </tr>\n",
       "    <tr>\n",
       "      <th>108</th>\n",
       "      <td>2023-01-04_PM</td>\n",
       "      <td>0.833680</td>\n",
       "      <td>0.850312</td>\n",
       "      <td>0.833680</td>\n",
       "      <td>0.845322</td>\n",
       "      <td>[어차피 내일 조정 나올건데 1천원만 더 올라가면 안되겠니?제발욤 ㅎㅎ, 외국인 기...</td>\n",
       "      <td>[0.0, -0.008888888888888889, 0.0, 0.0021645021...</td>\n",
       "      <td>0</td>\n",
       "    </tr>\n",
       "    <tr>\n",
       "      <th>109</th>\n",
       "      <td>2023-01-05_AM</td>\n",
       "      <td>0.845322</td>\n",
       "      <td>0.881913</td>\n",
       "      <td>0.845322</td>\n",
       "      <td>0.876923</td>\n",
       "      <td>[속보  사우디펀드카카오엔터 1조투자이거이거~~~지분73%있는거는 알재?, 오늘오늘...</td>\n",
       "      <td>[0.005607476635514018, 0.0, 0.0026109660574412...</td>\n",
       "      <td>0</td>\n",
       "    </tr>\n",
       "    <tr>\n",
       "      <th>110</th>\n",
       "      <td>2023-01-05_PM</td>\n",
       "      <td>0.876923</td>\n",
       "      <td>0.886902</td>\n",
       "      <td>0.873597</td>\n",
       "      <td>0.878586</td>\n",
       "      <td>[인문학사회분야헤게모니들에게...기득권파쇼들에게 ..그저 \"\"전술로 이용되기나하는것...</td>\n",
       "      <td>[-0.005747126436781609, -0.004975124378109453,...</td>\n",
       "      <td>0</td>\n",
       "    </tr>\n",
       "    <tr>\n",
       "      <th>111</th>\n",
       "      <td>2023-01-06_AM</td>\n",
       "      <td>0.878586</td>\n",
       "      <td>0.883576</td>\n",
       "      <td>0.861954</td>\n",
       "      <td>0.873597</td>\n",
       "      <td>[2023년 올해들어서 1월1일 나는 아래와같은 금융댓글 30일사용정지를 받았습니다...</td>\n",
       "      <td>[0.0, -0.003773584905660377, 0.0, 0.0059880239...</td>\n",
       "      <td>1</td>\n",
       "    </tr>\n",
       "    <tr>\n",
       "      <th>112</th>\n",
       "      <td>2023-01-06_PM</td>\n",
       "      <td>0.873597</td>\n",
       "      <td>0.876923</td>\n",
       "      <td>0.860291</td>\n",
       "      <td>0.870270</td>\n",
       "      <td>[참 공매도 찌질이들...거래량도 얼마 없이 멈추니 장난질하네 ...참 ...찌질이...</td>\n",
       "      <td>[0.0, 0.003584229390681004, -0.008771929824561...</td>\n",
       "      <td>1</td>\n",
       "    </tr>\n",
       "  </tbody>\n",
       "</table>\n",
       "<p>113 rows × 8 columns</p>\n",
       "</div>"
      ],
      "text/plain": [
       "          DayIndex      Open      High       Low     Close  \\\n",
       "0    2022-10-14_AM  0.734719  0.772141  0.734719  0.765489   \n",
       "1    2022-10-14_PM  0.767152  0.775468  0.763825  0.773805   \n",
       "2    2022-10-17_AM  0.773805  0.773805  0.693139  0.729730   \n",
       "3    2022-10-20_AM  0.747193  0.747193  0.708940  0.708940   \n",
       "4    2022-10-20_PM  0.708940  0.718087  0.705613  0.713098   \n",
       "..             ...       ...       ...       ...       ...   \n",
       "108  2023-01-04_PM  0.833680  0.850312  0.833680  0.845322   \n",
       "109  2023-01-05_AM  0.845322  0.881913  0.845322  0.876923   \n",
       "110  2023-01-05_PM  0.876923  0.886902  0.873597  0.878586   \n",
       "111  2023-01-06_AM  0.878586  0.883576  0.861954  0.873597   \n",
       "112  2023-01-06_PM  0.873597  0.876923  0.860291  0.870270   \n",
       "\n",
       "                                         CommunityText  \\\n",
       "0    [씨없는 카카오?알맹이가 없어 껍데기뿐인 카카오를 어디다 쓰나?강방천씨 나좀 이해좀...   \n",
       "1    [다음주에 엄청 빠지겠네..., 51000~51300원 사이에서80%매도 기다린다 ...   \n",
       "2    [카카오관련주 모두 지난 금요일 대량거래후유증 크겠다.n추가상승 노리고  매수후 보...   \n",
       "3    [신뢰도가 추락한만큼이미지 쇄신을 위해서 분할상장 앞으로 없다고 하고 지금이라도 자...   \n",
       "4    [진바닥 알려줄게 이만오처넌이야딱 갈치 고등어 반토막 ㅋㅋ, 오늘도 개미는 열심히 ...   \n",
       "..                                                 ...   \n",
       "108  [어차피 내일 조정 나올건데 1천원만 더 올라가면 안되겠니?제발욤 ㅎㅎ, 외국인 기...   \n",
       "109  [속보  사우디펀드카카오엔터 1조투자이거이거~~~지분73%있는거는 알재?, 오늘오늘...   \n",
       "110  [인문학사회분야헤게모니들에게...기득권파쇼들에게 ..그저 \"\"전술로 이용되기나하는것...   \n",
       "111  [2023년 올해들어서 1월1일 나는 아래와같은 금융댓글 30일사용정지를 받았습니다...   \n",
       "112  [참 공매도 찌질이들...거래량도 얼마 없이 멈추니 장난질하네 ...참 ...찌질이...   \n",
       "\n",
       "                                           MetricIndex  Label  \n",
       "0    [0.0, 0.0, 0.005847953216374269, 0.00546448087...      0  \n",
       "1    [-0.003012048192771084, -0.005025125628140704,...      0  \n",
       "2    [0.007407407407407408, 0.008695652173913044, 0...      1  \n",
       "3    [0.05333333333333334, 0.02678571428571428, 0.0...      1  \n",
       "4    [0.0, 0.007692307692307693, 0.0, 0.00719424460...      1  \n",
       "..                                                 ...    ...  \n",
       "108  [0.0, -0.008888888888888889, 0.0, 0.0021645021...      0  \n",
       "109  [0.005607476635514018, 0.0, 0.0026109660574412...      0  \n",
       "110  [-0.005747126436781609, -0.004975124378109453,...      0  \n",
       "111  [0.0, -0.003773584905660377, 0.0, 0.0059880239...      1  \n",
       "112  [0.0, 0.003584229390681004, -0.008771929824561...      1  \n",
       "\n",
       "[113 rows x 8 columns]"
      ]
     },
     "execution_count": 3,
     "metadata": {},
     "output_type": "execute_result"
    }
   ],
   "source": [
    "kakao_df"
   ]
  },
  {
   "cell_type": "code",
   "execution_count": 4,
   "metadata": {},
   "outputs": [
    {
     "name": "stderr",
     "output_type": "stream",
     "text": [
      "The tokenizer class you load from this checkpoint is not the same type as the class this function is called from. It may result in unexpected tokenization. \n",
      "The tokenizer class you load from this checkpoint is 'BertTokenizer'. \n",
      "The class this function is called from is 'ElectraTokenizer'.\n",
      "Some weights of the model checkpoint at beomi/KcELECTRA-base-v2022 were not used when initializing ElectraModel: ['discriminator_predictions.dense.weight', 'discriminator_predictions.dense.bias', 'discriminator_predictions.dense_prediction.weight', 'discriminator_predictions.dense_prediction.bias']\n",
      "- This IS expected if you are initializing ElectraModel from the checkpoint of a model trained on another task or with another architecture (e.g. initializing a BertForSequenceClassification model from a BertForPreTraining model).\n",
      "- This IS NOT expected if you are initializing ElectraModel from the checkpoint of a model that you expect to be exactly identical (initializing a BertForSequenceClassification model from a BertForSequenceClassification model).\n",
      "/home/thesol1/projects/FinText/Data/Dataset.py:113: UserWarning: To copy construct from a tensor, it is recommended to use sourceTensor.clone().detach() or sourceTensor.clone().detach().requires_grad_(True), rather than torch.tensor(sourceTensor).\n",
      "  embedded_matrix = torch.tensor(embedded_matrix[0][0]).to(device)\n"
     ]
    },
    {
     "ename": "ValueError",
     "evalue": "q(=5000) must be non-negative integer and not greater than min(m, n)=768",
     "output_type": "error",
     "traceback": [
      "\u001b[0;31m---------------------------------------------------------------------------\u001b[0m",
      "\u001b[0;31mValueError\u001b[0m                                Traceback (most recent call last)",
      "Cell \u001b[0;32mIn[4], line 1\u001b[0m\n\u001b[0;32m----> 1\u001b[0m dataset \u001b[39m=\u001b[39m FinTextDataset(kakao_df)\n",
      "File \u001b[0;32m~/projects/FinText/Data/Dataset.py:137\u001b[0m, in \u001b[0;36mFinTextDataset.__init__\u001b[0;34m(self, df, **config)\u001b[0m\n\u001b[1;32m    132\u001b[0m \u001b[39mfor\u001b[39;00m _, period \u001b[39min\u001b[39;00m feature_df\u001b[39m.\u001b[39miterrows():\n\u001b[1;32m    134\u001b[0m     community_tensor \u001b[39m=\u001b[39m embed_text(\n\u001b[1;32m    135\u001b[0m         period[\u001b[39m\"\u001b[39m\u001b[39mCommunityText\u001b[39m\u001b[39m\"\u001b[39m], kc_tokenizer, kc_model\n\u001b[1;32m    136\u001b[0m     )\n\u001b[0;32m--> 137\u001b[0m     community_tensor \u001b[39m=\u001b[39m dim_fix(\n\u001b[1;32m    138\u001b[0m         community_tensor, \u001b[39mself\u001b[39;49m\u001b[39m.\u001b[39;49mconfig[\u001b[39m\"\u001b[39;49m\u001b[39mcommunity_row_len\u001b[39;49m\u001b[39m\"\u001b[39;49m]\n\u001b[1;32m    139\u001b[0m     )\n\u001b[1;32m    141\u001b[0m     community_metric_index \u001b[39m=\u001b[39m torch\u001b[39m.\u001b[39mtensor(period[\u001b[39m\"\u001b[39m\u001b[39mMetricIndex\u001b[39m\u001b[39m\"\u001b[39m])\n\u001b[1;32m    143\u001b[0m     price_index \u001b[39m=\u001b[39m torch\u001b[39m.\u001b[39mtensor(\n\u001b[1;32m    144\u001b[0m         [period[\u001b[39m\"\u001b[39m\u001b[39mOpen\u001b[39m\u001b[39m\"\u001b[39m], period[\u001b[39m\"\u001b[39m\u001b[39mHigh\u001b[39m\u001b[39m\"\u001b[39m], period[\u001b[39m\"\u001b[39m\u001b[39mLow\u001b[39m\u001b[39m\"\u001b[39m], period[\u001b[39m\"\u001b[39m\u001b[39mClose\u001b[39m\u001b[39m\"\u001b[39m]]\n\u001b[1;32m    145\u001b[0m     )\n",
      "File \u001b[0;32m~/projects/FinText/Data/Dataset.py:70\u001b[0m, in \u001b[0;36mFinTextDataset.__init__.<locals>.dim_fix\u001b[0;34m(tensor, row_len)\u001b[0m\n\u001b[1;32m     68\u001b[0m tensor \u001b[39m=\u001b[39m tensor\u001b[39m.\u001b[39mt()\n\u001b[1;32m     69\u001b[0m \u001b[39mif\u001b[39;00m method \u001b[39m==\u001b[39m \u001b[39m\"\u001b[39m\u001b[39mSVD\u001b[39m\u001b[39m\"\u001b[39m:\n\u001b[0;32m---> 70\u001b[0m     U, S, V \u001b[39m=\u001b[39m torch\u001b[39m.\u001b[39;49mpca_lowrank(tensor, q\u001b[39m=\u001b[39;49mrow_len)\n\u001b[1;32m     71\u001b[0m     \u001b[39mprint\u001b[39m(V\u001b[39m.\u001b[39mshape)\n\u001b[1;32m     72\u001b[0m     \u001b[39m#reduced_S = S[:row_len]\u001b[39;00m\n\u001b[1;32m     73\u001b[0m     \u001b[39m#reduced_U = U[:, :row_len]\u001b[39;00m\n\u001b[1;32m     74\u001b[0m     \u001b[39m#reduced_V = V[:row_len, :]\u001b[39;00m\n",
      "File \u001b[0;32m~/.local/lib/python3.10/site-packages/torch/_lowrank.py:265\u001b[0m, in \u001b[0;36mpca_lowrank\u001b[0;34m(A, q, center, niter)\u001b[0m\n\u001b[1;32m    263\u001b[0m     q \u001b[39m=\u001b[39m \u001b[39mmin\u001b[39m(\u001b[39m6\u001b[39m, m, n)\n\u001b[1;32m    264\u001b[0m \u001b[39melif\u001b[39;00m \u001b[39mnot\u001b[39;00m (q \u001b[39m>\u001b[39m\u001b[39m=\u001b[39m \u001b[39m0\u001b[39m \u001b[39mand\u001b[39;00m q \u001b[39m<\u001b[39m\u001b[39m=\u001b[39m \u001b[39mmin\u001b[39m(m, n)):\n\u001b[0;32m--> 265\u001b[0m     \u001b[39mraise\u001b[39;00m \u001b[39mValueError\u001b[39;00m(\n\u001b[1;32m    266\u001b[0m         \u001b[39m\"\u001b[39m\u001b[39mq(=\u001b[39m\u001b[39m{}\u001b[39;00m\u001b[39m) must be non-negative integer\u001b[39m\u001b[39m\"\u001b[39m\n\u001b[1;32m    267\u001b[0m         \u001b[39m\"\u001b[39m\u001b[39m and not greater than min(m, n)=\u001b[39m\u001b[39m{}\u001b[39;00m\u001b[39m\"\u001b[39m\u001b[39m.\u001b[39mformat(q, \u001b[39mmin\u001b[39m(m, n))\n\u001b[1;32m    268\u001b[0m     )\n\u001b[1;32m    269\u001b[0m \u001b[39mif\u001b[39;00m \u001b[39mnot\u001b[39;00m (niter \u001b[39m>\u001b[39m\u001b[39m=\u001b[39m \u001b[39m0\u001b[39m):\n\u001b[1;32m    270\u001b[0m     \u001b[39mraise\u001b[39;00m \u001b[39mValueError\u001b[39;00m(\u001b[39m\"\u001b[39m\u001b[39mniter(=\u001b[39m\u001b[39m{}\u001b[39;00m\u001b[39m) must be non-negative integer\u001b[39m\u001b[39m\"\u001b[39m\u001b[39m.\u001b[39mformat(niter))\n",
      "\u001b[0;31mValueError\u001b[0m: q(=5000) must be non-negative integer and not greater than min(m, n)=768"
     ]
    }
   ],
   "source": [
    "dataset = FinTextDataset(kakao_df)"
   ]
  },
  {
   "cell_type": "code",
   "execution_count": null,
   "metadata": {},
   "outputs": [],
   "source": [
    "dataset.feature_tensor.shape, dataset.target_tensor.shape"
   ]
  },
  {
   "cell_type": "code",
   "execution_count": null,
   "metadata": {},
   "outputs": [],
   "source": [
    "train, test = dataset.train_test_split()"
   ]
  },
  {
   "cell_type": "code",
   "execution_count": null,
   "metadata": {},
   "outputs": [],
   "source": [
    "train.feature_tensor.shape, train.target_tensor.shape"
   ]
  },
  {
   "cell_type": "code",
   "execution_count": null,
   "metadata": {},
   "outputs": [],
   "source": [
    "test.feature_tensor.shape, test.target_tensor.shape"
   ]
  },
  {
   "cell_type": "code",
   "execution_count": null,
   "metadata": {},
   "outputs": [],
   "source": [
    "train.to(\n",
    "    torch.device('cuda' if torch.cuda.is_available() else 'cpu')\n",
    ")"
   ]
  },
  {
   "cell_type": "code",
   "execution_count": null,
   "metadata": {},
   "outputs": [],
   "source": [
    "train1, train2 = train.train_test_split()"
   ]
  }
 ],
 "metadata": {
  "kernelspec": {
   "display_name": "Python 3",
   "language": "python",
   "name": "python3"
  },
  "language_info": {
   "codemirror_mode": {
    "name": "ipython",
    "version": 3
   },
   "file_extension": ".py",
   "mimetype": "text/x-python",
   "name": "python",
   "nbconvert_exporter": "python",
   "pygments_lexer": "ipython3",
   "version": "3.10.6"
  },
  "orig_nbformat": 4,
  "vscode": {
   "interpreter": {
    "hash": "31f2aee4e71d21fbe5cf8b01ff0e069b9275f58929596ceb00d14d90e3e16cd6"
   }
  }
 },
 "nbformat": 4,
 "nbformat_minor": 2
}
