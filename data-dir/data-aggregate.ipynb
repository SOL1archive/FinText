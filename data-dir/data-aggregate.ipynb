{
 "cells": [
  {
   "cell_type": "code",
   "execution_count": 1,
   "metadata": {},
   "outputs": [],
   "source": [
    "import numpy as np\n",
    "import pandas as pd"
   ]
  },
  {
   "cell_type": "code",
   "execution_count": 2,
   "metadata": {},
   "outputs": [
    {
     "data": {
      "text/html": [
       "<div>\n",
       "<style scoped>\n",
       "    .dataframe tbody tr th:only-of-type {\n",
       "        vertical-align: middle;\n",
       "    }\n",
       "\n",
       "    .dataframe tbody tr th {\n",
       "        vertical-align: top;\n",
       "    }\n",
       "\n",
       "    .dataframe thead th {\n",
       "        text-align: right;\n",
       "    }\n",
       "</style>\n",
       "<table border=\"1\" class=\"dataframe\">\n",
       "  <thead>\n",
       "    <tr style=\"text-align: right;\">\n",
       "      <th></th>\n",
       "      <th>Open</th>\n",
       "      <th>High</th>\n",
       "      <th>Low</th>\n",
       "      <th>Close</th>\n",
       "      <th>Date</th>\n",
       "    </tr>\n",
       "  </thead>\n",
       "  <tbody>\n",
       "    <tr>\n",
       "      <th>0</th>\n",
       "      <td>56900</td>\n",
       "      <td>57200</td>\n",
       "      <td>56800</td>\n",
       "      <td>57200</td>\n",
       "      <td>2023-01-06 15:00:00</td>\n",
       "    </tr>\n",
       "    <tr>\n",
       "      <th>1</th>\n",
       "      <td>57400</td>\n",
       "      <td>57500</td>\n",
       "      <td>56600</td>\n",
       "      <td>56900</td>\n",
       "      <td>2023-01-06 14:00:00</td>\n",
       "    </tr>\n",
       "    <tr>\n",
       "      <th>2</th>\n",
       "      <td>57400</td>\n",
       "      <td>57600</td>\n",
       "      <td>57300</td>\n",
       "      <td>57300</td>\n",
       "      <td>2023-01-06 13:00:00</td>\n",
       "    </tr>\n",
       "    <tr>\n",
       "      <th>3</th>\n",
       "      <td>57500</td>\n",
       "      <td>57700</td>\n",
       "      <td>57300</td>\n",
       "      <td>57400</td>\n",
       "      <td>2023-01-06 12:00:00</td>\n",
       "    </tr>\n",
       "    <tr>\n",
       "      <th>4</th>\n",
       "      <td>57300</td>\n",
       "      <td>57600</td>\n",
       "      <td>56900</td>\n",
       "      <td>57500</td>\n",
       "      <td>2023-01-06 11:00:00</td>\n",
       "    </tr>\n",
       "    <tr>\n",
       "      <th>...</th>\n",
       "      <td>...</td>\n",
       "      <td>...</td>\n",
       "      <td>...</td>\n",
       "      <td>...</td>\n",
       "      <td>...</td>\n",
       "    </tr>\n",
       "    <tr>\n",
       "      <th>153</th>\n",
       "      <td>58100</td>\n",
       "      <td>58100</td>\n",
       "      <td>57800</td>\n",
       "      <td>57900</td>\n",
       "      <td>2022-12-09 12:00:00</td>\n",
       "    </tr>\n",
       "    <tr>\n",
       "      <th>154</th>\n",
       "      <td>57600</td>\n",
       "      <td>58200</td>\n",
       "      <td>57600</td>\n",
       "      <td>58000</td>\n",
       "      <td>2022-12-09 11:00:00</td>\n",
       "    </tr>\n",
       "    <tr>\n",
       "      <th>155</th>\n",
       "      <td>56900</td>\n",
       "      <td>57700</td>\n",
       "      <td>56800</td>\n",
       "      <td>57700</td>\n",
       "      <td>2022-12-09 10:00:00</td>\n",
       "    </tr>\n",
       "    <tr>\n",
       "      <th>156</th>\n",
       "      <td>56100</td>\n",
       "      <td>57700</td>\n",
       "      <td>56000</td>\n",
       "      <td>57000</td>\n",
       "      <td>2022-12-09 09:00:00</td>\n",
       "    </tr>\n",
       "    <tr>\n",
       "      <th>157</th>\n",
       "      <td>55500</td>\n",
       "      <td>55500</td>\n",
       "      <td>55500</td>\n",
       "      <td>55500</td>\n",
       "      <td>2022-12-09 08:00:00</td>\n",
       "    </tr>\n",
       "  </tbody>\n",
       "</table>\n",
       "<p>158 rows × 5 columns</p>\n",
       "</div>"
      ],
      "text/plain": [
       "      Open   High    Low  Close                Date\n",
       "0    56900  57200  56800  57200 2023-01-06 15:00:00\n",
       "1    57400  57500  56600  56900 2023-01-06 14:00:00\n",
       "2    57400  57600  57300  57300 2023-01-06 13:00:00\n",
       "3    57500  57700  57300  57400 2023-01-06 12:00:00\n",
       "4    57300  57600  56900  57500 2023-01-06 11:00:00\n",
       "..     ...    ...    ...    ...                 ...\n",
       "153  58100  58100  57800  57900 2022-12-09 12:00:00\n",
       "154  57600  58200  57600  58000 2022-12-09 11:00:00\n",
       "155  56900  57700  56800  57700 2022-12-09 10:00:00\n",
       "156  56100  57700  56000  57000 2022-12-09 09:00:00\n",
       "157  55500  55500  55500  55500 2022-12-09 08:00:00\n",
       "\n",
       "[158 rows x 5 columns]"
      ]
     },
     "execution_count": 2,
     "metadata": {},
     "output_type": "execute_result"
    }
   ],
   "source": [
    "df = pd.read_excel('./kakao-sample2.xlsx')\n",
    "df['Date'] = df['Unnamed: 4']\n",
    "df = df.drop('Unnamed: 4', axis=1)\n",
    "df"
   ]
  },
  {
   "cell_type": "code",
   "execution_count": 3,
   "metadata": {},
   "outputs": [
    {
     "data": {
      "text/plain": [
       "dtype('<M8[ns]')"
      ]
     },
     "execution_count": 3,
     "metadata": {},
     "output_type": "execute_result"
    }
   ],
   "source": [
    "df['Date'].dtype"
   ]
  },
  {
   "cell_type": "code",
   "execution_count": 4,
   "metadata": {},
   "outputs": [
    {
     "data": {
      "text/html": [
       "<div>\n",
       "<style scoped>\n",
       "    .dataframe tbody tr th:only-of-type {\n",
       "        vertical-align: middle;\n",
       "    }\n",
       "\n",
       "    .dataframe tbody tr th {\n",
       "        vertical-align: top;\n",
       "    }\n",
       "\n",
       "    .dataframe thead th {\n",
       "        text-align: right;\n",
       "    }\n",
       "</style>\n",
       "<table border=\"1\" class=\"dataframe\">\n",
       "  <thead>\n",
       "    <tr style=\"text-align: right;\">\n",
       "      <th></th>\n",
       "      <th>Open</th>\n",
       "      <th>High</th>\n",
       "      <th>Low</th>\n",
       "      <th>Close</th>\n",
       "      <th>Date</th>\n",
       "    </tr>\n",
       "  </thead>\n",
       "  <tbody>\n",
       "    <tr>\n",
       "      <th>0</th>\n",
       "      <td>55500</td>\n",
       "      <td>55500</td>\n",
       "      <td>55500</td>\n",
       "      <td>55500</td>\n",
       "      <td>2022-12-09 08:00:00</td>\n",
       "    </tr>\n",
       "    <tr>\n",
       "      <th>1</th>\n",
       "      <td>56100</td>\n",
       "      <td>57700</td>\n",
       "      <td>56000</td>\n",
       "      <td>57000</td>\n",
       "      <td>2022-12-09 09:00:00</td>\n",
       "    </tr>\n",
       "    <tr>\n",
       "      <th>2</th>\n",
       "      <td>56900</td>\n",
       "      <td>57700</td>\n",
       "      <td>56800</td>\n",
       "      <td>57700</td>\n",
       "      <td>2022-12-09 10:00:00</td>\n",
       "    </tr>\n",
       "    <tr>\n",
       "      <th>3</th>\n",
       "      <td>57600</td>\n",
       "      <td>58200</td>\n",
       "      <td>57600</td>\n",
       "      <td>58000</td>\n",
       "      <td>2022-12-09 11:00:00</td>\n",
       "    </tr>\n",
       "    <tr>\n",
       "      <th>4</th>\n",
       "      <td>58100</td>\n",
       "      <td>58100</td>\n",
       "      <td>57800</td>\n",
       "      <td>57900</td>\n",
       "      <td>2022-12-09 12:00:00</td>\n",
       "    </tr>\n",
       "    <tr>\n",
       "      <th>...</th>\n",
       "      <td>...</td>\n",
       "      <td>...</td>\n",
       "      <td>...</td>\n",
       "      <td>...</td>\n",
       "      <td>...</td>\n",
       "    </tr>\n",
       "    <tr>\n",
       "      <th>153</th>\n",
       "      <td>57300</td>\n",
       "      <td>57600</td>\n",
       "      <td>56900</td>\n",
       "      <td>57500</td>\n",
       "      <td>2023-01-06 11:00:00</td>\n",
       "    </tr>\n",
       "    <tr>\n",
       "      <th>154</th>\n",
       "      <td>57500</td>\n",
       "      <td>57700</td>\n",
       "      <td>57300</td>\n",
       "      <td>57400</td>\n",
       "      <td>2023-01-06 12:00:00</td>\n",
       "    </tr>\n",
       "    <tr>\n",
       "      <th>155</th>\n",
       "      <td>57400</td>\n",
       "      <td>57600</td>\n",
       "      <td>57300</td>\n",
       "      <td>57300</td>\n",
       "      <td>2023-01-06 13:00:00</td>\n",
       "    </tr>\n",
       "    <tr>\n",
       "      <th>156</th>\n",
       "      <td>57400</td>\n",
       "      <td>57500</td>\n",
       "      <td>56600</td>\n",
       "      <td>56900</td>\n",
       "      <td>2023-01-06 14:00:00</td>\n",
       "    </tr>\n",
       "    <tr>\n",
       "      <th>157</th>\n",
       "      <td>56900</td>\n",
       "      <td>57200</td>\n",
       "      <td>56800</td>\n",
       "      <td>57200</td>\n",
       "      <td>2023-01-06 15:00:00</td>\n",
       "    </tr>\n",
       "  </tbody>\n",
       "</table>\n",
       "<p>158 rows × 5 columns</p>\n",
       "</div>"
      ],
      "text/plain": [
       "      Open   High    Low  Close                Date\n",
       "0    55500  55500  55500  55500 2022-12-09 08:00:00\n",
       "1    56100  57700  56000  57000 2022-12-09 09:00:00\n",
       "2    56900  57700  56800  57700 2022-12-09 10:00:00\n",
       "3    57600  58200  57600  58000 2022-12-09 11:00:00\n",
       "4    58100  58100  57800  57900 2022-12-09 12:00:00\n",
       "..     ...    ...    ...    ...                 ...\n",
       "153  57300  57600  56900  57500 2023-01-06 11:00:00\n",
       "154  57500  57700  57300  57400 2023-01-06 12:00:00\n",
       "155  57400  57600  57300  57300 2023-01-06 13:00:00\n",
       "156  57400  57500  56600  56900 2023-01-06 14:00:00\n",
       "157  56900  57200  56800  57200 2023-01-06 15:00:00\n",
       "\n",
       "[158 rows x 5 columns]"
      ]
     },
     "execution_count": 4,
     "metadata": {},
     "output_type": "execute_result"
    }
   ],
   "source": [
    "# Reverse & Set 'Date' to index\n",
    "df = df.iloc[::-1].reset_index().drop('index', axis=1)\n",
    "df"
   ]
  },
  {
   "cell_type": "code",
   "execution_count": 5,
   "metadata": {},
   "outputs": [
    {
     "data": {
      "text/plain": [
       "array([ 8,  9, 10, 11, 12, 13, 14, 15])"
      ]
     },
     "execution_count": 5,
     "metadata": {},
     "output_type": "execute_result"
    }
   ],
   "source": [
    "df['Date'].dt.hour.unique()"
   ]
  },
  {
   "cell_type": "code",
   "execution_count": 6,
   "metadata": {},
   "outputs": [
    {
     "ename": "KeyError",
     "evalue": "\"None of [''] are in the columns\"",
     "output_type": "error",
     "traceback": [
      "\u001b[0;31m---------------------------------------------------------------------------\u001b[0m",
      "\u001b[0;31mKeyError\u001b[0m                                  Traceback (most recent call last)",
      "Cell \u001b[0;32mIn[6], line 7\u001b[0m\n\u001b[1;32m      4\u001b[0m am_pm \u001b[39m=\u001b[39m pd\u001b[39m.\u001b[39mcut(df[\u001b[39m'\u001b[39m\u001b[39mDate\u001b[39m\u001b[39m'\u001b[39m]\u001b[39m.\u001b[39mdt\u001b[39m.\u001b[39mhour, bins\u001b[39m=\u001b[39mbins, labels\u001b[39m=\u001b[39mlabels, include_lowest\u001b[39m=\u001b[39m\u001b[39mTrue\u001b[39;00m)\n\u001b[1;32m      6\u001b[0m df[\u001b[39m'\u001b[39m\u001b[39mDayIndex\u001b[39m\u001b[39m'\u001b[39m] \u001b[39m=\u001b[39m date\u001b[39m.\u001b[39mstr\u001b[39m.\u001b[39mcat(am_pm)\n\u001b[0;32m----> 7\u001b[0m df\u001b[39m.\u001b[39;49mset_index(\u001b[39m'\u001b[39;49m\u001b[39m'\u001b[39;49m)\n",
      "File \u001b[0;32m~/.local/lib/python3.10/site-packages/pandas/util/_decorators.py:331\u001b[0m, in \u001b[0;36mdeprecate_nonkeyword_arguments.<locals>.decorate.<locals>.wrapper\u001b[0;34m(*args, **kwargs)\u001b[0m\n\u001b[1;32m    325\u001b[0m \u001b[39mif\u001b[39;00m \u001b[39mlen\u001b[39m(args) \u001b[39m>\u001b[39m num_allow_args:\n\u001b[1;32m    326\u001b[0m     warnings\u001b[39m.\u001b[39mwarn(\n\u001b[1;32m    327\u001b[0m         msg\u001b[39m.\u001b[39mformat(arguments\u001b[39m=\u001b[39m_format_argument_list(allow_args)),\n\u001b[1;32m    328\u001b[0m         \u001b[39mFutureWarning\u001b[39;00m,\n\u001b[1;32m    329\u001b[0m         stacklevel\u001b[39m=\u001b[39mfind_stack_level(),\n\u001b[1;32m    330\u001b[0m     )\n\u001b[0;32m--> 331\u001b[0m \u001b[39mreturn\u001b[39;00m func(\u001b[39m*\u001b[39;49margs, \u001b[39m*\u001b[39;49m\u001b[39m*\u001b[39;49mkwargs)\n",
      "File \u001b[0;32m~/.local/lib/python3.10/site-packages/pandas/core/frame.py:6009\u001b[0m, in \u001b[0;36mDataFrame.set_index\u001b[0;34m(self, keys, drop, append, inplace, verify_integrity)\u001b[0m\n\u001b[1;32m   6006\u001b[0m                 missing\u001b[39m.\u001b[39mappend(col)\n\u001b[1;32m   6008\u001b[0m \u001b[39mif\u001b[39;00m missing:\n\u001b[0;32m-> 6009\u001b[0m     \u001b[39mraise\u001b[39;00m \u001b[39mKeyError\u001b[39;00m(\u001b[39mf\u001b[39m\u001b[39m\"\u001b[39m\u001b[39mNone of \u001b[39m\u001b[39m{\u001b[39;00mmissing\u001b[39m}\u001b[39;00m\u001b[39m are in the columns\u001b[39m\u001b[39m\"\u001b[39m)\n\u001b[1;32m   6011\u001b[0m \u001b[39mif\u001b[39;00m inplace:\n\u001b[1;32m   6012\u001b[0m     frame \u001b[39m=\u001b[39m \u001b[39mself\u001b[39m\n",
      "\u001b[0;31mKeyError\u001b[0m: \"None of [''] are in the columns\""
     ]
    }
   ],
   "source": [
    "date = df['Date'].dt.date.astype(str)\n",
    "bins = [0, 12, 15, 24]\n",
    "labels = ['_AM', '_PM', '_Closed']\n",
    "am_pm = pd.cut(df['Date'].dt.hour, bins=bins, labels=labels, include_lowest=True)\n",
    "\n",
    "df['DayIndex'] = date.str.cat(am_pm)\n",
    "df.set_index('DayIndex')\n",
    "df"
   ]
  },
  {
   "cell_type": "code",
   "execution_count": 11,
   "metadata": {},
   "outputs": [
    {
     "ename": "KeyError",
     "evalue": "'Cloase'",
     "output_type": "error",
     "traceback": [
      "\u001b[0;31m---------------------------------------------------------------------------\u001b[0m",
      "\u001b[0;31mKeyError\u001b[0m                                  Traceback (most recent call last)",
      "File \u001b[0;32m~/.local/lib/python3.10/site-packages/pandas/core/indexes/base.py:3803\u001b[0m, in \u001b[0;36mIndex.get_loc\u001b[0;34m(self, key, method, tolerance)\u001b[0m\n\u001b[1;32m   3802\u001b[0m \u001b[39mtry\u001b[39;00m:\n\u001b[0;32m-> 3803\u001b[0m     \u001b[39mreturn\u001b[39;00m \u001b[39mself\u001b[39;49m\u001b[39m.\u001b[39;49m_engine\u001b[39m.\u001b[39;49mget_loc(casted_key)\n\u001b[1;32m   3804\u001b[0m \u001b[39mexcept\u001b[39;00m \u001b[39mKeyError\u001b[39;00m \u001b[39mas\u001b[39;00m err:\n",
      "File \u001b[0;32m~/.local/lib/python3.10/site-packages/pandas/_libs/index.pyx:138\u001b[0m, in \u001b[0;36mpandas._libs.index.IndexEngine.get_loc\u001b[0;34m()\u001b[0m\n",
      "File \u001b[0;32m~/.local/lib/python3.10/site-packages/pandas/_libs/index.pyx:165\u001b[0m, in \u001b[0;36mpandas._libs.index.IndexEngine.get_loc\u001b[0;34m()\u001b[0m\n",
      "File \u001b[0;32mpandas/_libs/hashtable_class_helper.pxi:5745\u001b[0m, in \u001b[0;36mpandas._libs.hashtable.PyObjectHashTable.get_item\u001b[0;34m()\u001b[0m\n",
      "File \u001b[0;32mpandas/_libs/hashtable_class_helper.pxi:5753\u001b[0m, in \u001b[0;36mpandas._libs.hashtable.PyObjectHashTable.get_item\u001b[0;34m()\u001b[0m\n",
      "\u001b[0;31mKeyError\u001b[0m: 'Cloase'",
      "\nThe above exception was the direct cause of the following exception:\n",
      "\u001b[0;31mKeyError\u001b[0m                                  Traceback (most recent call last)",
      "Cell \u001b[0;32mIn[11], line 5\u001b[0m\n\u001b[1;32m      3\u001b[0m new_df[\u001b[39m'\u001b[39m\u001b[39mHigh\u001b[39m\u001b[39m'\u001b[39m] \u001b[39m=\u001b[39m group[\u001b[39m'\u001b[39m\u001b[39mHigh\u001b[39m\u001b[39m'\u001b[39m]\u001b[39m.\u001b[39mmax()[\u001b[39m'\u001b[39m\u001b[39mHigh\u001b[39m\u001b[39m'\u001b[39m]\n\u001b[1;32m      4\u001b[0m new_df[\u001b[39m'\u001b[39m\u001b[39mLow\u001b[39m\u001b[39m'\u001b[39m] \u001b[39m=\u001b[39m group[\u001b[39m'\u001b[39m\u001b[39mLow\u001b[39m\u001b[39m'\u001b[39m]\u001b[39m.\u001b[39mmin()[\u001b[39m'\u001b[39m\u001b[39mLow\u001b[39m\u001b[39m'\u001b[39m]\n\u001b[0;32m----> 5\u001b[0m new_df[\u001b[39m'\u001b[39m\u001b[39mCloase\u001b[39m\u001b[39m'\u001b[39m] \u001b[39m=\u001b[39m group[\u001b[39m'\u001b[39;49m\u001b[39mClose\u001b[39;49m\u001b[39m'\u001b[39;49m]\u001b[39m.\u001b[39;49mlast()[\u001b[39m'\u001b[39;49m\u001b[39mCloase\u001b[39;49m\u001b[39m'\u001b[39;49m]\n\u001b[1;32m      6\u001b[0m new_df\n",
      "File \u001b[0;32m~/.local/lib/python3.10/site-packages/pandas/core/frame.py:3805\u001b[0m, in \u001b[0;36mDataFrame.__getitem__\u001b[0;34m(self, key)\u001b[0m\n\u001b[1;32m   3803\u001b[0m \u001b[39mif\u001b[39;00m \u001b[39mself\u001b[39m\u001b[39m.\u001b[39mcolumns\u001b[39m.\u001b[39mnlevels \u001b[39m>\u001b[39m \u001b[39m1\u001b[39m:\n\u001b[1;32m   3804\u001b[0m     \u001b[39mreturn\u001b[39;00m \u001b[39mself\u001b[39m\u001b[39m.\u001b[39m_getitem_multilevel(key)\n\u001b[0;32m-> 3805\u001b[0m indexer \u001b[39m=\u001b[39m \u001b[39mself\u001b[39;49m\u001b[39m.\u001b[39;49mcolumns\u001b[39m.\u001b[39;49mget_loc(key)\n\u001b[1;32m   3806\u001b[0m \u001b[39mif\u001b[39;00m is_integer(indexer):\n\u001b[1;32m   3807\u001b[0m     indexer \u001b[39m=\u001b[39m [indexer]\n",
      "File \u001b[0;32m~/.local/lib/python3.10/site-packages/pandas/core/indexes/base.py:3805\u001b[0m, in \u001b[0;36mIndex.get_loc\u001b[0;34m(self, key, method, tolerance)\u001b[0m\n\u001b[1;32m   3803\u001b[0m     \u001b[39mreturn\u001b[39;00m \u001b[39mself\u001b[39m\u001b[39m.\u001b[39m_engine\u001b[39m.\u001b[39mget_loc(casted_key)\n\u001b[1;32m   3804\u001b[0m \u001b[39mexcept\u001b[39;00m \u001b[39mKeyError\u001b[39;00m \u001b[39mas\u001b[39;00m err:\n\u001b[0;32m-> 3805\u001b[0m     \u001b[39mraise\u001b[39;00m \u001b[39mKeyError\u001b[39;00m(key) \u001b[39mfrom\u001b[39;00m \u001b[39merr\u001b[39;00m\n\u001b[1;32m   3806\u001b[0m \u001b[39mexcept\u001b[39;00m \u001b[39mTypeError\u001b[39;00m:\n\u001b[1;32m   3807\u001b[0m     \u001b[39m# If we have a listlike key, _check_indexing_error will raise\u001b[39;00m\n\u001b[1;32m   3808\u001b[0m     \u001b[39m#  InvalidIndexError. Otherwise we fall through and re-raise\u001b[39;00m\n\u001b[1;32m   3809\u001b[0m     \u001b[39m#  the TypeError.\u001b[39;00m\n\u001b[1;32m   3810\u001b[0m     \u001b[39mself\u001b[39m\u001b[39m.\u001b[39m_check_indexing_error(key)\n",
      "\u001b[0;31mKeyError\u001b[0m: 'Cloase'"
     ]
    }
   ],
   "source": [
    "group = df.groupby('DayIndex', as_index=False)\n",
    "new_df = group['Open'].first()\n",
    "new_df['High'] = group['High'].max()['High']\n",
    "new_df['Low'] = group['Low'].min()['Low']\n",
    "new_df['Close'] = group['Close'].last()['Close']\n",
    "new_df.set_index('DayIndex')\n",
    "new_df"
   ]
  }
 ],
 "metadata": {
  "kernelspec": {
   "display_name": "Python 3",
   "language": "python",
   "name": "python3"
  },
  "language_info": {
   "codemirror_mode": {
    "name": "ipython",
    "version": 3
   },
   "file_extension": ".py",
   "mimetype": "text/x-python",
   "name": "python",
   "nbconvert_exporter": "python",
   "pygments_lexer": "ipython3",
   "version": "3.10.6"
  },
  "orig_nbformat": 4,
  "vscode": {
   "interpreter": {
    "hash": "916dbcbb3f70747c44a77c7bcd40155683ae19c65e1c03b4aa3499c5328201f1"
   }
  }
 },
 "nbformat": 4,
 "nbformat_minor": 2
}
