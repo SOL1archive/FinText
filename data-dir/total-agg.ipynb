{
 "cells": [
  {
   "cell_type": "code",
   "execution_count": 1,
   "metadata": {},
   "outputs": [],
   "source": [
    "import pickle\n",
    "\n",
    "import pandas as pd"
   ]
  },
  {
   "cell_type": "code",
   "execution_count": 2,
   "metadata": {},
   "outputs": [],
   "source": [
    "article_df = pd.read_excel('./kakao-article-preprocessed.xlsx')\n",
    "community_df = pd.read_excel('./kakao-community-preprocessed.xlsx')\n",
    "stock_df = pd.read_excel('./kakao-stock-preprocessed.xlsx')\n",
    "total_df = pd.DataFrame()"
   ]
  },
  {
   "cell_type": "code",
   "execution_count": 3,
   "metadata": {},
   "outputs": [
    {
     "data": {
      "text/html": [
       "<div>\n",
       "<style scoped>\n",
       "    .dataframe tbody tr th:only-of-type {\n",
       "        vertical-align: middle;\n",
       "    }\n",
       "\n",
       "    .dataframe tbody tr th {\n",
       "        vertical-align: top;\n",
       "    }\n",
       "\n",
       "    .dataframe thead th {\n",
       "        text-align: right;\n",
       "    }\n",
       "</style>\n",
       "<table border=\"1\" class=\"dataframe\">\n",
       "  <thead>\n",
       "    <tr style=\"text-align: right;\">\n",
       "      <th></th>\n",
       "      <th>DayIndex</th>\n",
       "      <th>text</th>\n",
       "    </tr>\n",
       "  </thead>\n",
       "  <tbody>\n",
       "    <tr>\n",
       "      <th>0</th>\n",
       "      <td>2023-01-03_AM</td>\n",
       "      <td>대기업집단 신고 온라인으로 가능해진다…'기업집단포털' 개편공정위 \"업무 효율성 제고...</td>\n",
       "    </tr>\n",
       "    <tr>\n",
       "      <th>1</th>\n",
       "      <td>2023-01-03_AM</td>\n",
       "      <td>“온라인으로 쉽고 편하게 기업집단 신고하세요”공정거래위원회는 이용자들의 활발한 참여...</td>\n",
       "    </tr>\n",
       "    <tr>\n",
       "      <th>2</th>\n",
       "      <td>2023-01-03_AM</td>\n",
       "      <td>공정위, 기업집단포털 서비스 개편공정거래위원회는 이용자 참여 중심 기업집단포털 서비...</td>\n",
       "    </tr>\n",
       "    <tr>\n",
       "      <th>3</th>\n",
       "      <td>2023-01-03_AM</td>\n",
       "      <td>기업집단 신고, 온라인으로 쉽고 간편하게… ‘기업집단포털’ 개편기업들이 대기업집단 ...</td>\n",
       "    </tr>\n",
       "    <tr>\n",
       "      <th>4</th>\n",
       "      <td>2023-01-03_AM</td>\n",
       "      <td>고향사랑기부' 직접 해보니…10만원 내고 답례품 떡갈비 3팩(서울=연합뉴스) 김윤구...</td>\n",
       "    </tr>\n",
       "  </tbody>\n",
       "</table>\n",
       "</div>"
      ],
      "text/plain": [
       "        DayIndex                                               text\n",
       "0  2023-01-03_AM  대기업집단 신고 온라인으로 가능해진다…'기업집단포털' 개편공정위 \"업무 효율성 제고...\n",
       "1  2023-01-03_AM  “온라인으로 쉽고 편하게 기업집단 신고하세요”공정거래위원회는 이용자들의 활발한 참여...\n",
       "2  2023-01-03_AM  공정위, 기업집단포털 서비스 개편공정거래위원회는 이용자 참여 중심 기업집단포털 서비...\n",
       "3  2023-01-03_AM  기업집단 신고, 온라인으로 쉽고 간편하게… ‘기업집단포털’ 개편기업들이 대기업집단 ...\n",
       "4  2023-01-03_AM  고향사랑기부' 직접 해보니…10만원 내고 답례품 떡갈비 3팩(서울=연합뉴스) 김윤구..."
      ]
     },
     "execution_count": 3,
     "metadata": {},
     "output_type": "execute_result"
    }
   ],
   "source": [
    "article_df.head()"
   ]
  },
  {
   "cell_type": "code",
   "execution_count": 4,
   "metadata": {},
   "outputs": [
    {
     "data": {
      "text/html": [
       "<div>\n",
       "<style scoped>\n",
       "    .dataframe tbody tr th:only-of-type {\n",
       "        vertical-align: middle;\n",
       "    }\n",
       "\n",
       "    .dataframe tbody tr th {\n",
       "        vertical-align: top;\n",
       "    }\n",
       "\n",
       "    .dataframe thead th {\n",
       "        text-align: right;\n",
       "    }\n",
       "</style>\n",
       "<table border=\"1\" class=\"dataframe\">\n",
       "  <thead>\n",
       "    <tr style=\"text-align: right;\">\n",
       "      <th></th>\n",
       "      <th>DayIndex</th>\n",
       "      <th>view</th>\n",
       "      <th>good</th>\n",
       "      <th>bad</th>\n",
       "      <th>text</th>\n",
       "      <th>MetricIndex</th>\n",
       "    </tr>\n",
       "  </thead>\n",
       "  <tbody>\n",
       "    <tr>\n",
       "      <th>0</th>\n",
       "      <td>2022-10-13_Closed</td>\n",
       "      <td>127</td>\n",
       "      <td>1</td>\n",
       "      <td>1</td>\n",
       "      <td>신저가로 장마감 내일또 얼마나 처내릴까?카카오 자체에 대한 평가에서도 좋은 점을 찾...</td>\n",
       "      <td>0.000000</td>\n",
       "    </tr>\n",
       "    <tr>\n",
       "      <th>1</th>\n",
       "      <td>2022-10-13_Closed</td>\n",
       "      <td>124</td>\n",
       "      <td>2</td>\n",
       "      <td>0</td>\n",
       "      <td>버디버디 싸이월드를 봐라해외에서 카카오쓴다는거봤노ㅋㅋ카카오는 한계가 명확하다야</td>\n",
       "      <td>0.016129</td>\n",
       "    </tr>\n",
       "    <tr>\n",
       "      <th>2</th>\n",
       "      <td>2022-10-13_Closed</td>\n",
       "      <td>103</td>\n",
       "      <td>0</td>\n",
       "      <td>0</td>\n",
       "      <td>그쯤봤다ㅡ전신에 댓글적는 사람. 다~~~  못적게 하니...요즘 카카오 들어가는 사...</td>\n",
       "      <td>0.000000</td>\n",
       "    </tr>\n",
       "    <tr>\n",
       "      <th>3</th>\n",
       "      <td>2022-10-13_Closed</td>\n",
       "      <td>255</td>\n",
       "      <td>1</td>\n",
       "      <td>0</td>\n",
       "      <td>카카오 주가 예상11월 초 4만 붕괴12월 말 3만 붕괴n이후 급등............</td>\n",
       "      <td>0.003922</td>\n",
       "    </tr>\n",
       "    <tr>\n",
       "      <th>4</th>\n",
       "      <td>2022-10-13_Closed</td>\n",
       "      <td>143</td>\n",
       "      <td>2</td>\n",
       "      <td>0</td>\n",
       "      <td>그렇게 폭락하고 오늘 하루만에 5%처내린 송장주카카사다음카카삼 되는건 시간 문제</td>\n",
       "      <td>0.013986</td>\n",
       "    </tr>\n",
       "  </tbody>\n",
       "</table>\n",
       "</div>"
      ],
      "text/plain": [
       "            DayIndex  view  good  bad  \\\n",
       "0  2022-10-13_Closed   127     1    1   \n",
       "1  2022-10-13_Closed   124     2    0   \n",
       "2  2022-10-13_Closed   103     0    0   \n",
       "3  2022-10-13_Closed   255     1    0   \n",
       "4  2022-10-13_Closed   143     2    0   \n",
       "\n",
       "                                                text  MetricIndex  \n",
       "0  신저가로 장마감 내일또 얼마나 처내릴까?카카오 자체에 대한 평가에서도 좋은 점을 찾...     0.000000  \n",
       "1        버디버디 싸이월드를 봐라해외에서 카카오쓴다는거봤노ㅋㅋ카카오는 한계가 명확하다야     0.016129  \n",
       "2  그쯤봤다ㅡ전신에 댓글적는 사람. 다~~~  못적게 하니...요즘 카카오 들어가는 사...     0.000000  \n",
       "3  카카오 주가 예상11월 초 4만 붕괴12월 말 3만 붕괴n이후 급등............     0.003922  \n",
       "4       그렇게 폭락하고 오늘 하루만에 5%처내린 송장주카카사다음카카삼 되는건 시간 문제     0.013986  "
      ]
     },
     "execution_count": 4,
     "metadata": {},
     "output_type": "execute_result"
    }
   ],
   "source": [
    "community_df.head()"
   ]
  },
  {
   "cell_type": "code",
   "execution_count": null,
   "metadata": {},
   "outputs": [],
   "source": []
  },
  {
   "cell_type": "code",
   "execution_count": null,
   "metadata": {},
   "outputs": [],
   "source": [
    "raise RuntimeError"
   ]
  },
  {
   "cell_type": "code",
   "execution_count": 5,
   "metadata": {},
   "outputs": [
    {
     "ename": "TypeError",
     "evalue": "'str' object cannot be interpreted as an integer",
     "output_type": "error",
     "traceback": [
      "\u001b[0;31m---------------------------------------------------------------------------\u001b[0m",
      "\u001b[0;31mTypeError\u001b[0m                                 Traceback (most recent call last)",
      "Cell \u001b[0;32mIn[5], line 1\u001b[0m\n\u001b[0;32m----> 1\u001b[0m pickle\u001b[39m.\u001b[39;49mdumps(total_df, \u001b[39m'\u001b[39;49m\u001b[39mdata-df.pkl\u001b[39;49m\u001b[39m'\u001b[39;49m)\n",
      "\u001b[0;31mTypeError\u001b[0m: 'str' object cannot be interpreted as an integer"
     ]
    }
   ],
   "source": [
    "pickle.dumps(total_df, 'data-df.pkl')"
   ]
  }
 ],
 "metadata": {
  "kernelspec": {
   "display_name": "Python 3",
   "language": "python",
   "name": "python3"
  },
  "language_info": {
   "codemirror_mode": {
    "name": "ipython",
    "version": 3
   },
   "file_extension": ".py",
   "mimetype": "text/x-python",
   "name": "python",
   "nbconvert_exporter": "python",
   "pygments_lexer": "ipython3",
   "version": "3.10.6"
  },
  "orig_nbformat": 4,
  "vscode": {
   "interpreter": {
    "hash": "916dbcbb3f70747c44a77c7bcd40155683ae19c65e1c03b4aa3499c5328201f1"
   }
  }
 },
 "nbformat": 4,
 "nbformat_minor": 2
}
