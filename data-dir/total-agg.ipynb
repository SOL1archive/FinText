{
 "cells": [
  {
   "cell_type": "code",
   "execution_count": 1,
   "metadata": {},
   "outputs": [],
   "source": [
    "import pickle\n",
    "\n",
    "import pandas as pd"
   ]
  },
  {
   "cell_type": "code",
   "execution_count": 2,
   "metadata": {},
   "outputs": [],
   "source": [
    "article_df = pd.read_excel('./kakao-article-preprocessed.xlsx')\n",
    "community_df = pd.read_excel('./kakao-community-preprocessed.xlsx')\n",
    "stock_df = pd.read_excel('./kakao-stock-preprocessed.xlsx')\n",
    "total_df = pd.DataFrame()"
   ]
  },
  {
   "cell_type": "code",
   "execution_count": 4,
   "metadata": {},
   "outputs": [
    {
     "data": {
      "text/html": [
       "<div>\n",
       "<style scoped>\n",
       "    .dataframe tbody tr th:only-of-type {\n",
       "        vertical-align: middle;\n",
       "    }\n",
       "\n",
       "    .dataframe tbody tr th {\n",
       "        vertical-align: top;\n",
       "    }\n",
       "\n",
       "    .dataframe thead th {\n",
       "        text-align: right;\n",
       "    }\n",
       "</style>\n",
       "<table border=\"1\" class=\"dataframe\">\n",
       "  <thead>\n",
       "    <tr style=\"text-align: right;\">\n",
       "      <th></th>\n",
       "      <th>Open</th>\n",
       "      <th>High</th>\n",
       "      <th>Low</th>\n",
       "      <th>Close</th>\n",
       "    </tr>\n",
       "    <tr>\n",
       "      <th>DayIndex</th>\n",
       "      <th></th>\n",
       "      <th></th>\n",
       "      <th></th>\n",
       "      <th></th>\n",
       "    </tr>\n",
       "  </thead>\n",
       "  <tbody>\n",
       "    <tr>\n",
       "      <th>2022-10-13_AM</th>\n",
       "      <td>0.748025</td>\n",
       "      <td>0.748025</td>\n",
       "      <td>0.705613</td>\n",
       "      <td>0.715593</td>\n",
       "    </tr>\n",
       "    <tr>\n",
       "      <th>2022-10-13_PM</th>\n",
       "      <td>0.714761</td>\n",
       "      <td>0.718919</td>\n",
       "      <td>0.705613</td>\n",
       "      <td>0.645738</td>\n",
       "    </tr>\n",
       "    <tr>\n",
       "      <th>2022-10-14_AM</th>\n",
       "      <td>0.734719</td>\n",
       "      <td>0.772141</td>\n",
       "      <td>0.734719</td>\n",
       "      <td>0.765489</td>\n",
       "    </tr>\n",
       "    <tr>\n",
       "      <th>2022-10-14_PM</th>\n",
       "      <td>0.767152</td>\n",
       "      <td>0.775468</td>\n",
       "      <td>0.763825</td>\n",
       "      <td>0.773805</td>\n",
       "    </tr>\n",
       "    <tr>\n",
       "      <th>2022-10-17_AM</th>\n",
       "      <td>0.773805</td>\n",
       "      <td>0.773805</td>\n",
       "      <td>0.693139</td>\n",
       "      <td>0.729730</td>\n",
       "    </tr>\n",
       "  </tbody>\n",
       "</table>\n",
       "</div>"
      ],
      "text/plain": [
       "                   Open      High       Low     Close\n",
       "DayIndex                                             \n",
       "2022-10-13_AM  0.748025  0.748025  0.705613  0.715593\n",
       "2022-10-13_PM  0.714761  0.718919  0.705613  0.645738\n",
       "2022-10-14_AM  0.734719  0.772141  0.734719  0.765489\n",
       "2022-10-14_PM  0.767152  0.775468  0.763825  0.773805\n",
       "2022-10-17_AM  0.773805  0.773805  0.693139  0.729730"
      ]
     },
     "execution_count": 4,
     "metadata": {},
     "output_type": "execute_result"
    }
   ],
   "source": [
    "total_df = stock_df.set_index('DayIndex').drop('Unnamed: 0', axis=1)\n",
    "total_df.head()"
   ]
  },
  {
   "cell_type": "code",
   "execution_count": 5,
   "metadata": {},
   "outputs": [
    {
     "data": {
      "text/html": [
       "<div>\n",
       "<style scoped>\n",
       "    .dataframe tbody tr th:only-of-type {\n",
       "        vertical-align: middle;\n",
       "    }\n",
       "\n",
       "    .dataframe tbody tr th {\n",
       "        vertical-align: top;\n",
       "    }\n",
       "\n",
       "    .dataframe thead th {\n",
       "        text-align: right;\n",
       "    }\n",
       "</style>\n",
       "<table border=\"1\" class=\"dataframe\">\n",
       "  <thead>\n",
       "    <tr style=\"text-align: right;\">\n",
       "      <th></th>\n",
       "      <th>DayIndex</th>\n",
       "      <th>text</th>\n",
       "    </tr>\n",
       "  </thead>\n",
       "  <tbody>\n",
       "    <tr>\n",
       "      <th>0</th>\n",
       "      <td>2023-01-03_AM</td>\n",
       "      <td>대기업집단 신고 온라인으로 가능해진다…'기업집단포털' 개편공정위 \"업무 효율성 제고...</td>\n",
       "    </tr>\n",
       "    <tr>\n",
       "      <th>1</th>\n",
       "      <td>2023-01-03_AM</td>\n",
       "      <td>“온라인으로 쉽고 편하게 기업집단 신고하세요”공정거래위원회는 이용자들의 활발한 참여...</td>\n",
       "    </tr>\n",
       "    <tr>\n",
       "      <th>2</th>\n",
       "      <td>2023-01-03_AM</td>\n",
       "      <td>공정위, 기업집단포털 서비스 개편공정거래위원회는 이용자 참여 중심 기업집단포털 서비...</td>\n",
       "    </tr>\n",
       "    <tr>\n",
       "      <th>3</th>\n",
       "      <td>2023-01-03_AM</td>\n",
       "      <td>기업집단 신고, 온라인으로 쉽고 간편하게… ‘기업집단포털’ 개편기업들이 대기업집단 ...</td>\n",
       "    </tr>\n",
       "    <tr>\n",
       "      <th>4</th>\n",
       "      <td>2023-01-03_AM</td>\n",
       "      <td>고향사랑기부' 직접 해보니…10만원 내고 답례품 떡갈비 3팩(서울=연합뉴스) 김윤구...</td>\n",
       "    </tr>\n",
       "  </tbody>\n",
       "</table>\n",
       "</div>"
      ],
      "text/plain": [
       "        DayIndex                                               text\n",
       "0  2023-01-03_AM  대기업집단 신고 온라인으로 가능해진다…'기업집단포털' 개편공정위 \"업무 효율성 제고...\n",
       "1  2023-01-03_AM  “온라인으로 쉽고 편하게 기업집단 신고하세요”공정거래위원회는 이용자들의 활발한 참여...\n",
       "2  2023-01-03_AM  공정위, 기업집단포털 서비스 개편공정거래위원회는 이용자 참여 중심 기업집단포털 서비...\n",
       "3  2023-01-03_AM  기업집단 신고, 온라인으로 쉽고 간편하게… ‘기업집단포털’ 개편기업들이 대기업집단 ...\n",
       "4  2023-01-03_AM  고향사랑기부' 직접 해보니…10만원 내고 답례품 떡갈비 3팩(서울=연합뉴스) 김윤구..."
      ]
     },
     "execution_count": 5,
     "metadata": {},
     "output_type": "execute_result"
    }
   ],
   "source": [
    "article_df.head()"
   ]
  },
  {
   "cell_type": "code",
   "execution_count": 7,
   "metadata": {},
   "outputs": [],
   "source": [
    "community_df = community_df.drop(['view', 'good', 'bad'], axis=1)"
   ]
  },
  {
   "cell_type": "code",
   "execution_count": 8,
   "metadata": {},
   "outputs": [
    {
     "data": {
      "text/html": [
       "<div>\n",
       "<style scoped>\n",
       "    .dataframe tbody tr th:only-of-type {\n",
       "        vertical-align: middle;\n",
       "    }\n",
       "\n",
       "    .dataframe tbody tr th {\n",
       "        vertical-align: top;\n",
       "    }\n",
       "\n",
       "    .dataframe thead th {\n",
       "        text-align: right;\n",
       "    }\n",
       "</style>\n",
       "<table border=\"1\" class=\"dataframe\">\n",
       "  <thead>\n",
       "    <tr style=\"text-align: right;\">\n",
       "      <th></th>\n",
       "      <th>DayIndex</th>\n",
       "      <th>text</th>\n",
       "      <th>MetricIndex</th>\n",
       "    </tr>\n",
       "  </thead>\n",
       "  <tbody>\n",
       "    <tr>\n",
       "      <th>0</th>\n",
       "      <td>2022-10-13_Closed</td>\n",
       "      <td>신저가로 장마감 내일또 얼마나 처내릴까?카카오 자체에 대한 평가에서도 좋은 점을 찾...</td>\n",
       "      <td>0.000000</td>\n",
       "    </tr>\n",
       "    <tr>\n",
       "      <th>1</th>\n",
       "      <td>2022-10-13_Closed</td>\n",
       "      <td>버디버디 싸이월드를 봐라해외에서 카카오쓴다는거봤노ㅋㅋ카카오는 한계가 명확하다야</td>\n",
       "      <td>0.016129</td>\n",
       "    </tr>\n",
       "    <tr>\n",
       "      <th>2</th>\n",
       "      <td>2022-10-13_Closed</td>\n",
       "      <td>그쯤봤다ㅡ전신에 댓글적는 사람. 다~~~  못적게 하니...요즘 카카오 들어가는 사...</td>\n",
       "      <td>0.000000</td>\n",
       "    </tr>\n",
       "    <tr>\n",
       "      <th>3</th>\n",
       "      <td>2022-10-13_Closed</td>\n",
       "      <td>카카오 주가 예상11월 초 4만 붕괴12월 말 3만 붕괴n이후 급등............</td>\n",
       "      <td>0.003922</td>\n",
       "    </tr>\n",
       "    <tr>\n",
       "      <th>4</th>\n",
       "      <td>2022-10-13_Closed</td>\n",
       "      <td>그렇게 폭락하고 오늘 하루만에 5%처내린 송장주카카사다음카카삼 되는건 시간 문제</td>\n",
       "      <td>0.013986</td>\n",
       "    </tr>\n",
       "  </tbody>\n",
       "</table>\n",
       "</div>"
      ],
      "text/plain": [
       "            DayIndex                                               text  \\\n",
       "0  2022-10-13_Closed  신저가로 장마감 내일또 얼마나 처내릴까?카카오 자체에 대한 평가에서도 좋은 점을 찾...   \n",
       "1  2022-10-13_Closed        버디버디 싸이월드를 봐라해외에서 카카오쓴다는거봤노ㅋㅋ카카오는 한계가 명확하다야   \n",
       "2  2022-10-13_Closed  그쯤봤다ㅡ전신에 댓글적는 사람. 다~~~  못적게 하니...요즘 카카오 들어가는 사...   \n",
       "3  2022-10-13_Closed  카카오 주가 예상11월 초 4만 붕괴12월 말 3만 붕괴n이후 급등............   \n",
       "4  2022-10-13_Closed       그렇게 폭락하고 오늘 하루만에 5%처내린 송장주카카사다음카카삼 되는건 시간 문제   \n",
       "\n",
       "   MetricIndex  \n",
       "0     0.000000  \n",
       "1     0.016129  \n",
       "2     0.000000  \n",
       "3     0.003922  \n",
       "4     0.013986  "
      ]
     },
     "execution_count": 8,
     "metadata": {},
     "output_type": "execute_result"
    }
   ],
   "source": [
    "community_df.head()"
   ]
  },
  {
   "cell_type": "code",
   "execution_count": 15,
   "metadata": {},
   "outputs": [],
   "source": [
    "total_df['CommunityText'] = community_df.groupby('DayIndex')['CommunityText'].apply(list)\n",
    "total_df['ArticleText'] = article_df.groupby('DayIndex')['ArticleText'].apply(list)"
   ]
  },
  {
   "cell_type": "code",
   "execution_count": 17,
   "metadata": {},
   "outputs": [
    {
     "data": {
      "text/html": [
       "<div>\n",
       "<style scoped>\n",
       "    .dataframe tbody tr th:only-of-type {\n",
       "        vertical-align: middle;\n",
       "    }\n",
       "\n",
       "    .dataframe tbody tr th {\n",
       "        vertical-align: top;\n",
       "    }\n",
       "\n",
       "    .dataframe thead th {\n",
       "        text-align: right;\n",
       "    }\n",
       "</style>\n",
       "<table border=\"1\" class=\"dataframe\">\n",
       "  <thead>\n",
       "    <tr style=\"text-align: right;\">\n",
       "      <th></th>\n",
       "      <th>Open</th>\n",
       "      <th>High</th>\n",
       "      <th>Low</th>\n",
       "      <th>Close</th>\n",
       "      <th>CommunityText</th>\n",
       "      <th>ArticleText</th>\n",
       "    </tr>\n",
       "    <tr>\n",
       "      <th>DayIndex</th>\n",
       "      <th></th>\n",
       "      <th></th>\n",
       "      <th></th>\n",
       "      <th></th>\n",
       "      <th></th>\n",
       "      <th></th>\n",
       "    </tr>\n",
       "  </thead>\n",
       "  <tbody>\n",
       "    <tr>\n",
       "      <th>2022-12-16_PM</th>\n",
       "      <td>0.825364</td>\n",
       "      <td>0.827027</td>\n",
       "      <td>0.818711</td>\n",
       "      <td>0.822037</td>\n",
       "      <td>[아니 진짜 ㅅㅂ이럴거면 주식사지말고 공매도 치는게 돈버는거아니냐 ㅡㅡ 탈출만하면 ...</td>\n",
       "      <td>[엔씨, 전사 재해 복구 모의 훈련 실시…지진·화재 등 대비한다(서울=뉴스1)  =...</td>\n",
       "    </tr>\n",
       "    <tr>\n",
       "      <th>2022-12-19_PM</th>\n",
       "      <td>0.841996</td>\n",
       "      <td>0.848649</td>\n",
       "      <td>0.841996</td>\n",
       "      <td>0.845322</td>\n",
       "      <td>[카카오가 2프로나 올랏네 우와 무슨일이냐 --_-ㅋㅋ4만간다고 해서 개쫄앗느데 ㅋ...</td>\n",
       "      <td>[반도체와 클라우드는 무슨 관계?지난주 과학기술정보통신부는 경기창조경제혁신센터서 ‘...</td>\n",
       "    </tr>\n",
       "    <tr>\n",
       "      <th>2022-12-20_AM</th>\n",
       "      <td>0.846985</td>\n",
       "      <td>0.846985</td>\n",
       "      <td>0.825364</td>\n",
       "      <td>0.828690</td>\n",
       "      <td>[1월9일중국결해제 카카오간다텐센트3%상승중 카카오10만갑니다, 개장전 빠르게 체크...</td>\n",
       "      <td>[엔씨소프트, 전사 재해 복구 모의 훈련 실시엔씨소프트는 서비스 연속성 유지를 위한...</td>\n",
       "    </tr>\n",
       "    <tr>\n",
       "      <th>2022-12-22_AM</th>\n",
       "      <td>0.833680</td>\n",
       "      <td>0.845322</td>\n",
       "      <td>0.818711</td>\n",
       "      <td>0.833680</td>\n",
       "      <td>[카카오 목표주가 변동요약[ FS리서치 ] 12/22일 목표주가 변동 기업 보고서요...</td>\n",
       "      <td>[화재와 먹통이 휩쓴 자리, 남은 건 규제 후폭풍네이버와 카카오는 다사다난한 한 해...</td>\n",
       "    </tr>\n",
       "    <tr>\n",
       "      <th>2022-12-22_PM</th>\n",
       "      <td>0.833680</td>\n",
       "      <td>0.837006</td>\n",
       "      <td>0.832017</td>\n",
       "      <td>0.835343</td>\n",
       "      <td>[빨리 빨리 올라가자오늘 같은 날은 인간적으로 빨리 빨리 올라가자 힘을 내서 빨리 ...</td>\n",
       "      <td>[실종된 자율규제새해 플랫폼 업계를 짓누르는 화두가 두 가지 있다. 온라인 플랫폼 ...</td>\n",
       "    </tr>\n",
       "  </tbody>\n",
       "</table>\n",
       "</div>"
      ],
      "text/plain": [
       "                   Open      High       Low     Close  \\\n",
       "DayIndex                                                \n",
       "2022-12-16_PM  0.825364  0.827027  0.818711  0.822037   \n",
       "2022-12-19_PM  0.841996  0.848649  0.841996  0.845322   \n",
       "2022-12-20_AM  0.846985  0.846985  0.825364  0.828690   \n",
       "2022-12-22_AM  0.833680  0.845322  0.818711  0.833680   \n",
       "2022-12-22_PM  0.833680  0.837006  0.832017  0.835343   \n",
       "\n",
       "                                                   CommunityText  \\\n",
       "DayIndex                                                           \n",
       "2022-12-16_PM  [아니 진짜 ㅅㅂ이럴거면 주식사지말고 공매도 치는게 돈버는거아니냐 ㅡㅡ 탈출만하면 ...   \n",
       "2022-12-19_PM  [카카오가 2프로나 올랏네 우와 무슨일이냐 --_-ㅋㅋ4만간다고 해서 개쫄앗느데 ㅋ...   \n",
       "2022-12-20_AM  [1월9일중국결해제 카카오간다텐센트3%상승중 카카오10만갑니다, 개장전 빠르게 체크...   \n",
       "2022-12-22_AM  [카카오 목표주가 변동요약[ FS리서치 ] 12/22일 목표주가 변동 기업 보고서요...   \n",
       "2022-12-22_PM  [빨리 빨리 올라가자오늘 같은 날은 인간적으로 빨리 빨리 올라가자 힘을 내서 빨리 ...   \n",
       "\n",
       "                                                     ArticleText  \n",
       "DayIndex                                                          \n",
       "2022-12-16_PM  [엔씨, 전사 재해 복구 모의 훈련 실시…지진·화재 등 대비한다(서울=뉴스1)  =...  \n",
       "2022-12-19_PM  [반도체와 클라우드는 무슨 관계?지난주 과학기술정보통신부는 경기창조경제혁신센터서 ‘...  \n",
       "2022-12-20_AM  [엔씨소프트, 전사 재해 복구 모의 훈련 실시엔씨소프트는 서비스 연속성 유지를 위한...  \n",
       "2022-12-22_AM  [화재와 먹통이 휩쓴 자리, 남은 건 규제 후폭풍네이버와 카카오는 다사다난한 한 해...  \n",
       "2022-12-22_PM  [실종된 자율규제새해 플랫폼 업계를 짓누르는 화두가 두 가지 있다. 온라인 플랫폼 ...  "
      ]
     },
     "execution_count": 17,
     "metadata": {},
     "output_type": "execute_result"
    }
   ],
   "source": [
    "total_df = total_df.dropna(axis=0)\n",
    "total_df.head()"
   ]
  },
  {
   "cell_type": "code",
   "execution_count": null,
   "metadata": {},
   "outputs": [],
   "source": [
    "raise RuntimeError"
   ]
  },
  {
   "cell_type": "code",
   "execution_count": 21,
   "metadata": {},
   "outputs": [],
   "source": [
    "total_df.to_pickle('data-df.pkl')"
   ]
  }
 ],
 "metadata": {
  "kernelspec": {
   "display_name": "Python 3",
   "language": "python",
   "name": "python3"
  },
  "language_info": {
   "codemirror_mode": {
    "name": "ipython",
    "version": 3
   },
   "file_extension": ".py",
   "mimetype": "text/x-python",
   "name": "python",
   "nbconvert_exporter": "python",
   "pygments_lexer": "ipython3",
   "version": "3.10.6"
  },
  "orig_nbformat": 4,
  "vscode": {
   "interpreter": {
    "hash": "916dbcbb3f70747c44a77c7bcd40155683ae19c65e1c03b4aa3499c5328201f1"
   }
  }
 },
 "nbformat": 4,
 "nbformat_minor": 2
}
