{
 "cells": [
  {
   "cell_type": "code",
   "execution_count": 1,
   "metadata": {},
   "outputs": [],
   "source": [
    "import pandas as pd\n",
    "\n",
    "from sklearn.preprocessing import MinMaxScaler, StandardScaler"
   ]
  },
  {
   "cell_type": "code",
   "execution_count": 2,
   "metadata": {},
   "outputs": [],
   "source": [
    "df_article = pd.read_excel('./kakao-text-data.xlsx', sheet_name='article')\n",
    "df_community = pd.read_excel('./kakao-text-data.xlsx', sheet_name='community')"
   ]
  },
  {
   "cell_type": "code",
   "execution_count": 3,
   "metadata": {},
   "outputs": [],
   "source": [
    "df_article = df_article.iloc[::-1].reset_index().drop('index', axis=1)\n",
    "df_community = df_community.iloc[::-1].reset_index().drop('index', axis=1)"
   ]
  },
  {
   "attachments": {},
   "cell_type": "markdown",
   "metadata": {},
   "source": [
    "## Drop & Rename Columns"
   ]
  },
  {
   "cell_type": "code",
   "execution_count": 4,
   "metadata": {},
   "outputs": [
    {
     "data": {
      "text/plain": [
       "(array([0]), array([0]), array([0]), array([0]), array([0]))"
      ]
     },
     "execution_count": 4,
     "metadata": {},
     "output_type": "execute_result"
    }
   ],
   "source": [
    "df_article['useful'].unique(), df_article['wow'].unique(), df_article['touched'].unique(), df_article['analytical'].unique(), df_article['recommend'].unique()"
   ]
  },
  {
   "cell_type": "code",
   "execution_count": 5,
   "metadata": {},
   "outputs": [],
   "source": [
    "df_article = df_article.drop(\n",
    "    [\n",
    "        'article_No', \n",
    "        'article_id', \n",
    "        'press_id', \n",
    "        'author', \n",
    "        'useful', \n",
    "        'wow', \n",
    "        'touched', \n",
    "        'analytical', \n",
    "        'recommend'\n",
    "    ], \n",
    "    axis=1\n",
    ")\n",
    "df_article = df_article.rename(columns={'published_datetime': 'Date'})"
   ]
  },
  {
   "cell_type": "code",
   "execution_count": 6,
   "metadata": {},
   "outputs": [
    {
     "data": {
      "text/html": [
       "<div>\n",
       "<style scoped>\n",
       "    .dataframe tbody tr th:only-of-type {\n",
       "        vertical-align: middle;\n",
       "    }\n",
       "\n",
       "    .dataframe tbody tr th {\n",
       "        vertical-align: top;\n",
       "    }\n",
       "\n",
       "    .dataframe thead th {\n",
       "        text-align: right;\n",
       "    }\n",
       "</style>\n",
       "<table border=\"1\" class=\"dataframe\">\n",
       "  <thead>\n",
       "    <tr style=\"text-align: right;\">\n",
       "      <th></th>\n",
       "      <th>title</th>\n",
       "      <th>Date</th>\n",
       "      <th>article</th>\n",
       "    </tr>\n",
       "  </thead>\n",
       "  <tbody>\n",
       "    <tr>\n",
       "      <th>0</th>\n",
       "      <td>대기업집단 신고 온라인으로 가능해진다…'기업집단포털' 개편</td>\n",
       "      <td>2023-01-03 10:14:17</td>\n",
       "      <td>n공정위 \"업무 효율성 제고\"…절차도 간소화개정 공정거래법 시행 반영·이용자 편의성...</td>\n",
       "    </tr>\n",
       "    <tr>\n",
       "      <th>1</th>\n",
       "      <td>“온라인으로 쉽고 편하게 기업집단 신고하세요”</td>\n",
       "      <td>2023-01-03 10:15:01</td>\n",
       "      <td>n[세종=이데일리 강신우 기자] 공정거래위원회는 이용자들의 활발한 참여를 통해 사용...</td>\n",
       "    </tr>\n",
       "    <tr>\n",
       "      <th>2</th>\n",
       "      <td>공정위, 기업집단포털 서비스 개편</td>\n",
       "      <td>2023-01-03 10:18:01</td>\n",
       "      <td>n공정거래위원회는 이용자 참여 중심 기업집단포털 서비스를 개시한다고 3일 밝혔다. ...</td>\n",
       "    </tr>\n",
       "    <tr>\n",
       "      <th>3</th>\n",
       "      <td>기업집단 신고, 온라인으로 쉽고 간편하게… ‘기업집단포털’ 개편</td>\n",
       "      <td>2023-01-03 10:55:03</td>\n",
       "      <td>기업들이 대기업집단 계열사 변동, 지주회사 설립·전환 등을 온라인으로 편리하게 신고...</td>\n",
       "    </tr>\n",
       "    <tr>\n",
       "      <th>4</th>\n",
       "      <td>고향사랑기부' 직접 해보니…10만원 내고 답례품 떡갈비 3팩</td>\n",
       "      <td>2023-01-03 11:17:35</td>\n",
       "      <td>(서울=연합뉴스) 김윤구 계승현 기자 = 올해 1월1일부터 처음 시행된 '고...</td>\n",
       "    </tr>\n",
       "  </tbody>\n",
       "</table>\n",
       "</div>"
      ],
      "text/plain": [
       "                                 title                Date  \\\n",
       "0     대기업집단 신고 온라인으로 가능해진다…'기업집단포털' 개편 2023-01-03 10:14:17   \n",
       "1            “온라인으로 쉽고 편하게 기업집단 신고하세요” 2023-01-03 10:15:01   \n",
       "2                   공정위, 기업집단포털 서비스 개편 2023-01-03 10:18:01   \n",
       "3  기업집단 신고, 온라인으로 쉽고 간편하게… ‘기업집단포털’ 개편 2023-01-03 10:55:03   \n",
       "4    고향사랑기부' 직접 해보니…10만원 내고 답례품 떡갈비 3팩 2023-01-03 11:17:35   \n",
       "\n",
       "                                             article  \n",
       "0  n공정위 \"업무 효율성 제고\"…절차도 간소화개정 공정거래법 시행 반영·이용자 편의성...  \n",
       "1  n[세종=이데일리 강신우 기자] 공정거래위원회는 이용자들의 활발한 참여를 통해 사용...  \n",
       "2  n공정거래위원회는 이용자 참여 중심 기업집단포털 서비스를 개시한다고 3일 밝혔다. ...  \n",
       "3  기업들이 대기업집단 계열사 변동, 지주회사 설립·전환 등을 온라인으로 편리하게 신고...  \n",
       "4      (서울=연합뉴스) 김윤구 계승현 기자 = 올해 1월1일부터 처음 시행된 '고...  "
      ]
     },
     "execution_count": 6,
     "metadata": {},
     "output_type": "execute_result"
    }
   ],
   "source": [
    "df_article.head()"
   ]
  },
  {
   "cell_type": "code",
   "execution_count": 7,
   "metadata": {},
   "outputs": [],
   "source": [
    "df_community = df_community.drop(['article_no'], axis=1)\n",
    "df_community = df_community.rename(columns={'body': 'article', 'published_datetime': 'Date'})"
   ]
  },
  {
   "cell_type": "code",
   "execution_count": 8,
   "metadata": {},
   "outputs": [
    {
     "data": {
      "text/html": [
       "<div>\n",
       "<style scoped>\n",
       "    .dataframe tbody tr th:only-of-type {\n",
       "        vertical-align: middle;\n",
       "    }\n",
       "\n",
       "    .dataframe tbody tr th {\n",
       "        vertical-align: top;\n",
       "    }\n",
       "\n",
       "    .dataframe thead th {\n",
       "        text-align: right;\n",
       "    }\n",
       "</style>\n",
       "<table border=\"1\" class=\"dataframe\">\n",
       "  <thead>\n",
       "    <tr style=\"text-align: right;\">\n",
       "      <th></th>\n",
       "      <th>title</th>\n",
       "      <th>Date</th>\n",
       "      <th>article</th>\n",
       "      <th>view</th>\n",
       "      <th>good</th>\n",
       "      <th>bad</th>\n",
       "    </tr>\n",
       "  </thead>\n",
       "  <tbody>\n",
       "    <tr>\n",
       "      <th>0</th>\n",
       "      <td>신저가로 장마감 내일또 얼마나 처내릴까?</td>\n",
       "      <td>2022-10-13 20:25:00</td>\n",
       "      <td>카카오 자체에 대한 평가에서도 좋은 점을 찾아보기는 어렵다다. 우선 카카오의 3분기...</td>\n",
       "      <td>127</td>\n",
       "      <td>1</td>\n",
       "      <td>1</td>\n",
       "    </tr>\n",
       "    <tr>\n",
       "      <th>1</th>\n",
       "      <td>버디버디 싸이월드를 봐라</td>\n",
       "      <td>2022-10-13 20:28:00</td>\n",
       "      <td>해외에서 카카오쓴다는거봤노ㅋㅋn카카오는 한계가 명확하다야</td>\n",
       "      <td>124</td>\n",
       "      <td>2</td>\n",
       "      <td>0</td>\n",
       "    </tr>\n",
       "    <tr>\n",
       "      <th>2</th>\n",
       "      <td>그쯤봤다ㅡ</td>\n",
       "      <td>2022-10-13 20:30:00</td>\n",
       "      <td>전신에 댓글적는 사람. 다~~~  못적게 하니...n요즘 카카오 들어가는 사람이 없...</td>\n",
       "      <td>103</td>\n",
       "      <td>0</td>\n",
       "      <td>0</td>\n",
       "    </tr>\n",
       "    <tr>\n",
       "      <th>3</th>\n",
       "      <td>카카오 주가 예상</td>\n",
       "      <td>2022-10-13 20:31:00</td>\n",
       "      <td>11월 초 4만 붕괴n12월 말 3만 붕괴nn이후 급등n...n..n.n.n.n.n...</td>\n",
       "      <td>255</td>\n",
       "      <td>1</td>\n",
       "      <td>0</td>\n",
       "    </tr>\n",
       "    <tr>\n",
       "      <th>4</th>\n",
       "      <td>그렇게 폭락하고 오늘 하루만에 5%처내린 송장주</td>\n",
       "      <td>2022-10-13 20:33:00</td>\n",
       "      <td>카카사n다음n카카삼 되는건 시간 문제n</td>\n",
       "      <td>143</td>\n",
       "      <td>2</td>\n",
       "      <td>0</td>\n",
       "    </tr>\n",
       "  </tbody>\n",
       "</table>\n",
       "</div>"
      ],
      "text/plain": [
       "                        title                Date  \\\n",
       "0     신저가로 장마감 내일또 얼마나 처내릴까?  2022-10-13 20:25:00   \n",
       "1               버디버디 싸이월드를 봐라 2022-10-13 20:28:00   \n",
       "2                       그쯤봤다ㅡ 2022-10-13 20:30:00   \n",
       "3                   카카오 주가 예상 2022-10-13 20:31:00   \n",
       "4  그렇게 폭락하고 오늘 하루만에 5%처내린 송장주 2022-10-13 20:33:00   \n",
       "\n",
       "                                             article  view  good  bad  \n",
       "0  카카오 자체에 대한 평가에서도 좋은 점을 찾아보기는 어렵다다. 우선 카카오의 3분기...   127     1    1  \n",
       "1                    해외에서 카카오쓴다는거봤노ㅋㅋn카카오는 한계가 명확하다야   124     2    0  \n",
       "2  전신에 댓글적는 사람. 다~~~  못적게 하니...n요즘 카카오 들어가는 사람이 없...   103     0    0  \n",
       "3  11월 초 4만 붕괴n12월 말 3만 붕괴nn이후 급등n...n..n.n.n.n.n...   255     1    0  \n",
       "4                              카카사n다음n카카삼 되는건 시간 문제n   143     2    0  "
      ]
     },
     "execution_count": 8,
     "metadata": {},
     "output_type": "execute_result"
    }
   ],
   "source": [
    "df_community.head()"
   ]
  },
  {
   "cell_type": "code",
   "execution_count": 9,
   "metadata": {},
   "outputs": [
    {
     "data": {
      "text/plain": [
       "(False, False)"
      ]
     },
     "execution_count": 9,
     "metadata": {},
     "output_type": "execute_result"
    }
   ],
   "source": [
    "df_article.isna().any().any(), df_community.isna().any().any()"
   ]
  },
  {
   "attachments": {},
   "cell_type": "markdown",
   "metadata": {},
   "source": [
    "## Cleaning Data"
   ]
  },
  {
   "attachments": {},
   "cell_type": "markdown",
   "metadata": {},
   "source": [
    "### Article"
   ]
  },
  {
   "cell_type": "code",
   "execution_count": 10,
   "metadata": {},
   "outputs": [
    {
     "name": "stderr",
     "output_type": "stream",
     "text": [
      "/tmp/ipykernel_10552/3267799744.py:4: FutureWarning: The default value of regex will change from True to False in a future version.\n",
      "  df_article['title'] = df_article['title'].str.replace('\\[.*?\\]', '')\n"
     ]
    }
   ],
   "source": [
    "# 제목 전처리\n",
    "# '[~~~]' 제거\n",
    "\n",
    "df_article['title'] = df_article['title'].str.replace('\\[.*?\\]', '')\n",
    "df_article['title'] = df_article['title'].str.strip()"
   ]
  },
  {
   "cell_type": "code",
   "execution_count": 11,
   "metadata": {},
   "outputs": [
    {
     "name": "stderr",
     "output_type": "stream",
     "text": [
      "/tmp/ipykernel_10552/11407934.py:4: FutureWarning: The default value of regex will change from True to False in a future version.\n",
      "  df_article['article'] = df_article['article'].str.replace('\\[.*?\\]', '')\n",
      "/tmp/ipykernel_10552/11407934.py:5: FutureWarning: The default value of regex will change from True to False in a future version.\n",
      "  df_article['article'] = df_article['article'].str.replace('\\([0-9]*\\)', '')\n",
      "/tmp/ipykernel_10552/11407934.py:6: FutureWarning: The default value of regex will change from True to False in a future version.\n",
      "  df_article['article'] = df_article['article'].str.replace('\\(.*?기자\\)', '')\n",
      "/tmp/ipykernel_10552/11407934.py:7: FutureWarning: The default value of regex will change from True to False in a future version.\n",
      "  df_article['article'] = df_article['article'].str.replace('(?:www\\.)?[-a-zA-Z0-9@:%._\\+~#=]{1,256}\\.[a-zA-Z0-9()]{1,6}\\b(?:[-a-zA-Z0-9()@:%_\\+.~#?&\\/=]*)', '')\n",
      "/tmp/ipykernel_10552/11407934.py:8: FutureWarning: The default value of regex will change from True to False in a future version.\n",
      "  df_article['article'] = df_article['article'].str.replace('^n', '')\n",
      "/tmp/ipykernel_10552/11407934.py:9: FutureWarning: The default value of regex will change from True to False in a future version.\n",
      "  df_article['article'] = df_article['article'].str.replace('n(?![a-zA-Z ])', '')\n",
      "/tmp/ipykernel_10552/11407934.py:11: FutureWarning: The default value of regex will change from True to False in a future version.\n",
      "  df_article['article'] = df_article['article'].str.replace('... 기자', '')\n",
      "/tmp/ipykernel_10552/11407934.py:12: FutureWarning: The default value of regex will change from True to False in a future version.\n",
      "  df_article['article'] = df_article['article'].str.replace('\\([A-Z]*?\\)', '')\n",
      "/tmp/ipykernel_10552/11407934.py:13: FutureWarning: The default value of regex will change from True to False in a future version.\n",
      "  df_article['article'] = df_article['article'].str.replace('\\([가-힣:]*?\\)', '')\n",
      "/tmp/ipykernel_10552/11407934.py:14: FutureWarning: The default value of regex will change from True to False in a future version.\n",
      "  df_article['article'] = df_article['article'].str.replace('\\(사진제공*?\\)', '')\n",
      "/tmp/ipykernel_10552/11407934.py:15: FutureWarning: The default value of regex will change from True to False in a future version.\n",
      "  df_article['article'] = df_article['article'].str.replace('\\(사진 제공*?\\)', '')\n",
      "/tmp/ipykernel_10552/11407934.py:16: FutureWarning: The default value of regex will change from True to False in a future version.\n",
      "  df_article['article'] = df_article['article'].str.replace('\\(대표*?\\)', '')\n",
      "/tmp/ipykernel_10552/11407934.py:17: FutureWarning: The default value of regex will change from True to False in a future version.\n",
      "  df_article['article'] = df_article['article'].str.replace('\\([0-9가-힣a-zA-Z ]{,10}\\)', '')\n"
     ]
    }
   ],
   "source": [
    "# 본문 전처리\n",
    "# URL, '[~~~]', ^n, (~~~ 기자) 등 제거\n",
    "\n",
    "df_article['article'] = df_article['article'].str.replace('\\[.*?\\]', '')\n",
    "df_article['article'] = df_article['article'].str.replace('\\([0-9]*\\)', '')\n",
    "df_article['article'] = df_article['article'].str.replace('\\(.*?기자\\)', '')\n",
    "df_article['article'] = df_article['article'].str.replace('(?:www\\.)?[-a-zA-Z0-9@:%._\\+~#=]{1,256}\\.[a-zA-Z0-9()]{1,6}\\b(?:[-a-zA-Z0-9()@:%_\\+.~#?&\\/=]*)', '')\n",
    "df_article['article'] = df_article['article'].str.replace('^n', '')\n",
    "df_article['article'] = df_article['article'].str.replace('n(?![a-zA-Z ])', '')\n",
    "df_article['article'] = df_article['article'].str.replace('▲', '')\n",
    "df_article['article'] = df_article['article'].str.replace('... 기자', '')\n",
    "df_article['article'] = df_article['article'].str.replace('\\([A-Z]*?\\)', '')\n",
    "df_article['article'] = df_article['article'].str.replace('\\([가-힣:]*?\\)', '')\n",
    "df_article['article'] = df_article['article'].str.replace('\\(사진제공*?\\)', '')\n",
    "df_article['article'] = df_article['article'].str.replace('\\(사진 제공*?\\)', '')\n",
    "df_article['article'] = df_article['article'].str.replace('\\(대표*?\\)', '')\n",
    "df_article['article'] = df_article['article'].str.replace('\\([0-9가-힣a-zA-Z ]{,10}\\)', '')\n",
    "df_article['article'] = df_article['article'].str.strip()"
   ]
  },
  {
   "attachments": {},
   "cell_type": "markdown",
   "metadata": {},
   "source": [
    "### Community\n",
    "커뮤니티 게시글에 대한 전처리는 답이 안보임."
   ]
  },
  {
   "cell_type": "code",
   "execution_count": 12,
   "metadata": {},
   "outputs": [
    {
     "name": "stderr",
     "output_type": "stream",
     "text": [
      "/tmp/ipykernel_10552/4108072987.py:1: FutureWarning: The default value of regex will change from True to False in a future version.\n",
      "  df_community['title'] = df_community['title'].str.replace('(?:www\\.)?[-a-zA-Z0-9@:%._\\+~#=]{1,256}\\.[a-zA-Z0-9()]{1,6}\\b(?:[-a-zA-Z0-9()@:%_\\+.~#?&\\/=]*)', '')\n",
      "/tmp/ipykernel_10552/4108072987.py:2: FutureWarning: The default value of regex will change from True to False in a future version.\n",
      "  df_community['title'] = df_community['title'].str.replace('\\[.*?\\]', '')\n"
     ]
    }
   ],
   "source": [
    "df_community['title'] = df_community['title'].str.replace('(?:www\\.)?[-a-zA-Z0-9@:%._\\+~#=]{1,256}\\.[a-zA-Z0-9()]{1,6}\\b(?:[-a-zA-Z0-9()@:%_\\+.~#?&\\/=]*)', '')\n",
    "df_community['title'] = df_community['title'].str.replace('\\[.*?\\]', '')\n",
    "df_community['title'] = df_community['title'].str.strip()"
   ]
  },
  {
   "cell_type": "code",
   "execution_count": 13,
   "metadata": {},
   "outputs": [
    {
     "name": "stderr",
     "output_type": "stream",
     "text": [
      "/tmp/ipykernel_10552/657444222.py:1: FutureWarning: The default value of regex will change from True to False in a future version.\n",
      "  df_community['article'] = df_community['article'].str.replace('(?:www\\.)?[-a-zA-Z0-9@:%._\\+~#=]{1,256}\\.[a-zA-Z0-9()]{1,6}\\b(?:[-a-zA-Z0-9()@:%_\\+.~#?&\\/=]*)', '')\n",
      "/tmp/ipykernel_10552/657444222.py:2: FutureWarning: The default value of regex will change from True to False in a future version.\n",
      "  df_community['article'] = df_community['article'].str.replace('^n', '')\n",
      "/tmp/ipykernel_10552/657444222.py:3: FutureWarning: The default value of regex will change from True to False in a future version.\n",
      "  df_community['article'] = df_community['article'].str.replace('n(?![a-zA-Z ])', '')\n"
     ]
    }
   ],
   "source": [
    "df_community['article'] = df_community['article'].str.replace('(?:www\\.)?[-a-zA-Z0-9@:%._\\+~#=]{1,256}\\.[a-zA-Z0-9()]{1,6}\\b(?:[-a-zA-Z0-9()@:%_\\+.~#?&\\/=]*)', '')\n",
    "df_community['article'] = df_community['article'].str.replace('^n', '')\n",
    "df_community['article'] = df_community['article'].str.replace('n(?![a-zA-Z ])', '')\n",
    "df_community['article'] = df_community['article'].str.strip()"
   ]
  },
  {
   "attachments": {},
   "cell_type": "markdown",
   "metadata": {},
   "source": [
    "## Concating Strings"
   ]
  },
  {
   "cell_type": "code",
   "execution_count": 14,
   "metadata": {},
   "outputs": [],
   "source": [
    "df_list = [df_article, df_community]\n",
    "\n",
    "for i, df in enumerate(df_list):\n",
    "    df['text'] = df['title'].str.cat(df['article'])\n",
    "    df_list[i] = df.drop(['title', 'article'], axis=1)"
   ]
  },
  {
   "cell_type": "code",
   "execution_count": 15,
   "metadata": {},
   "outputs": [
    {
     "data": {
      "text/html": [
       "<div>\n",
       "<style scoped>\n",
       "    .dataframe tbody tr th:only-of-type {\n",
       "        vertical-align: middle;\n",
       "    }\n",
       "\n",
       "    .dataframe tbody tr th {\n",
       "        vertical-align: top;\n",
       "    }\n",
       "\n",
       "    .dataframe thead th {\n",
       "        text-align: right;\n",
       "    }\n",
       "</style>\n",
       "<table border=\"1\" class=\"dataframe\">\n",
       "  <thead>\n",
       "    <tr style=\"text-align: right;\">\n",
       "      <th></th>\n",
       "      <th>Date</th>\n",
       "      <th>text</th>\n",
       "    </tr>\n",
       "  </thead>\n",
       "  <tbody>\n",
       "    <tr>\n",
       "      <th>0</th>\n",
       "      <td>2023-01-03 10:14:17</td>\n",
       "      <td>대기업집단 신고 온라인으로 가능해진다…'기업집단포털' 개편공정위 \"업무 효율성 제고...</td>\n",
       "    </tr>\n",
       "    <tr>\n",
       "      <th>1</th>\n",
       "      <td>2023-01-03 10:15:01</td>\n",
       "      <td>“온라인으로 쉽고 편하게 기업집단 신고하세요”공정거래위원회는 이용자들의 활발한 참여...</td>\n",
       "    </tr>\n",
       "    <tr>\n",
       "      <th>2</th>\n",
       "      <td>2023-01-03 10:18:01</td>\n",
       "      <td>공정위, 기업집단포털 서비스 개편공정거래위원회는 이용자 참여 중심 기업집단포털 서비...</td>\n",
       "    </tr>\n",
       "    <tr>\n",
       "      <th>3</th>\n",
       "      <td>2023-01-03 10:55:03</td>\n",
       "      <td>기업집단 신고, 온라인으로 쉽고 간편하게… ‘기업집단포털’ 개편기업들이 대기업집단 ...</td>\n",
       "    </tr>\n",
       "    <tr>\n",
       "      <th>4</th>\n",
       "      <td>2023-01-03 11:17:35</td>\n",
       "      <td>고향사랑기부' 직접 해보니…10만원 내고 답례품 떡갈비 3팩(서울=연합뉴스) 김윤구...</td>\n",
       "    </tr>\n",
       "    <tr>\n",
       "      <th>...</th>\n",
       "      <td>...</td>\n",
       "      <td>...</td>\n",
       "    </tr>\n",
       "    <tr>\n",
       "      <th>216</th>\n",
       "      <td>2023-01-06 16:09:03</td>\n",
       "      <td>군산 염불사서 화재…전북문화재는 무사6일 오후 1시 41분쯤 전북 군산의 염불사에서...</td>\n",
       "    </tr>\n",
       "    <tr>\n",
       "      <th>217</th>\n",
       "      <td>2023-01-06 18:23:01</td>\n",
       "      <td>무인기 공방 격화…여 \"북과 내통\" vs 김병주 \"항적만 봐도 알아\"북한 무인기의 ...</td>\n",
       "    </tr>\n",
       "    <tr>\n",
       "      <th>218</th>\n",
       "      <td>2023-01-06 18:24:24</td>\n",
       "      <td>카카오, 보상이라더니…한 달 후 자동 결제 '꼼수'카카오는 지난해 10월 데이터센터...</td>\n",
       "    </tr>\n",
       "    <tr>\n",
       "      <th>219</th>\n",
       "      <td>2023-01-06 19:55:01</td>\n",
       "      <td>“아이들도 보는데”…‘국민 메신저’ 카카오 먹통 보상, 외설 논란“무슨 동아리도 아...</td>\n",
       "    </tr>\n",
       "    <tr>\n",
       "      <th>220</th>\n",
       "      <td>2023-01-06 20:58:19</td>\n",
       "      <td>한 달 후 자동결제?…빛 바랜 '카카오 보상'지난해 10월, 카카오톡 먹통 사태에 ...</td>\n",
       "    </tr>\n",
       "  </tbody>\n",
       "</table>\n",
       "<p>221 rows × 2 columns</p>\n",
       "</div>"
      ],
      "text/plain": [
       "                   Date                                               text\n",
       "0   2023-01-03 10:14:17  대기업집단 신고 온라인으로 가능해진다…'기업집단포털' 개편공정위 \"업무 효율성 제고...\n",
       "1   2023-01-03 10:15:01  “온라인으로 쉽고 편하게 기업집단 신고하세요”공정거래위원회는 이용자들의 활발한 참여...\n",
       "2   2023-01-03 10:18:01  공정위, 기업집단포털 서비스 개편공정거래위원회는 이용자 참여 중심 기업집단포털 서비...\n",
       "3   2023-01-03 10:55:03  기업집단 신고, 온라인으로 쉽고 간편하게… ‘기업집단포털’ 개편기업들이 대기업집단 ...\n",
       "4   2023-01-03 11:17:35  고향사랑기부' 직접 해보니…10만원 내고 답례품 떡갈비 3팩(서울=연합뉴스) 김윤구...\n",
       "..                  ...                                                ...\n",
       "216 2023-01-06 16:09:03  군산 염불사서 화재…전북문화재는 무사6일 오후 1시 41분쯤 전북 군산의 염불사에서...\n",
       "217 2023-01-06 18:23:01  무인기 공방 격화…여 \"북과 내통\" vs 김병주 \"항적만 봐도 알아\"북한 무인기의 ...\n",
       "218 2023-01-06 18:24:24  카카오, 보상이라더니…한 달 후 자동 결제 '꼼수'카카오는 지난해 10월 데이터센터...\n",
       "219 2023-01-06 19:55:01  “아이들도 보는데”…‘국민 메신저’ 카카오 먹통 보상, 외설 논란“무슨 동아리도 아...\n",
       "220 2023-01-06 20:58:19  한 달 후 자동결제?…빛 바랜 '카카오 보상'지난해 10월, 카카오톡 먹통 사태에 ...\n",
       "\n",
       "[221 rows x 2 columns]"
      ]
     },
     "execution_count": 15,
     "metadata": {},
     "output_type": "execute_result"
    }
   ],
   "source": [
    "df_list[0]"
   ]
  },
  {
   "cell_type": "code",
   "execution_count": 16,
   "metadata": {},
   "outputs": [],
   "source": [
    "for i, df in enumerate(df_list):\n",
    "    bins = [0, 7.5, 12, 15, 24]\n",
    "    labels = ['_Closed', '_AM', '_PM', '_Closed']\n",
    "    period = pd.cut(df['Date'].dt.hour, bins=bins, labels=labels, include_lowest=True, ordered=False)\n",
    "    period[df['Date'].dt.day_of_week > 4] = '_Closed'\n",
    "    \n",
    "    date = df['Date'].dt.date.astype(str)\n",
    "    df['DayIndex'] = date.str.cat(period)\n",
    "    df = df.drop('Date', axis=1)\n",
    "    df = df.set_index('DayIndex')\n",
    "    df_list[i] = df\n",
    "\n",
    "df_article, df_community = df_list"
   ]
  },
  {
   "cell_type": "code",
   "execution_count": 17,
   "metadata": {},
   "outputs": [
    {
     "data": {
      "text/html": [
       "<div>\n",
       "<style scoped>\n",
       "    .dataframe tbody tr th:only-of-type {\n",
       "        vertical-align: middle;\n",
       "    }\n",
       "\n",
       "    .dataframe tbody tr th {\n",
       "        vertical-align: top;\n",
       "    }\n",
       "\n",
       "    .dataframe thead th {\n",
       "        text-align: right;\n",
       "    }\n",
       "</style>\n",
       "<table border=\"1\" class=\"dataframe\">\n",
       "  <thead>\n",
       "    <tr style=\"text-align: right;\">\n",
       "      <th></th>\n",
       "      <th>view</th>\n",
       "      <th>good</th>\n",
       "      <th>bad</th>\n",
       "      <th>text</th>\n",
       "    </tr>\n",
       "    <tr>\n",
       "      <th>DayIndex</th>\n",
       "      <th></th>\n",
       "      <th></th>\n",
       "      <th></th>\n",
       "      <th></th>\n",
       "    </tr>\n",
       "  </thead>\n",
       "  <tbody>\n",
       "    <tr>\n",
       "      <th>2022-10-13_Closed</th>\n",
       "      <td>127</td>\n",
       "      <td>1</td>\n",
       "      <td>1</td>\n",
       "      <td>신저가로 장마감 내일또 얼마나 처내릴까?카카오 자체에 대한 평가에서도 좋은 점을 찾...</td>\n",
       "    </tr>\n",
       "    <tr>\n",
       "      <th>2022-10-13_Closed</th>\n",
       "      <td>124</td>\n",
       "      <td>2</td>\n",
       "      <td>0</td>\n",
       "      <td>버디버디 싸이월드를 봐라해외에서 카카오쓴다는거봤노ㅋㅋ카카오는 한계가 명확하다야</td>\n",
       "    </tr>\n",
       "    <tr>\n",
       "      <th>2022-10-13_Closed</th>\n",
       "      <td>103</td>\n",
       "      <td>0</td>\n",
       "      <td>0</td>\n",
       "      <td>그쯤봤다ㅡ전신에 댓글적는 사람. 다~~~  못적게 하니...요즘 카카오 들어가는 사...</td>\n",
       "    </tr>\n",
       "    <tr>\n",
       "      <th>2022-10-13_Closed</th>\n",
       "      <td>255</td>\n",
       "      <td>1</td>\n",
       "      <td>0</td>\n",
       "      <td>카카오 주가 예상11월 초 4만 붕괴12월 말 3만 붕괴n이후 급등............</td>\n",
       "    </tr>\n",
       "    <tr>\n",
       "      <th>2022-10-13_Closed</th>\n",
       "      <td>143</td>\n",
       "      <td>2</td>\n",
       "      <td>0</td>\n",
       "      <td>그렇게 폭락하고 오늘 하루만에 5%처내린 송장주카카사다음카카삼 되는건 시간 문제</td>\n",
       "    </tr>\n",
       "  </tbody>\n",
       "</table>\n",
       "</div>"
      ],
      "text/plain": [
       "                   view  good  bad  \\\n",
       "DayIndex                             \n",
       "2022-10-13_Closed   127     1    1   \n",
       "2022-10-13_Closed   124     2    0   \n",
       "2022-10-13_Closed   103     0    0   \n",
       "2022-10-13_Closed   255     1    0   \n",
       "2022-10-13_Closed   143     2    0   \n",
       "\n",
       "                                                                text  \n",
       "DayIndex                                                              \n",
       "2022-10-13_Closed  신저가로 장마감 내일또 얼마나 처내릴까?카카오 자체에 대한 평가에서도 좋은 점을 찾...  \n",
       "2022-10-13_Closed        버디버디 싸이월드를 봐라해외에서 카카오쓴다는거봤노ㅋㅋ카카오는 한계가 명확하다야  \n",
       "2022-10-13_Closed  그쯤봤다ㅡ전신에 댓글적는 사람. 다~~~  못적게 하니...요즘 카카오 들어가는 사...  \n",
       "2022-10-13_Closed  카카오 주가 예상11월 초 4만 붕괴12월 말 3만 붕괴n이후 급등............  \n",
       "2022-10-13_Closed       그렇게 폭락하고 오늘 하루만에 5%처내린 송장주카카사다음카카삼 되는건 시간 문제  "
      ]
     },
     "execution_count": 17,
     "metadata": {},
     "output_type": "execute_result"
    }
   ],
   "source": [
    "df_community.head()"
   ]
  },
  {
   "attachments": {},
   "cell_type": "markdown",
   "metadata": {},
   "source": [
    "## Metric Index"
   ]
  },
  {
   "cell_type": "code",
   "execution_count": 18,
   "metadata": {},
   "outputs": [],
   "source": [
    "df_community['MetricIndex'] = (df_community['good'] - df_community['bad']) / df_community['view']\n"
   ]
  },
  {
   "cell_type": "code",
   "execution_count": 19,
   "metadata": {},
   "outputs": [],
   "source": [
    "df_article.to_excel('kakao-article-preprocessed.xlsx')\n",
    "df_community.to_excel('kakao-community-preprocessed.xlsx')"
   ]
  }
 ],
 "metadata": {
  "kernelspec": {
   "display_name": "Python 3",
   "language": "python",
   "name": "python3"
  },
  "language_info": {
   "codemirror_mode": {
    "name": "ipython",
    "version": 3
   },
   "file_extension": ".py",
   "mimetype": "text/x-python",
   "name": "python",
   "nbconvert_exporter": "python",
   "pygments_lexer": "ipython3",
   "version": "3.10.6 (main, Nov  2 2022, 18:53:38) [GCC 11.3.0]"
  },
  "orig_nbformat": 4,
  "vscode": {
   "interpreter": {
    "hash": "916dbcbb3f70747c44a77c7bcd40155683ae19c65e1c03b4aa3499c5328201f1"
   }
  }
 },
 "nbformat": 4,
 "nbformat_minor": 2
}
