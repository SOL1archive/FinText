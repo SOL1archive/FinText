{
 "cells": [
  {
   "cell_type": "code",
   "execution_count": 1,
   "metadata": {},
   "outputs": [],
   "source": [
    "import pandas as pd\n",
    "\n",
    "from sklearn.preprocessing import MinMaxScaler, StandardScaler"
   ]
  },
  {
   "cell_type": "code",
   "execution_count": 2,
   "metadata": {},
   "outputs": [
    {
     "data": {
      "text/html": [
       "<div>\n",
       "<style scoped>\n",
       "    .dataframe tbody tr th:only-of-type {\n",
       "        vertical-align: middle;\n",
       "    }\n",
       "\n",
       "    .dataframe tbody tr th {\n",
       "        vertical-align: top;\n",
       "    }\n",
       "\n",
       "    .dataframe thead th {\n",
       "        text-align: right;\n",
       "    }\n",
       "</style>\n",
       "<table border=\"1\" class=\"dataframe\">\n",
       "  <thead>\n",
       "    <tr style=\"text-align: right;\">\n",
       "      <th></th>\n",
       "      <th>Open</th>\n",
       "      <th>High</th>\n",
       "      <th>Low</th>\n",
       "      <th>Close</th>\n",
       "      <th>Date</th>\n",
       "    </tr>\n",
       "  </thead>\n",
       "  <tbody>\n",
       "    <tr>\n",
       "      <th>0</th>\n",
       "      <td>64300</td>\n",
       "      <td>64500</td>\n",
       "      <td>64000</td>\n",
       "      <td>64500</td>\n",
       "      <td>2023-01-16 15:00:00</td>\n",
       "    </tr>\n",
       "    <tr>\n",
       "      <th>1</th>\n",
       "      <td>64800</td>\n",
       "      <td>64800</td>\n",
       "      <td>64200</td>\n",
       "      <td>64300</td>\n",
       "      <td>2023-01-16 14:00:00</td>\n",
       "    </tr>\n",
       "    <tr>\n",
       "      <th>2</th>\n",
       "      <td>64400</td>\n",
       "      <td>64800</td>\n",
       "      <td>64000</td>\n",
       "      <td>64700</td>\n",
       "      <td>2023-01-16 13:00:00</td>\n",
       "    </tr>\n",
       "    <tr>\n",
       "      <th>3</th>\n",
       "      <td>64800</td>\n",
       "      <td>65000</td>\n",
       "      <td>64300</td>\n",
       "      <td>64300</td>\n",
       "      <td>2023-01-16 12:00:00</td>\n",
       "    </tr>\n",
       "    <tr>\n",
       "      <th>4</th>\n",
       "      <td>64200</td>\n",
       "      <td>64800</td>\n",
       "      <td>64100</td>\n",
       "      <td>64800</td>\n",
       "      <td>2023-01-16 11:00:00</td>\n",
       "    </tr>\n",
       "  </tbody>\n",
       "</table>\n",
       "</div>"
      ],
      "text/plain": [
       "    Open   High    Low  Close                Date\n",
       "0  64300  64500  64000  64500 2023-01-16 15:00:00\n",
       "1  64800  64800  64200  64300 2023-01-16 14:00:00\n",
       "2  64400  64800  64000  64700 2023-01-16 13:00:00\n",
       "3  64800  65000  64300  64300 2023-01-16 12:00:00\n",
       "4  64200  64800  64100  64800 2023-01-16 11:00:00"
      ]
     },
     "execution_count": 2,
     "metadata": {},
     "output_type": "execute_result"
    }
   ],
   "source": [
    "df = pd.read_excel('./kakao-market-price.xlsx')\n",
    "df = df.rename(columns={'Datetime(2022-10-13)': 'Date'})\n",
    "df.head()"
   ]
  },
  {
   "cell_type": "code",
   "execution_count": 5,
   "metadata": {},
   "outputs": [
    {
     "data": {
      "text/plain": [
       "(dtype('<M8[ns]'),\n",
       " dtype('int64'),\n",
       " dtype('int64'),\n",
       " dtype('int64'),\n",
       " dtype('int64'))"
      ]
     },
     "execution_count": 5,
     "metadata": {},
     "output_type": "execute_result"
    }
   ],
   "source": [
    "df['Date'].dtype, df['Open'].dtype, df['High'].dtype, df['Low'].dtype, df['Close'].dtype"
   ]
  },
  {
   "cell_type": "code",
   "execution_count": 7,
   "metadata": {},
   "outputs": [
    {
     "data": {
      "text/html": [
       "<div>\n",
       "<style scoped>\n",
       "    .dataframe tbody tr th:only-of-type {\n",
       "        vertical-align: middle;\n",
       "    }\n",
       "\n",
       "    .dataframe tbody tr th {\n",
       "        vertical-align: top;\n",
       "    }\n",
       "\n",
       "    .dataframe thead th {\n",
       "        text-align: right;\n",
       "    }\n",
       "</style>\n",
       "<table border=\"1\" class=\"dataframe\">\n",
       "  <thead>\n",
       "    <tr style=\"text-align: right;\">\n",
       "      <th></th>\n",
       "      <th>Open</th>\n",
       "      <th>High</th>\n",
       "      <th>Low</th>\n",
       "      <th>Close</th>\n",
       "      <th>Date</th>\n",
       "    </tr>\n",
       "  </thead>\n",
       "  <tbody>\n",
       "    <tr>\n",
       "      <th>0</th>\n",
       "      <td>49850</td>\n",
       "      <td>49850</td>\n",
       "      <td>49850</td>\n",
       "      <td>49850</td>\n",
       "      <td>2022-10-13 07:59:59.985</td>\n",
       "    </tr>\n",
       "    <tr>\n",
       "      <th>1</th>\n",
       "      <td>49450</td>\n",
       "      <td>49500</td>\n",
       "      <td>47300</td>\n",
       "      <td>48000</td>\n",
       "      <td>2022-10-13 08:59:59.990</td>\n",
       "    </tr>\n",
       "    <tr>\n",
       "      <th>2</th>\n",
       "      <td>48050</td>\n",
       "      <td>48150</td>\n",
       "      <td>47550</td>\n",
       "      <td>47850</td>\n",
       "      <td>2022-10-13 10:00:00.000</td>\n",
       "    </tr>\n",
       "    <tr>\n",
       "      <th>3</th>\n",
       "      <td>47800</td>\n",
       "      <td>47800</td>\n",
       "      <td>47400</td>\n",
       "      <td>47500</td>\n",
       "      <td>2022-10-13 11:00:00.000</td>\n",
       "    </tr>\n",
       "    <tr>\n",
       "      <th>4</th>\n",
       "      <td>47550</td>\n",
       "      <td>48200</td>\n",
       "      <td>47450</td>\n",
       "      <td>47900</td>\n",
       "      <td>2022-10-13 12:00:00.005</td>\n",
       "    </tr>\n",
       "  </tbody>\n",
       "</table>\n",
       "</div>"
      ],
      "text/plain": [
       "    Open   High    Low  Close                    Date\n",
       "0  49850  49850  49850  49850 2022-10-13 07:59:59.985\n",
       "1  49450  49500  47300  48000 2022-10-13 08:59:59.990\n",
       "2  48050  48150  47550  47850 2022-10-13 10:00:00.000\n",
       "3  47800  47800  47400  47500 2022-10-13 11:00:00.000\n",
       "4  47550  48200  47450  47900 2022-10-13 12:00:00.005"
      ]
     },
     "execution_count": 7,
     "metadata": {},
     "output_type": "execute_result"
    }
   ],
   "source": [
    "# Reverse & Set 'Date' to index\n",
    "df = df.iloc[::-1].reset_index().drop('index', axis=1)\n",
    "df.head()"
   ]
  },
  {
   "cell_type": "code",
   "execution_count": 8,
   "metadata": {},
   "outputs": [
    {
     "data": {
      "text/plain": [
       "array([ 7,  8, 10, 11, 12, 13, 14, 15,  9])"
      ]
     },
     "execution_count": 8,
     "metadata": {},
     "output_type": "execute_result"
    }
   ],
   "source": [
    "df['Date'].dt.hour.unique()"
   ]
  },
  {
   "cell_type": "code",
   "execution_count": 9,
   "metadata": {},
   "outputs": [
    {
     "data": {
      "text/html": [
       "<div>\n",
       "<style scoped>\n",
       "    .dataframe tbody tr th:only-of-type {\n",
       "        vertical-align: middle;\n",
       "    }\n",
       "\n",
       "    .dataframe tbody tr th {\n",
       "        vertical-align: top;\n",
       "    }\n",
       "\n",
       "    .dataframe thead th {\n",
       "        text-align: right;\n",
       "    }\n",
       "</style>\n",
       "<table border=\"1\" class=\"dataframe\">\n",
       "  <thead>\n",
       "    <tr style=\"text-align: right;\">\n",
       "      <th></th>\n",
       "      <th>Open</th>\n",
       "      <th>High</th>\n",
       "      <th>Low</th>\n",
       "      <th>Close</th>\n",
       "      <th>Date</th>\n",
       "      <th>DayIndex</th>\n",
       "    </tr>\n",
       "  </thead>\n",
       "  <tbody>\n",
       "    <tr>\n",
       "      <th>0</th>\n",
       "      <td>49850</td>\n",
       "      <td>49850</td>\n",
       "      <td>49850</td>\n",
       "      <td>49850</td>\n",
       "      <td>2022-10-13 07:59:59.985</td>\n",
       "      <td>2022-10-13_AM</td>\n",
       "    </tr>\n",
       "    <tr>\n",
       "      <th>1</th>\n",
       "      <td>49450</td>\n",
       "      <td>49500</td>\n",
       "      <td>47300</td>\n",
       "      <td>48000</td>\n",
       "      <td>2022-10-13 08:59:59.990</td>\n",
       "      <td>2022-10-13_AM</td>\n",
       "    </tr>\n",
       "    <tr>\n",
       "      <th>2</th>\n",
       "      <td>48050</td>\n",
       "      <td>48150</td>\n",
       "      <td>47550</td>\n",
       "      <td>47850</td>\n",
       "      <td>2022-10-13 10:00:00.000</td>\n",
       "      <td>2022-10-13_AM</td>\n",
       "    </tr>\n",
       "    <tr>\n",
       "      <th>3</th>\n",
       "      <td>47800</td>\n",
       "      <td>47800</td>\n",
       "      <td>47400</td>\n",
       "      <td>47500</td>\n",
       "      <td>2022-10-13 11:00:00.000</td>\n",
       "      <td>2022-10-13_AM</td>\n",
       "    </tr>\n",
       "    <tr>\n",
       "      <th>4</th>\n",
       "      <td>47550</td>\n",
       "      <td>48200</td>\n",
       "      <td>47450</td>\n",
       "      <td>47900</td>\n",
       "      <td>2022-10-13 12:00:00.005</td>\n",
       "      <td>2022-10-13_AM</td>\n",
       "    </tr>\n",
       "  </tbody>\n",
       "</table>\n",
       "</div>"
      ],
      "text/plain": [
       "    Open   High    Low  Close                    Date       DayIndex\n",
       "0  49850  49850  49850  49850 2022-10-13 07:59:59.985  2022-10-13_AM\n",
       "1  49450  49500  47300  48000 2022-10-13 08:59:59.990  2022-10-13_AM\n",
       "2  48050  48150  47550  47850 2022-10-13 10:00:00.000  2022-10-13_AM\n",
       "3  47800  47800  47400  47500 2022-10-13 11:00:00.000  2022-10-13_AM\n",
       "4  47550  48200  47450  47900 2022-10-13 12:00:00.005  2022-10-13_AM"
      ]
     },
     "execution_count": 9,
     "metadata": {},
     "output_type": "execute_result"
    }
   ],
   "source": [
    "date = df['Date'].dt.date.astype(str)\n",
    "bins = [0, 6.5, 12, 15, 24]\n",
    "labels = ['_Closed', '_AM', '_PM', '_Closed']\n",
    "period = pd.cut(df['Date'].dt.hour, bins=bins, labels=labels, include_lowest=True, ordered=False)\n",
    "\n",
    "df['DayIndex'] = date.str.cat(period)\n",
    "df.set_index('DayIndex')\n",
    "df.head()"
   ]
  },
  {
   "cell_type": "code",
   "execution_count": 11,
   "metadata": {},
   "outputs": [
    {
     "data": {
      "text/plain": [
       "['_AM', '_PM']\n",
       "Categories (3, object): ['_AM', '_Closed', '_PM']"
      ]
     },
     "execution_count": 11,
     "metadata": {},
     "output_type": "execute_result"
    }
   ],
   "source": [
    "period.unique()"
   ]
  },
  {
   "cell_type": "code",
   "execution_count": 12,
   "metadata": {},
   "outputs": [
    {
     "data": {
      "text/html": [
       "<div>\n",
       "<style scoped>\n",
       "    .dataframe tbody tr th:only-of-type {\n",
       "        vertical-align: middle;\n",
       "    }\n",
       "\n",
       "    .dataframe tbody tr th {\n",
       "        vertical-align: top;\n",
       "    }\n",
       "\n",
       "    .dataframe thead th {\n",
       "        text-align: right;\n",
       "    }\n",
       "</style>\n",
       "<table border=\"1\" class=\"dataframe\">\n",
       "  <thead>\n",
       "    <tr style=\"text-align: right;\">\n",
       "      <th></th>\n",
       "      <th>DayIndex</th>\n",
       "      <th>Open</th>\n",
       "      <th>High</th>\n",
       "      <th>Low</th>\n",
       "      <th>Close</th>\n",
       "    </tr>\n",
       "  </thead>\n",
       "  <tbody>\n",
       "    <tr>\n",
       "      <th>0</th>\n",
       "      <td>2022-10-13_AM</td>\n",
       "      <td>49850</td>\n",
       "      <td>49850</td>\n",
       "      <td>47300</td>\n",
       "      <td>47900</td>\n",
       "    </tr>\n",
       "    <tr>\n",
       "      <th>1</th>\n",
       "      <td>2022-10-13_PM</td>\n",
       "      <td>47850</td>\n",
       "      <td>48100</td>\n",
       "      <td>47300</td>\n",
       "      <td>43700</td>\n",
       "    </tr>\n",
       "    <tr>\n",
       "      <th>2</th>\n",
       "      <td>2022-10-14_AM</td>\n",
       "      <td>49050</td>\n",
       "      <td>51300</td>\n",
       "      <td>49050</td>\n",
       "      <td>50900</td>\n",
       "    </tr>\n",
       "    <tr>\n",
       "      <th>3</th>\n",
       "      <td>2022-10-14_PM</td>\n",
       "      <td>51000</td>\n",
       "      <td>51500</td>\n",
       "      <td>50800</td>\n",
       "      <td>51400</td>\n",
       "    </tr>\n",
       "    <tr>\n",
       "      <th>4</th>\n",
       "      <td>2022-10-17_AM</td>\n",
       "      <td>51400</td>\n",
       "      <td>51400</td>\n",
       "      <td>46550</td>\n",
       "      <td>48750</td>\n",
       "    </tr>\n",
       "  </tbody>\n",
       "</table>\n",
       "</div>"
      ],
      "text/plain": [
       "        DayIndex   Open   High    Low  Close\n",
       "0  2022-10-13_AM  49850  49850  47300  47900\n",
       "1  2022-10-13_PM  47850  48100  47300  43700\n",
       "2  2022-10-14_AM  49050  51300  49050  50900\n",
       "3  2022-10-14_PM  51000  51500  50800  51400\n",
       "4  2022-10-17_AM  51400  51400  46550  48750"
      ]
     },
     "execution_count": 12,
     "metadata": {},
     "output_type": "execute_result"
    }
   ],
   "source": [
    "group = df.groupby('DayIndex', as_index=False)\n",
    "new_df = group['Open'].first()\n",
    "new_df['High'] = group['High'].max()['High']\n",
    "new_df['Low'] = group['Low'].min()['Low']\n",
    "new_df['Close'] = group['Close'].last()['Close']\n",
    "new_df.set_index('DayIndex')\n",
    "new_df.head()"
   ]
  },
  {
   "cell_type": "code",
   "execution_count": 13,
   "metadata": {},
   "outputs": [
    {
     "data": {
      "text/html": [
       "<div>\n",
       "<style scoped>\n",
       "    .dataframe tbody tr th:only-of-type {\n",
       "        vertical-align: middle;\n",
       "    }\n",
       "\n",
       "    .dataframe tbody tr th {\n",
       "        vertical-align: top;\n",
       "    }\n",
       "\n",
       "    .dataframe thead th {\n",
       "        text-align: right;\n",
       "    }\n",
       "</style>\n",
       "<table border=\"1\" class=\"dataframe\">\n",
       "  <thead>\n",
       "    <tr style=\"text-align: right;\">\n",
       "      <th></th>\n",
       "      <th>Open</th>\n",
       "      <th>High</th>\n",
       "      <th>Low</th>\n",
       "      <th>Close</th>\n",
       "    </tr>\n",
       "  </thead>\n",
       "  <tbody>\n",
       "    <tr>\n",
       "      <th>0</th>\n",
       "      <td>49850</td>\n",
       "      <td>49850</td>\n",
       "      <td>47300</td>\n",
       "      <td>47900</td>\n",
       "    </tr>\n",
       "    <tr>\n",
       "      <th>1</th>\n",
       "      <td>47850</td>\n",
       "      <td>48100</td>\n",
       "      <td>47300</td>\n",
       "      <td>43700</td>\n",
       "    </tr>\n",
       "    <tr>\n",
       "      <th>2</th>\n",
       "      <td>49050</td>\n",
       "      <td>51300</td>\n",
       "      <td>49050</td>\n",
       "      <td>50900</td>\n",
       "    </tr>\n",
       "    <tr>\n",
       "      <th>3</th>\n",
       "      <td>51000</td>\n",
       "      <td>51500</td>\n",
       "      <td>50800</td>\n",
       "      <td>51400</td>\n",
       "    </tr>\n",
       "    <tr>\n",
       "      <th>4</th>\n",
       "      <td>51400</td>\n",
       "      <td>51400</td>\n",
       "      <td>46550</td>\n",
       "      <td>48750</td>\n",
       "    </tr>\n",
       "  </tbody>\n",
       "</table>\n",
       "</div>"
      ],
      "text/plain": [
       "    Open   High    Low  Close\n",
       "0  49850  49850  47300  47900\n",
       "1  47850  48100  47300  43700\n",
       "2  49050  51300  49050  50900\n",
       "3  51000  51500  50800  51400\n",
       "4  51400  51400  46550  48750"
      ]
     },
     "execution_count": 13,
     "metadata": {},
     "output_type": "execute_result"
    }
   ],
   "source": [
    "new_df[['Open', 'High', 'Low', 'Close']].head()"
   ]
  },
  {
   "cell_type": "code",
   "execution_count": 14,
   "metadata": {},
   "outputs": [],
   "source": [
    "eval_vector = new_df[['Open', 'High', 'Low', 'Close']].to_numpy().reshape(-1, 1)\n",
    "#scaler = StandardScaler().fit(eval_vector)\n",
    "# 일반적으로 시계열 데이터는 MinMaxScaling 이 적절하므로, MinMaxScaling을 적용함.\n",
    "scaler = MinMaxScaler().fit(eval_vector)"
   ]
  },
  {
   "cell_type": "code",
   "execution_count": 15,
   "metadata": {},
   "outputs": [
    {
     "data": {
      "text/html": [
       "<div>\n",
       "<style scoped>\n",
       "    .dataframe tbody tr th:only-of-type {\n",
       "        vertical-align: middle;\n",
       "    }\n",
       "\n",
       "    .dataframe tbody tr th {\n",
       "        vertical-align: top;\n",
       "    }\n",
       "\n",
       "    .dataframe thead th {\n",
       "        text-align: right;\n",
       "    }\n",
       "</style>\n",
       "<table border=\"1\" class=\"dataframe\">\n",
       "  <thead>\n",
       "    <tr style=\"text-align: right;\">\n",
       "      <th></th>\n",
       "      <th>DayIndex</th>\n",
       "      <th>Open</th>\n",
       "      <th>High</th>\n",
       "      <th>Low</th>\n",
       "      <th>Close</th>\n",
       "    </tr>\n",
       "  </thead>\n",
       "  <tbody>\n",
       "    <tr>\n",
       "      <th>0</th>\n",
       "      <td>2022-10-13_AM</td>\n",
       "      <td>0.748025</td>\n",
       "      <td>0.748025</td>\n",
       "      <td>0.705613</td>\n",
       "      <td>0.715593</td>\n",
       "    </tr>\n",
       "    <tr>\n",
       "      <th>1</th>\n",
       "      <td>2022-10-13_PM</td>\n",
       "      <td>0.714761</td>\n",
       "      <td>0.718919</td>\n",
       "      <td>0.705613</td>\n",
       "      <td>0.645738</td>\n",
       "    </tr>\n",
       "    <tr>\n",
       "      <th>2</th>\n",
       "      <td>2022-10-14_AM</td>\n",
       "      <td>0.734719</td>\n",
       "      <td>0.772141</td>\n",
       "      <td>0.734719</td>\n",
       "      <td>0.765489</td>\n",
       "    </tr>\n",
       "    <tr>\n",
       "      <th>3</th>\n",
       "      <td>2022-10-14_PM</td>\n",
       "      <td>0.767152</td>\n",
       "      <td>0.775468</td>\n",
       "      <td>0.763825</td>\n",
       "      <td>0.773805</td>\n",
       "    </tr>\n",
       "    <tr>\n",
       "      <th>4</th>\n",
       "      <td>2022-10-17_AM</td>\n",
       "      <td>0.773805</td>\n",
       "      <td>0.773805</td>\n",
       "      <td>0.693139</td>\n",
       "      <td>0.729730</td>\n",
       "    </tr>\n",
       "  </tbody>\n",
       "</table>\n",
       "</div>"
      ],
      "text/plain": [
       "        DayIndex      Open      High       Low     Close\n",
       "0  2022-10-13_AM  0.748025  0.748025  0.705613  0.715593\n",
       "1  2022-10-13_PM  0.714761  0.718919  0.705613  0.645738\n",
       "2  2022-10-14_AM  0.734719  0.772141  0.734719  0.765489\n",
       "3  2022-10-14_PM  0.767152  0.775468  0.763825  0.773805\n",
       "4  2022-10-17_AM  0.773805  0.773805  0.693139  0.729730"
      ]
     },
     "execution_count": 15,
     "metadata": {},
     "output_type": "execute_result"
    }
   ],
   "source": [
    "new_df['Open'] = scaler.transform(new_df['Open'].to_numpy().reshape(-1, 1))\n",
    "new_df['High'] = scaler.transform(new_df['High'].to_numpy().reshape(-1, 1))\n",
    "new_df['Low'] = scaler.transform(new_df['Low'].to_numpy().reshape(-1, 1))\n",
    "new_df['Close'] = scaler.transform(new_df['Close'].to_numpy().reshape(-1, 1))\n",
    "new_df.head()"
   ]
  },
  {
   "cell_type": "code",
   "execution_count": 18,
   "metadata": {},
   "outputs": [],
   "source": [
    "new_df.to_excel('kakao-stock-preprocessed.xlsx')"
   ]
  }
 ],
 "metadata": {
  "kernelspec": {
   "display_name": "Python 3",
   "language": "python",
   "name": "python3"
  },
  "language_info": {
   "codemirror_mode": {
    "name": "ipython",
    "version": 3
   },
   "file_extension": ".py",
   "mimetype": "text/x-python",
   "name": "python",
   "nbconvert_exporter": "python",
   "pygments_lexer": "ipython3",
   "version": "3.10.6"
  },
  "orig_nbformat": 4,
  "vscode": {
   "interpreter": {
    "hash": "916dbcbb3f70747c44a77c7bcd40155683ae19c65e1c03b4aa3499c5328201f1"
   }
  }
 },
 "nbformat": 4,
 "nbformat_minor": 2
}
